{
 "cells": [
  {
   "cell_type": "markdown",
   "metadata": {
    "id": "DfsjDevNfPdK"
   },
   "source": [
    "#  Introducción a Python "
   ]
  },
  {
   "cell_type": "markdown",
   "metadata": {
    "id": "G76jmCVJfPdQ"
   },
   "source": [
    "### 1.1 Tipos y Funciones Predefinidas"
   ]
  },
  {
   "cell_type": "markdown",
   "metadata": {
    "id": "MmXKT-AKfPdT"
   },
   "source": [
    "Python tiene integrado distintos tipos de datos con los cuales se pueden interacturar. Estos son los más comunes:\n",
    "\n",
    "| Tipo | Descripción |\n",
    "| ---- | ----------- |\n",
    "| ``int`` | Número Entero |\n",
    "| ``float`` | Número Flotante |\n",
    "| ``bool`` | Un valor booleano (True or False) |\n",
    "| ``str`` | Un texto o carácter |\n",
    "| ``bytes`` | Una secuencia de bytes |\n",
    "| ``complex`` | Número complejo |\n",
    "| ``list`` | Una lista de objetos |\n",
    "| ``tuple`` | Una secuencia de objetos inmutables | \n",
    "| ``dict`` | Un diccionario (Key and value pairs) | \n",
    "| ``set`` | Un set de objetos |\n",
    "\n",
    "\n",
    "Python también incluye algunas funciones que pueden ser de utilidad, no es necesario importar librerias para utilizarlas.\n",
    "\n",
    "| Función | Descripción |\n",
    "| ---- | ----------- |\n",
    "| ``abs(x)`` | Valor absoluto de x |\n",
    "| ``sum(x)`` | Suma de objetos |\n",
    "| ``max(*args)`` | Valor máximo |\n",
    "| ``min(*args)`` | Valor mínimo |\n",
    "| ``len(x)`` | Conteo de objetos |\n",
    "| ``type(x)`` | Tipo de una variables |\n",
    "| ``print(*args)`` | Imprimir en pantalla un string"
   ]
  },
  {
   "cell_type": "markdown",
   "metadata": {
    "id": "5vPMM0pgfPdW"
   },
   "source": [
    "Veamos algunos ejemplos:"
   ]
  },
  {
   "cell_type": "code",
   "execution_count": null,
   "metadata": {
    "colab": {
     "base_uri": "https://localhost:8080/"
    },
    "id": "CZAKARY2fPdZ",
    "outputId": "74ae9352-1cb5-4920-929d-233b0d493f2d"
   },
   "outputs": [],
   "source": [
    "#Enteros\n",
    "\n",
    "a = 5\n",
    "type(a)"
   ]
  },
  {
   "cell_type": "code",
   "execution_count": null,
   "metadata": {
    "colab": {
     "base_uri": "https://localhost:8080/"
    },
    "id": "QxKsmdmNfPdr",
    "outputId": "7feb8f0f-576f-49eb-878f-bfbaaac3917d"
   },
   "outputs": [],
   "source": [
    "#Flotantes\n",
    "\n",
    "a = 5.6\n",
    "print(a)"
   ]
  },
  {
   "cell_type": "code",
   "execution_count": null,
   "metadata": {
    "colab": {
     "base_uri": "https://localhost:8080/"
    },
    "id": "WPOV24HQfPd2",
    "outputId": "e3fde94b-f4bc-4f32-d611-3c049217a62b"
   },
   "outputs": [],
   "source": [
    "#Boolean\n",
    "\n",
    "a = True\n",
    "b = False\n",
    "\n",
    "print(type(a))\n",
    "print(type(b))\n"
   ]
  },
  {
   "cell_type": "code",
   "execution_count": null,
   "metadata": {},
   "outputs": [],
   "source": [
    "type(a) == str"
   ]
  },
  {
   "cell_type": "code",
   "execution_count": null,
   "metadata": {},
   "outputs": [],
   "source": [
    "#String\n",
    "\n",
    "a = \"hello world\"\n",
    "\n",
    "print(a)"
   ]
  },
  {
   "cell_type": "code",
   "execution_count": null,
   "metadata": {},
   "outputs": [],
   "source": [
    "abs(5)"
   ]
  },
  {
   "cell_type": "code",
   "execution_count": null,
   "metadata": {},
   "outputs": [],
   "source": [
    "min(5,2,6,)"
   ]
  },
  {
   "cell_type": "code",
   "execution_count": null,
   "metadata": {},
   "outputs": [],
   "source": [
    "max(5,8,9,10)"
   ]
  },
  {
   "cell_type": "code",
   "execution_count": null,
   "metadata": {},
   "outputs": [],
   "source": [
    "valor_max = max(3,4,5)\n",
    "print(valor_max)"
   ]
  },
  {
   "cell_type": "code",
   "execution_count": null,
   "metadata": {},
   "outputs": [],
   "source": [
    "print(len('hello world'))"
   ]
  },
  {
   "cell_type": "code",
   "execution_count": null,
   "metadata": {},
   "outputs": [],
   "source": [
    "help(len)"
   ]
  },
  {
   "cell_type": "code",
   "execution_count": 3,
   "metadata": {},
   "outputs": [],
   "source": [
    "a = 5\n",
    "b = 8"
   ]
  },
  {
   "cell_type": "code",
   "execution_count": 4,
   "metadata": {},
   "outputs": [
    {
     "name": "stdout",
     "output_type": "stream",
     "text": [
      "8\n"
     ]
    }
   ],
   "source": [
    "valor_max = max(a,b)\n",
    "print(valor_max)"
   ]
  },
  {
   "cell_type": "code",
   "execution_count": 6,
   "metadata": {},
   "outputs": [
    {
     "data": {
      "text/plain": [
       "True"
      ]
     },
     "execution_count": 6,
     "metadata": {},
     "output_type": "execute_result"
    }
   ],
   "source": [
    "a < b"
   ]
  },
  {
   "cell_type": "markdown",
   "metadata": {
    "id": "FKLK7FsmfPfB"
   },
   "source": [
    "\n",
    "### 1.2 Operaciones Numericas\n",
    "\n",
    "Python permite realizar distintas operaciones numericas entre los distintos tipos de datos, las más comunes son las siguientes:\n",
    "\n",
    "| Operación | Significado       |\n",
    "| --------- | --------------- |\n",
    "|    +      | Suma            |\n",
    "|    -      | Resta           |\n",
    "|    *      | Producto  |\n",
    "|    /      | División        |\n",
    "|    \\*\\*   | Potencia        |\n",
    "\n",
    "Veamos ejemplos:"
   ]
  },
  {
   "cell_type": "markdown",
   "metadata": {
    "id": "OufyEz9dfPgd"
   },
   "source": [
    "### 1.3 Listas"
   ]
  },
  {
   "cell_type": "markdown",
   "metadata": {
    "id": "MTZFMsi3fPgf"
   },
   "source": [
    "Las listas de Python son un ejemplo de objeto iterable. Se definen usando \" [ \"     \" ] \" y pueden tener todo tipo de objetos."
   ]
  },
  {
   "cell_type": "code",
   "execution_count": 21,
   "metadata": {},
   "outputs": [],
   "source": [
    "lst = [-1,0,15,2,40,10,-2,1000]"
   ]
  },
  {
   "cell_type": "markdown",
   "metadata": {
    "id": "TWeob9D2fPgt"
   },
   "source": [
    "Una de las principales utilidades de las listas (y de casi todos los objetos iterables de Python) es poder extraer objetos a partir de su posición. Nota: Los índices de Python empiezan en 0."
   ]
  },
  {
   "cell_type": "code",
   "execution_count": 9,
   "metadata": {},
   "outputs": [
    {
     "data": {
      "text/plain": [
       "40"
      ]
     },
     "execution_count": 9,
     "metadata": {},
     "output_type": "execute_result"
    }
   ],
   "source": [
    "lst[4]"
   ]
  },
  {
   "cell_type": "code",
   "execution_count": 11,
   "metadata": {},
   "outputs": [
    {
     "data": {
      "text/plain": [
       "1000"
      ]
     },
     "execution_count": 11,
     "metadata": {},
     "output_type": "execute_result"
    }
   ],
   "source": [
    "lst[-1]"
   ]
  },
  {
   "cell_type": "code",
   "execution_count": 12,
   "metadata": {},
   "outputs": [
    {
     "data": {
      "text/plain": [
       "8"
      ]
     },
     "execution_count": 12,
     "metadata": {},
     "output_type": "execute_result"
    }
   ],
   "source": [
    "len(lst)"
   ]
  },
  {
   "cell_type": "code",
   "execution_count": 14,
   "metadata": {},
   "outputs": [
    {
     "data": {
      "text/plain": [
       "[15, 2, 40]"
      ]
     },
     "execution_count": 14,
     "metadata": {},
     "output_type": "execute_result"
    }
   ],
   "source": [
    "lst[2:4]"
   ]
  },
  {
   "cell_type": "code",
   "execution_count": 16,
   "metadata": {},
   "outputs": [
    {
     "data": {
      "text/plain": [
       "[-1, 0, 15, 2, 40, 10, 7, 1000]"
      ]
     },
     "execution_count": 16,
     "metadata": {},
     "output_type": "execute_result"
    }
   ],
   "source": [
    "lst[6] = 7\n",
    "lst"
   ]
  },
  {
   "cell_type": "code",
   "execution_count": 24,
   "metadata": {},
   "outputs": [
    {
     "data": {
      "text/plain": [
       "[-1, 0, 5, 6, 7, 8, 40, 10, -2, 1000]"
      ]
     },
     "execution_count": 24,
     "metadata": {},
     "output_type": "execute_result"
    }
   ],
   "source": [
    "lst[2:4] = [5,6,7,8]\n",
    "lst"
   ]
  },
  {
   "cell_type": "code",
   "execution_count": 25,
   "metadata": {},
   "outputs": [
    {
     "data": {
      "text/plain": [
       "[-1, 'Manuela', 5, 6, 7, 8, 40, 10, -2, 1000]"
      ]
     },
     "execution_count": 25,
     "metadata": {},
     "output_type": "execute_result"
    }
   ],
   "source": [
    "lst[1] = 'Manuela'\n",
    "lst"
   ]
  },
  {
   "cell_type": "code",
   "execution_count": 26,
   "metadata": {},
   "outputs": [
    {
     "data": {
      "text/plain": [
       "10"
      ]
     },
     "execution_count": 26,
     "metadata": {},
     "output_type": "execute_result"
    }
   ],
   "source": [
    "len(lst)"
   ]
  },
  {
   "cell_type": "markdown",
   "metadata": {
    "id": "kVZwCXc_fPhG"
   },
   "source": [
    "Si superamos el tamaño de la lista Python va a imprimir un error."
   ]
  },
  {
   "cell_type": "code",
   "execution_count": 23,
   "metadata": {
    "colab": {
     "base_uri": "https://localhost:8080/",
     "height": 167
    },
    "id": "1QuxRqVufPhJ",
    "outputId": "4aa58704-5656-41cd-80ae-cea327e9d6cd"
   },
   "outputs": [
    {
     "ename": "IndexError",
     "evalue": "list index out of range",
     "output_type": "error",
     "traceback": [
      "\u001b[1;31m---------------------------------------------------------------------------\u001b[0m",
      "\u001b[1;31mIndexError\u001b[0m                                Traceback (most recent call last)",
      "\u001b[1;32mC:\\Users\\IDEAPA~1\\AppData\\Local\\Temp/ipykernel_31324/2443861671.py\u001b[0m in \u001b[0;36m<module>\u001b[1;34m\u001b[0m\n\u001b[1;32m----> 1\u001b[1;33m \u001b[0mlst\u001b[0m\u001b[1;33m[\u001b[0m\u001b[1;36m20\u001b[0m\u001b[1;33m]\u001b[0m\u001b[1;33m\u001b[0m\u001b[1;33m\u001b[0m\u001b[0m\n\u001b[0m",
      "\u001b[1;31mIndexError\u001b[0m: list index out of range"
     ]
    }
   ],
   "source": [
    "lst[20]"
   ]
  },
  {
   "cell_type": "markdown",
   "metadata": {
    "id": "TXsaHNvDfPhV"
   },
   "source": [
    "Podemos acceder a las últimas posiciones usando indices negativos (-1)."
   ]
  },
  {
   "cell_type": "code",
   "execution_count": 27,
   "metadata": {
    "colab": {
     "base_uri": "https://localhost:8080/"
    },
    "id": "GqmIUDhxg-BX",
    "outputId": "f8b6159e-b269-4666-e46b-44b06efe73d2"
   },
   "outputs": [
    {
     "data": {
      "text/plain": [
       "40"
      ]
     },
     "execution_count": 27,
     "metadata": {},
     "output_type": "execute_result"
    }
   ],
   "source": [
    "lst[-4]"
   ]
  },
  {
   "cell_type": "markdown",
   "metadata": {
    "id": "oqpZURakfPhm"
   },
   "source": [
    "Las listas son modificables."
   ]
  },
  {
   "cell_type": "code",
   "execution_count": null,
   "metadata": {
    "id": "SY0jDa4JfPho"
   },
   "outputs": [],
   "source": [
    "lst[2:4] = [5,6,7,8]"
   ]
  },
  {
   "cell_type": "markdown",
   "metadata": {
    "id": "Hu-C2ZUZfPh7"
   },
   "source": [
    "Podemos extraer fragmentos de las listas. Esta es una de las utilidades mas poderosas que tiene Python."
   ]
  },
  {
   "cell_type": "code",
   "execution_count": 29,
   "metadata": {
    "id": "EFPXG1jmaHx4"
   },
   "outputs": [
    {
     "data": {
      "text/plain": [
       "[-1, 'Manuela', 5, 6, 7, 8, 40, 10, -2, 1000]"
      ]
     },
     "execution_count": 29,
     "metadata": {},
     "output_type": "execute_result"
    }
   ],
   "source": [
    "lst[::]\n",
    "lst"
   ]
  },
  {
   "cell_type": "code",
   "execution_count": 30,
   "metadata": {},
   "outputs": [
    {
     "data": {
      "text/plain": [
       "[5, 6, 7, 8, 40, 10, -2, 1000]"
      ]
     },
     "execution_count": 30,
     "metadata": {},
     "output_type": "execute_result"
    }
   ],
   "source": [
    "lst[2:] #Desde la posición 2 hasta el final"
   ]
  },
  {
   "cell_type": "code",
   "execution_count": 31,
   "metadata": {},
   "outputs": [
    {
     "data": {
      "text/plain": [
       "[-1, 'Manuela']"
      ]
     },
     "execution_count": 31,
     "metadata": {},
     "output_type": "execute_result"
    }
   ],
   "source": [
    "lst[:2] #Desde el inicio hasta la posición 2"
   ]
  },
  {
   "cell_type": "markdown",
   "metadata": {
    "id": "MzitVIvdfPib"
   },
   "source": [
    "Funciona también con valores negativos."
   ]
  },
  {
   "cell_type": "code",
   "execution_count": 32,
   "metadata": {
    "id": "cXN_W-8OIC8Q"
   },
   "outputs": [
    {
     "data": {
      "text/plain": [
       "['Manuela', 5, 6, 7, 8, 40, 10, -2]"
      ]
     },
     "execution_count": 32,
     "metadata": {},
     "output_type": "execute_result"
    }
   ],
   "source": [
    "lst[1:-1]"
   ]
  },
  {
   "cell_type": "code",
   "execution_count": 33,
   "metadata": {},
   "outputs": [
    {
     "data": {
      "text/plain": [
       "['Manuela', 5, 6, 7, 8]"
      ]
     },
     "execution_count": 33,
     "metadata": {},
     "output_type": "execute_result"
    }
   ],
   "source": [
    "lst[1:-4]"
   ]
  },
  {
   "cell_type": "markdown",
   "metadata": {
    "id": "sWBwiZepfPi1"
   },
   "source": [
    "También podemos usar la notación [a:b:c] donde c es cada cuantos pasos se quiere."
   ]
  },
  {
   "cell_type": "code",
   "execution_count": 34,
   "metadata": {},
   "outputs": [
    {
     "data": {
      "text/plain": [
       "[-1, 'Manuela', 5, 6, 7, 8, 40, 10, -2, 1000]"
      ]
     },
     "execution_count": 34,
     "metadata": {},
     "output_type": "execute_result"
    }
   ],
   "source": [
    "lst"
   ]
  },
  {
   "cell_type": "code",
   "execution_count": 35,
   "metadata": {},
   "outputs": [
    {
     "data": {
      "text/plain": [
       "[-1, 5, 7, 40, -2]"
      ]
     },
     "execution_count": 35,
     "metadata": {},
     "output_type": "execute_result"
    }
   ],
   "source": [
    "lst[::2]"
   ]
  },
  {
   "cell_type": "code",
   "execution_count": null,
   "metadata": {},
   "outputs": [],
   "source": [
    "'Manuela', 7, 10"
   ]
  },
  {
   "cell_type": "code",
   "execution_count": 39,
   "metadata": {},
   "outputs": [
    {
     "data": {
      "text/plain": [
       "['Manuela', 7]"
      ]
     },
     "execution_count": 39,
     "metadata": {},
     "output_type": "execute_result"
    }
   ],
   "source": [
    "lst[1:5:3]"
   ]
  },
  {
   "cell_type": "markdown",
   "metadata": {
    "id": "GrbDuSvTfPjL"
   },
   "source": [
    "Se puede operar con las listas."
   ]
  },
  {
   "cell_type": "code",
   "execution_count": 40,
   "metadata": {
    "id": "eDOaK74lfPjN"
   },
   "outputs": [
    {
     "data": {
      "text/plain": [
       "[1, 2, 3, 4, 5]"
      ]
     },
     "execution_count": 40,
     "metadata": {},
     "output_type": "execute_result"
    }
   ],
   "source": [
    "[1,2,3] + [4,5]"
   ]
  },
  {
   "cell_type": "code",
   "execution_count": 41,
   "metadata": {},
   "outputs": [
    {
     "data": {
      "text/plain": [
       "[1, 2, 3, 1, 2, 3, 1, 2, 3]"
      ]
     },
     "execution_count": 41,
     "metadata": {},
     "output_type": "execute_result"
    }
   ],
   "source": [
    "[1,2,3] * 3"
   ]
  },
  {
   "cell_type": "code",
   "execution_count": 42,
   "metadata": {},
   "outputs": [
    {
     "ename": "TypeError",
     "evalue": "unsupported operand type(s) for -: 'list' and 'list'",
     "output_type": "error",
     "traceback": [
      "\u001b[1;31m---------------------------------------------------------------------------\u001b[0m",
      "\u001b[1;31mTypeError\u001b[0m                                 Traceback (most recent call last)",
      "\u001b[1;32mC:\\Users\\IDEAPA~1\\AppData\\Local\\Temp/ipykernel_31324/671502600.py\u001b[0m in \u001b[0;36m<module>\u001b[1;34m\u001b[0m\n\u001b[1;32m----> 1\u001b[1;33m \u001b[1;33m[\u001b[0m\u001b[1;36m1\u001b[0m\u001b[1;33m,\u001b[0m\u001b[1;36m2\u001b[0m\u001b[1;33m,\u001b[0m\u001b[1;36m3\u001b[0m\u001b[1;33m]\u001b[0m \u001b[1;33m-\u001b[0m \u001b[1;33m[\u001b[0m\u001b[1;36m2\u001b[0m\u001b[1;33m,\u001b[0m\u001b[1;36m3\u001b[0m\u001b[1;33m]\u001b[0m\u001b[1;33m\u001b[0m\u001b[1;33m\u001b[0m\u001b[0m\n\u001b[0m",
      "\u001b[1;31mTypeError\u001b[0m: unsupported operand type(s) for -: 'list' and 'list'"
     ]
    }
   ],
   "source": [
    "[1,2,3] - [2,3]"
   ]
  },
  {
   "cell_type": "code",
   "execution_count": 48,
   "metadata": {},
   "outputs": [
    {
     "data": {
      "text/plain": [
       "[1, 2, 4, 5, 6, 7, 8, 9, 10]"
      ]
     },
     "execution_count": 48,
     "metadata": {},
     "output_type": "execute_result"
    }
   ],
   "source": [
    "lista1 = [1,2,3,4,5,6,7,8,9,10]\n",
    "len(lista1)\n",
    "lista1[8]\n",
    "lista1.pop(2)\n",
    "lista1"
   ]
  },
  {
   "cell_type": "code",
   "execution_count": 50,
   "metadata": {},
   "outputs": [],
   "source": [
    "lista1 = [1, 2 ,3]"
   ]
  },
  {
   "cell_type": "markdown",
   "metadata": {
    "id": "J4jwTALTfPjd"
   },
   "source": [
    "Si queremos **ordenar** una lista (o un objeto iterable) Python tiene dos funciones muy útiles."
   ]
  },
  {
   "cell_type": "markdown",
   "metadata": {
    "id": "_s45Bt5qfPjg"
   },
   "source": [
    "**sorted()** : Ordena una lista y genera un nuevo objeto."
   ]
  },
  {
   "cell_type": "code",
   "execution_count": 53,
   "metadata": {
    "id": "PSxTGZl4fPjt"
   },
   "outputs": [
    {
     "data": {
      "text/plain": [
       "[1, 2, 4, 4, 5, 5, 6, 8, 9]"
      ]
     },
     "execution_count": 53,
     "metadata": {},
     "output_type": "execute_result"
    }
   ],
   "source": [
    "lista2 = [5,4,9,8,5,6,2,4,1]\n",
    "lista3 = sorted(lista2)\n",
    "lista3"
   ]
  },
  {
   "cell_type": "code",
   "execution_count": 55,
   "metadata": {},
   "outputs": [
    {
     "data": {
      "text/plain": [
       "[9, 8, 6, 5, 5, 4, 4, 2, 1]"
      ]
     },
     "execution_count": 55,
     "metadata": {},
     "output_type": "execute_result"
    }
   ],
   "source": [
    "lista4 = sorted(lista2, reverse = True)\n",
    "lista4"
   ]
  },
  {
   "cell_type": "code",
   "execution_count": 51,
   "metadata": {},
   "outputs": [
    {
     "name": "stdout",
     "output_type": "stream",
     "text": [
      "Help on built-in function sorted in module builtins:\n",
      "\n",
      "sorted(iterable, /, *, key=None, reverse=False)\n",
      "    Return a new list containing all items from the iterable in ascending order.\n",
      "    \n",
      "    A custom key function can be supplied to customize the sort order, and the\n",
      "    reverse flag can be set to request the result in descending order.\n",
      "\n"
     ]
    }
   ],
   "source": [
    "help(sorted)"
   ]
  },
  {
   "cell_type": "markdown",
   "metadata": {
    "id": "KgCIQrorfPj4"
   },
   "source": [
    "**lst.sort()** ordena la lista en el objeto inicial. \"IN-PLACE\""
   ]
  },
  {
   "cell_type": "code",
   "execution_count": 56,
   "metadata": {
    "colab": {
     "base_uri": "https://localhost:8080/"
    },
    "id": "4uwaQbnTkQN8",
    "outputId": "3e0ae797-790f-41b8-8108-57e3f6f4f67c"
   },
   "outputs": [
    {
     "data": {
      "text/plain": [
       "[1, 2, 4, 4, 5, 5, 6, 8, 9]"
      ]
     },
     "execution_count": 56,
     "metadata": {},
     "output_type": "execute_result"
    }
   ],
   "source": [
    "lista2 = [5,4,9,8,5,6,2,4,1]\n",
    "lista2.sort()\n",
    "lista2"
   ]
  },
  {
   "cell_type": "code",
   "execution_count": 57,
   "metadata": {},
   "outputs": [
    {
     "data": {
      "text/plain": [
       "[9, 8, 6, 5, 5, 4, 4, 2, 1]"
      ]
     },
     "execution_count": 57,
     "metadata": {},
     "output_type": "execute_result"
    }
   ],
   "source": [
    "lista2 = [5,4,9,8,5,6,2,4,1]\n",
    "lista2.sort(reverse = True)\n",
    "lista2"
   ]
  },
  {
   "cell_type": "markdown",
   "metadata": {
    "id": "Xgkp0CcofPkd"
   },
   "source": [
    "### 1.4 Strings"
   ]
  },
  {
   "cell_type": "markdown",
   "metadata": {
    "id": "hrosDSo9fPkf"
   },
   "source": [
    "Los strings son listas de carácteres, y como tal con ellos se pueden utilizar algunas de las funciones de las listas y muchas otras más."
   ]
  },
  {
   "cell_type": "code",
   "execution_count": 3,
   "metadata": {
    "id": "9HI1b0zzfPkh"
   },
   "outputs": [],
   "source": [
    "fruta = \"manzana\"\n",
    "animal = \"perro\""
   ]
  },
  {
   "cell_type": "markdown",
   "metadata": {
    "id": "vmizfAUHfPk1"
   },
   "source": [
    "Podemos operar con los strings."
   ]
  },
  {
   "cell_type": "code",
   "execution_count": 6,
   "metadata": {
    "colab": {
     "base_uri": "https://localhost:8080/",
     "height": 35
    },
    "id": "slslmmvmfPk3",
    "outputId": "5599fd93-911c-4389-c2ee-072c388e62d3"
   },
   "outputs": [
    {
     "data": {
      "text/plain": [
       "'manzana verde'"
      ]
     },
     "execution_count": 6,
     "metadata": {},
     "output_type": "execute_result"
    }
   ],
   "source": [
    "fruta + \" verde\""
   ]
  },
  {
   "cell_type": "code",
   "execution_count": 7,
   "metadata": {},
   "outputs": [
    {
     "data": {
      "text/plain": [
       "'perroperroperro'"
      ]
     },
     "execution_count": 7,
     "metadata": {},
     "output_type": "execute_result"
    }
   ],
   "source": [
    "animal*3"
   ]
  },
  {
   "cell_type": "code",
   "execution_count": 9,
   "metadata": {},
   "outputs": [
    {
     "ename": "TypeError",
     "evalue": "can only concatenate str (not \"int\") to str",
     "output_type": "error",
     "traceback": [
      "\u001b[1;31m---------------------------------------------------------------------------\u001b[0m",
      "\u001b[1;31mTypeError\u001b[0m                                 Traceback (most recent call last)",
      "\u001b[1;32mC:\\Users\\IDEAPA~1\\AppData\\Local\\Temp/ipykernel_35612/1172404772.py\u001b[0m in \u001b[0;36m<module>\u001b[1;34m\u001b[0m\n\u001b[1;32m----> 1\u001b[1;33m \u001b[0mprint\u001b[0m\u001b[1;33m(\u001b[0m\u001b[0mfruta\u001b[0m\u001b[1;33m+\u001b[0m\u001b[1;34m\" \"\u001b[0m\u001b[1;33m+\u001b[0m\u001b[1;34m\"Manuela \"\u001b[0m\u001b[1;33m+\u001b[0m\u001b[0manimal\u001b[0m\u001b[1;33m+\u001b[0m\u001b[1;36m5\u001b[0m\u001b[1;33m)\u001b[0m\u001b[1;33m\u001b[0m\u001b[1;33m\u001b[0m\u001b[0m\n\u001b[0m",
      "\u001b[1;31mTypeError\u001b[0m: can only concatenate str (not \"int\") to str"
     ]
    }
   ],
   "source": [
    "print(fruta+\" \"+\"Manuela \"+animal+5)"
   ]
  },
  {
   "cell_type": "code",
   "execution_count": 13,
   "metadata": {},
   "outputs": [
    {
     "name": "stdout",
     "output_type": "stream",
     "text": [
      "A Manuela le gusta la fruta manzana y ella tiene 5 años\n"
     ]
    }
   ],
   "source": [
    "print(\"A Manuela le gusta la fruta \"+ fruta+ \" y ella tiene \"+str(5)+\" años\")"
   ]
  },
  {
   "cell_type": "code",
   "execution_count": 14,
   "metadata": {},
   "outputs": [
    {
     "name": "stdout",
     "output_type": "stream",
     "text": [
      "A Manuela le gusta la fruta  manzana  y ella tiene  5  años\n"
     ]
    }
   ],
   "source": [
    "print(\"A Manuela le gusta la fruta \", fruta, \" y ella tiene \", 5 ,\" años\")"
   ]
  },
  {
   "cell_type": "code",
   "execution_count": 17,
   "metadata": {},
   "outputs": [
    {
     "name": "stdout",
     "output_type": "stream",
     "text": [
      "5 8 9\n"
     ]
    }
   ],
   "source": [
    "print(5,8,9)"
   ]
  },
  {
   "cell_type": "code",
   "execution_count": 20,
   "metadata": {},
   "outputs": [],
   "source": [
    "nombre = \"Manuela\"\n",
    "#nombre = ['M','a','n','u','e','l','a']"
   ]
  },
  {
   "cell_type": "code",
   "execution_count": 21,
   "metadata": {},
   "outputs": [
    {
     "data": {
      "text/plain": [
       "'n'"
      ]
     },
     "execution_count": 21,
     "metadata": {},
     "output_type": "execute_result"
    }
   ],
   "source": [
    "nombre[2]"
   ]
  },
  {
   "cell_type": "code",
   "execution_count": 22,
   "metadata": {},
   "outputs": [
    {
     "data": {
      "text/plain": [
       "'Man'"
      ]
     },
     "execution_count": 22,
     "metadata": {},
     "output_type": "execute_result"
    }
   ],
   "source": [
    "nombre[0:3]"
   ]
  },
  {
   "cell_type": "code",
   "execution_count": 23,
   "metadata": {},
   "outputs": [
    {
     "data": {
      "text/plain": [
       "'Man'"
      ]
     },
     "execution_count": 23,
     "metadata": {},
     "output_type": "execute_result"
    }
   ],
   "source": [
    "nombre[:3] #Desde el inicio hasta la posicion 3-1 = 2"
   ]
  },
  {
   "cell_type": "code",
   "execution_count": 26,
   "metadata": {},
   "outputs": [
    {
     "data": {
      "text/plain": [
       "'l'"
      ]
     },
     "execution_count": 26,
     "metadata": {},
     "output_type": "execute_result"
    }
   ],
   "source": [
    "nombre[5:] #Desde la posición 5 incluyendola hasta el final"
   ]
  },
  {
   "cell_type": "code",
   "execution_count": 29,
   "metadata": {},
   "outputs": [
    {
     "data": {
      "text/plain": [
       "'Manuela'"
      ]
     },
     "execution_count": 29,
     "metadata": {},
     "output_type": "execute_result"
    }
   ],
   "source": [
    "nombre[:] #Desde el inicio hasta el fin"
   ]
  },
  {
   "cell_type": "code",
   "execution_count": 31,
   "metadata": {},
   "outputs": [
    {
     "data": {
      "text/plain": [
       "'Manuela'"
      ]
     },
     "execution_count": 31,
     "metadata": {},
     "output_type": "execute_result"
    }
   ],
   "source": [
    "nombre"
   ]
  },
  {
   "cell_type": "code",
   "execution_count": 33,
   "metadata": {},
   "outputs": [
    {
     "ename": "TypeError",
     "evalue": "'str' object does not support item assignment",
     "output_type": "error",
     "traceback": [
      "\u001b[1;31m---------------------------------------------------------------------------\u001b[0m",
      "\u001b[1;31mTypeError\u001b[0m                                 Traceback (most recent call last)",
      "\u001b[1;32mC:\\Users\\IDEAPA~1\\AppData\\Local\\Temp/ipykernel_35612/2559318863.py\u001b[0m in \u001b[0;36m<module>\u001b[1;34m\u001b[0m\n\u001b[1;32m----> 1\u001b[1;33m \u001b[0mnombre\u001b[0m\u001b[1;33m[\u001b[0m\u001b[1;36m2\u001b[0m\u001b[1;33m]\u001b[0m \u001b[1;33m=\u001b[0m \u001b[1;34m\"aaa\"\u001b[0m\u001b[1;33m\u001b[0m\u001b[1;33m\u001b[0m\u001b[0m\n\u001b[0m\u001b[0;32m      2\u001b[0m \u001b[0mnombre\u001b[0m\u001b[1;33m\u001b[0m\u001b[1;33m\u001b[0m\u001b[0m\n",
      "\u001b[1;31mTypeError\u001b[0m: 'str' object does not support item assignment"
     ]
    }
   ],
   "source": [
    "nombre[2] = \"aaa\"\n",
    "nombre"
   ]
  },
  {
   "cell_type": "markdown",
   "metadata": {
    "id": "PdGWej2YfPmC"
   },
   "source": [
    "A diferencia de las listas, los strings no se pueden editar por índice."
   ]
  },
  {
   "cell_type": "code",
   "execution_count": 34,
   "metadata": {
    "colab": {
     "base_uri": "https://localhost:8080/",
     "height": 166
    },
    "id": "T0Lu0Iq2fPmD",
    "outputId": "739be1a5-4b13-4959-b0ab-3069d523a28a"
   },
   "outputs": [
    {
     "data": {
      "text/plain": [
       "['M', 'a', 'aaa', 'u', 'e', 'l', 'a']"
      ]
     },
     "execution_count": 34,
     "metadata": {},
     "output_type": "execute_result"
    }
   ],
   "source": [
    "\n",
    "nombre = ['M','a','n','u','e','l','a']\n",
    "nombre[2] = \"aaa\"\n",
    "nombre"
   ]
  },
  {
   "cell_type": "code",
   "execution_count": 41,
   "metadata": {},
   "outputs": [
    {
     "name": "stdout",
     "output_type": "stream",
     "text": [
      "Manuela\n",
      "Maaaauela\n"
     ]
    }
   ],
   "source": [
    "nombre = 'Manuela'\n",
    "print(nombre)\n",
    "nombre = nombre.replace('n','aaa')\n",
    "print(nombre)"
   ]
  },
  {
   "cell_type": "markdown",
   "metadata": {
    "id": "mFTtPZXofPmW"
   },
   "source": [
    "Mayúsculas"
   ]
  },
  {
   "cell_type": "code",
   "execution_count": null,
   "metadata": {
    "colab": {
     "base_uri": "https://localhost:8080/",
     "height": 35
    },
    "id": "L3CNgzEifPmZ",
    "outputId": "fd15d3e0-12a5-4c5b-9906-8f2e7377d5fe"
   },
   "outputs": [],
   "source": [
    "Manuela Ocampo\n",
    "MANUELA Ocampo\n",
    "MANUELA OCAMPO\n",
    "manuela ocampo"
   ]
  },
  {
   "cell_type": "code",
   "execution_count": 45,
   "metadata": {},
   "outputs": [
    {
     "name": "stdout",
     "output_type": "stream",
     "text": [
      "MANUELA Ocampo\n",
      "MANUELA OCAMPO\n"
     ]
    }
   ],
   "source": [
    "nombre = 'MANUELA Ocampo'\n",
    "print(nombre)\n",
    "nombre = nombre.upper()\n",
    "nombre.upper()\n",
    "\n",
    "print(nombre)"
   ]
  },
  {
   "cell_type": "code",
   "execution_count": 44,
   "metadata": {},
   "outputs": [
    {
     "data": {
      "text/plain": [
       "'MANUELA OCAMPO'"
      ]
     },
     "execution_count": 44,
     "metadata": {},
     "output_type": "execute_result"
    }
   ],
   "source": [
    "nombre.upper()"
   ]
  },
  {
   "cell_type": "markdown",
   "metadata": {
    "id": "GQ3L5GzEfPmf"
   },
   "source": [
    "Minúsculas"
   ]
  },
  {
   "cell_type": "code",
   "execution_count": 46,
   "metadata": {
    "colab": {
     "base_uri": "https://localhost:8080/",
     "height": 35
    },
    "id": "pKSKV7gpfPmh",
    "outputId": "29452d2c-39fd-4192-df95-d980a7d65177"
   },
   "outputs": [
    {
     "data": {
      "text/plain": [
       "'manuela ocampo'"
      ]
     },
     "execution_count": 46,
     "metadata": {},
     "output_type": "execute_result"
    }
   ],
   "source": [
    "nombre = 'MANUELA Ocampo'\n",
    "nombre.lower()"
   ]
  },
  {
   "cell_type": "markdown",
   "metadata": {
    "id": "lObFm0LNfPmv"
   },
   "source": [
    "Contar"
   ]
  },
  {
   "cell_type": "code",
   "execution_count": 51,
   "metadata": {
    "colab": {
     "base_uri": "https://localhost:8080/"
    },
    "id": "6BkQi5GafPmx",
    "outputId": "16af4e5a-7fec-4150-8575-462f42922a22"
   },
   "outputs": [
    {
     "name": "stdout",
     "output_type": "stream",
     "text": [
      "MANUELA Ocampo\n"
     ]
    }
   ],
   "source": [
    "nombre = 'MANUELA Ocampo'\n",
    "nombre_2 = nombre.upper()\n",
    "nombre.count('A')\n",
    "print(nombre)"
   ]
  },
  {
   "cell_type": "markdown",
   "metadata": {
    "id": "tGup2oidfPnE"
   },
   "source": [
    "Reemplazar"
   ]
  },
  {
   "cell_type": "code",
   "execution_count": null,
   "metadata": {
    "colab": {
     "base_uri": "https://localhost:8080/",
     "height": 35
    },
    "id": "-dxT_QxgfPnG",
    "outputId": "eaeb060e-6d03-442d-8117-4d6608f319a2"
   },
   "outputs": [],
   "source": [
    "nombre = 'Manuela'\n",
    "print(nombre)\n",
    "nombre = nombre.replace('n','aaa')\n",
    "print(nombre)"
   ]
  },
  {
   "cell_type": "markdown",
   "metadata": {
    "id": "a68Bq-u_fPnd"
   },
   "source": [
    "Separar"
   ]
  },
  {
   "cell_type": "code",
   "execution_count": 54,
   "metadata": {
    "colab": {
     "base_uri": "https://localhost:8080/"
    },
    "id": "kJuJq4FEfPnf",
    "outputId": "c2505899-167d-49fc-804e-a9a4a43cd1f9"
   },
   "outputs": [
    {
     "data": {
      "text/plain": [
       "['Clase', 'de', 'Python']"
      ]
     },
     "execution_count": 54,
     "metadata": {},
     "output_type": "execute_result"
    }
   ],
   "source": [
    "texto = \"Clase  de Python\"\n",
    "texto_2 = texto.split(\" \")\n",
    "texto_2"
   ]
  },
  {
   "cell_type": "code",
   "execution_count": 55,
   "metadata": {},
   "outputs": [
    {
     "data": {
      "text/plain": [
       "'Python'"
      ]
     },
     "execution_count": 55,
     "metadata": {},
     "output_type": "execute_result"
    }
   ],
   "source": [
    "texto_2[2]"
   ]
  },
  {
   "cell_type": "markdown",
   "metadata": {
    "id": "8xSjIGCZfPnm"
   },
   "source": [
    "Quitar carácteres en blanco al final"
   ]
  },
  {
   "cell_type": "code",
   "execution_count": 58,
   "metadata": {
    "colab": {
     "base_uri": "https://localhost:8080/",
     "height": 35
    },
    "id": "JIChQx2xfPnw",
    "outputId": "c3c56824-1aeb-4065-d360-52855b694f55"
   },
   "outputs": [
    {
     "data": {
      "text/plain": [
       "'Clase de Python'"
      ]
     },
     "execution_count": 58,
     "metadata": {},
     "output_type": "execute_result"
    }
   ],
   "source": [
    "texto = \"Clase  de Python\"\n",
    "texto_2 = texto.replace(\"  \", \" \")\n",
    "texto_2"
   ]
  },
  {
   "cell_type": "markdown",
   "metadata": {
    "id": "7HvaYE87fPn4"
   },
   "source": [
    "**Cómo buscar ayuda?**\n",
    "\n",
    "En python existen las funciones built-in **dir()** y **help()**"
   ]
  },
  {
   "cell_type": "markdown",
   "metadata": {
    "id": "6vAGKWeCfPn6"
   },
   "source": [
    "**dir()** muestra todas la funciones que se pueden ejecutar con un objeto\n",
    "\n",
    "**help()** me remite a la documentación de un objeto o una función"
   ]
  },
  {
   "cell_type": "code",
   "execution_count": 59,
   "metadata": {
    "colab": {
     "base_uri": "https://localhost:8080/"
    },
    "id": "uHv8tAwAfPn7",
    "outputId": "12d50ef8-6748-4cdc-8238-aba1f59c75ac"
   },
   "outputs": [
    {
     "data": {
      "text/plain": [
       "['__add__',\n",
       " '__class__',\n",
       " '__class_getitem__',\n",
       " '__contains__',\n",
       " '__delattr__',\n",
       " '__delitem__',\n",
       " '__dir__',\n",
       " '__doc__',\n",
       " '__eq__',\n",
       " '__format__',\n",
       " '__ge__',\n",
       " '__getattribute__',\n",
       " '__getitem__',\n",
       " '__gt__',\n",
       " '__hash__',\n",
       " '__iadd__',\n",
       " '__imul__',\n",
       " '__init__',\n",
       " '__init_subclass__',\n",
       " '__iter__',\n",
       " '__le__',\n",
       " '__len__',\n",
       " '__lt__',\n",
       " '__mul__',\n",
       " '__ne__',\n",
       " '__new__',\n",
       " '__reduce__',\n",
       " '__reduce_ex__',\n",
       " '__repr__',\n",
       " '__reversed__',\n",
       " '__rmul__',\n",
       " '__setattr__',\n",
       " '__setitem__',\n",
       " '__sizeof__',\n",
       " '__str__',\n",
       " '__subclasshook__',\n",
       " 'append',\n",
       " 'clear',\n",
       " 'copy',\n",
       " 'count',\n",
       " 'extend',\n",
       " 'index',\n",
       " 'insert',\n",
       " 'pop',\n",
       " 'remove',\n",
       " 'reverse',\n",
       " 'sort']"
      ]
     },
     "execution_count": 59,
     "metadata": {},
     "output_type": "execute_result"
    }
   ],
   "source": [
    "lista = [1,2,3,4,5]\n",
    "dir(lista)"
   ]
  },
  {
   "cell_type": "code",
   "execution_count": 60,
   "metadata": {},
   "outputs": [
    {
     "name": "stdout",
     "output_type": "stream",
     "text": [
      "Help on list object:\n",
      "\n",
      "class list(object)\n",
      " |  list(iterable=(), /)\n",
      " |  \n",
      " |  Built-in mutable sequence.\n",
      " |  \n",
      " |  If no argument is given, the constructor creates a new empty list.\n",
      " |  The argument must be an iterable if specified.\n",
      " |  \n",
      " |  Methods defined here:\n",
      " |  \n",
      " |  __add__(self, value, /)\n",
      " |      Return self+value.\n",
      " |  \n",
      " |  __contains__(self, key, /)\n",
      " |      Return key in self.\n",
      " |  \n",
      " |  __delitem__(self, key, /)\n",
      " |      Delete self[key].\n",
      " |  \n",
      " |  __eq__(self, value, /)\n",
      " |      Return self==value.\n",
      " |  \n",
      " |  __ge__(self, value, /)\n",
      " |      Return self>=value.\n",
      " |  \n",
      " |  __getattribute__(self, name, /)\n",
      " |      Return getattr(self, name).\n",
      " |  \n",
      " |  __getitem__(...)\n",
      " |      x.__getitem__(y) <==> x[y]\n",
      " |  \n",
      " |  __gt__(self, value, /)\n",
      " |      Return self>value.\n",
      " |  \n",
      " |  __iadd__(self, value, /)\n",
      " |      Implement self+=value.\n",
      " |  \n",
      " |  __imul__(self, value, /)\n",
      " |      Implement self*=value.\n",
      " |  \n",
      " |  __init__(self, /, *args, **kwargs)\n",
      " |      Initialize self.  See help(type(self)) for accurate signature.\n",
      " |  \n",
      " |  __iter__(self, /)\n",
      " |      Implement iter(self).\n",
      " |  \n",
      " |  __le__(self, value, /)\n",
      " |      Return self<=value.\n",
      " |  \n",
      " |  __len__(self, /)\n",
      " |      Return len(self).\n",
      " |  \n",
      " |  __lt__(self, value, /)\n",
      " |      Return self<value.\n",
      " |  \n",
      " |  __mul__(self, value, /)\n",
      " |      Return self*value.\n",
      " |  \n",
      " |  __ne__(self, value, /)\n",
      " |      Return self!=value.\n",
      " |  \n",
      " |  __repr__(self, /)\n",
      " |      Return repr(self).\n",
      " |  \n",
      " |  __reversed__(self, /)\n",
      " |      Return a reverse iterator over the list.\n",
      " |  \n",
      " |  __rmul__(self, value, /)\n",
      " |      Return value*self.\n",
      " |  \n",
      " |  __setitem__(self, key, value, /)\n",
      " |      Set self[key] to value.\n",
      " |  \n",
      " |  __sizeof__(self, /)\n",
      " |      Return the size of the list in memory, in bytes.\n",
      " |  \n",
      " |  append(self, object, /)\n",
      " |      Append object to the end of the list.\n",
      " |  \n",
      " |  clear(self, /)\n",
      " |      Remove all items from list.\n",
      " |  \n",
      " |  copy(self, /)\n",
      " |      Return a shallow copy of the list.\n",
      " |  \n",
      " |  count(self, value, /)\n",
      " |      Return number of occurrences of value.\n",
      " |  \n",
      " |  extend(self, iterable, /)\n",
      " |      Extend list by appending elements from the iterable.\n",
      " |  \n",
      " |  index(self, value, start=0, stop=9223372036854775807, /)\n",
      " |      Return first index of value.\n",
      " |      \n",
      " |      Raises ValueError if the value is not present.\n",
      " |  \n",
      " |  insert(self, index, object, /)\n",
      " |      Insert object before index.\n",
      " |  \n",
      " |  pop(self, index=-1, /)\n",
      " |      Remove and return item at index (default last).\n",
      " |      \n",
      " |      Raises IndexError if list is empty or index is out of range.\n",
      " |  \n",
      " |  remove(self, value, /)\n",
      " |      Remove first occurrence of value.\n",
      " |      \n",
      " |      Raises ValueError if the value is not present.\n",
      " |  \n",
      " |  reverse(self, /)\n",
      " |      Reverse *IN PLACE*.\n",
      " |  \n",
      " |  sort(self, /, *, key=None, reverse=False)\n",
      " |      Sort the list in ascending order and return None.\n",
      " |      \n",
      " |      The sort is in-place (i.e. the list itself is modified) and stable (i.e. the\n",
      " |      order of two equal elements is maintained).\n",
      " |      \n",
      " |      If a key function is given, apply it once to each list item and sort them,\n",
      " |      ascending or descending, according to their function values.\n",
      " |      \n",
      " |      The reverse flag can be set to sort in descending order.\n",
      " |  \n",
      " |  ----------------------------------------------------------------------\n",
      " |  Class methods defined here:\n",
      " |  \n",
      " |  __class_getitem__(...) from builtins.type\n",
      " |      See PEP 585\n",
      " |  \n",
      " |  ----------------------------------------------------------------------\n",
      " |  Static methods defined here:\n",
      " |  \n",
      " |  __new__(*args, **kwargs) from builtins.type\n",
      " |      Create and return a new object.  See help(type) for accurate signature.\n",
      " |  \n",
      " |  ----------------------------------------------------------------------\n",
      " |  Data and other attributes defined here:\n",
      " |  \n",
      " |  __hash__ = None\n",
      "\n"
     ]
    }
   ],
   "source": [
    "help(lista)"
   ]
  },
  {
   "cell_type": "code",
   "execution_count": 61,
   "metadata": {},
   "outputs": [
    {
     "ename": "IndexError",
     "evalue": "list assignment index out of range",
     "output_type": "error",
     "traceback": [
      "\u001b[1;31m---------------------------------------------------------------------------\u001b[0m",
      "\u001b[1;31mIndexError\u001b[0m                                Traceback (most recent call last)",
      "\u001b[1;32mC:\\Users\\IDEAPA~1\\AppData\\Local\\Temp/ipykernel_35612/1672312117.py\u001b[0m in \u001b[0;36m<module>\u001b[1;34m\u001b[0m\n\u001b[0;32m      1\u001b[0m \u001b[0mlista\u001b[0m \u001b[1;33m=\u001b[0m \u001b[1;33m[\u001b[0m\u001b[1;36m1\u001b[0m\u001b[1;33m,\u001b[0m\u001b[1;36m2\u001b[0m\u001b[1;33m,\u001b[0m\u001b[1;36m3\u001b[0m\u001b[1;33m,\u001b[0m\u001b[1;36m4\u001b[0m\u001b[1;33m,\u001b[0m\u001b[1;36m5\u001b[0m\u001b[1;33m]\u001b[0m\u001b[1;33m\u001b[0m\u001b[1;33m\u001b[0m\u001b[0m\n\u001b[1;32m----> 2\u001b[1;33m \u001b[0mlista\u001b[0m\u001b[1;33m[\u001b[0m\u001b[1;36m5\u001b[0m\u001b[1;33m]\u001b[0m \u001b[1;33m=\u001b[0m \u001b[1;36m6\u001b[0m\u001b[1;33m\u001b[0m\u001b[1;33m\u001b[0m\u001b[0m\n\u001b[0m\u001b[0;32m      3\u001b[0m \u001b[0mlista\u001b[0m\u001b[1;33m\u001b[0m\u001b[1;33m\u001b[0m\u001b[0m\n",
      "\u001b[1;31mIndexError\u001b[0m: list assignment index out of range"
     ]
    }
   ],
   "source": [
    "lista = [1,2,3,4,5]\n",
    "lista[5] = 6\n",
    "lista"
   ]
  },
  {
   "cell_type": "code",
   "execution_count": 64,
   "metadata": {},
   "outputs": [],
   "source": [
    "lista.append(100)\n"
   ]
  },
  {
   "cell_type": "code",
   "execution_count": 68,
   "metadata": {},
   "outputs": [
    {
     "name": "stdout",
     "output_type": "stream",
     "text": [
      "Help on built-in function append:\n",
      "\n",
      "append(object, /) method of builtins.list instance\n",
      "    Append object to the end of the list.\n",
      "\n"
     ]
    }
   ],
   "source": [
    "help(lista.append)"
   ]
  },
  {
   "cell_type": "code",
   "execution_count": 65,
   "metadata": {},
   "outputs": [
    {
     "data": {
      "text/plain": [
       "[1, 2, 3, 4, 5, 6, 100]"
      ]
     },
     "execution_count": 65,
     "metadata": {},
     "output_type": "execute_result"
    }
   ],
   "source": [
    "lista"
   ]
  },
  {
   "cell_type": "markdown",
   "metadata": {
    "id": "v4chPoTFfPoo"
   },
   "source": [
    "## Sets"
   ]
  },
  {
   "cell_type": "markdown",
   "metadata": {
    "id": "In6GLWX-fPop"
   },
   "source": [
    "Colección **no ordenada** de elementos del mismo o distinto tipo (incluso puede tener sets como elementos), que se caracteriza por ser **sin elementos duplicados**."
   ]
  },
  {
   "cell_type": "code",
   "execution_count": 71,
   "metadata": {
    "colab": {
     "base_uri": "https://localhost:8080/"
    },
    "id": "rlyUIaKKfPoq",
    "outputId": "1c129b42-ace2-4289-8e27-5c571cefe3af"
   },
   "outputs": [
    {
     "data": {
      "text/plain": [
       "{'Berlin', 'London', 'Lyon', 'Paris'}"
      ]
     },
     "execution_count": 71,
     "metadata": {},
     "output_type": "execute_result"
    }
   ],
   "source": [
    "ciudades = set((\"Paris\",\"Lyon\",\"London\",\"Berlin\",\"Paris\",\"Berlin\"))\n",
    "ciudades"
   ]
  },
  {
   "cell_type": "code",
   "execution_count": 72,
   "metadata": {
    "colab": {
     "base_uri": "https://localhost:8080/"
    },
    "id": "qR-1b-RufPoy",
    "outputId": "8b81820f-5a5f-4ae3-bbd9-af5ac81fec17"
   },
   "outputs": [
    {
     "data": {
      "text/plain": [
       "['Paris', 'Lyon', 'London', 'Berlin', 'Paris', 'Berlin']"
      ]
     },
     "execution_count": 72,
     "metadata": {},
     "output_type": "execute_result"
    }
   ],
   "source": [
    "ciudades = [\"Paris\",\"Lyon\",\"London\",\"Berlin\",\"Paris\",\"Berlin\"]\n",
    "ciudades"
   ]
  },
  {
   "cell_type": "markdown",
   "metadata": {
    "id": "1NG0-LNSfPo7"
   },
   "source": [
    "Los sets no aceptan objetos mutables, por lo que no se le pueden pasar listas como elementos pero si tuplas."
   ]
  },
  {
   "cell_type": "code",
   "execution_count": 73,
   "metadata": {
    "colab": {
     "base_uri": "https://localhost:8080/",
     "height": 183
    },
    "id": "jVt2qwECfPo8",
    "outputId": "e3cde384-eb21-425a-d2f7-e6c556f37bf0"
   },
   "outputs": [
    {
     "ename": "TypeError",
     "evalue": "unhashable type: 'list'",
     "output_type": "error",
     "traceback": [
      "\u001b[1;31m---------------------------------------------------------------------------\u001b[0m",
      "\u001b[1;31mTypeError\u001b[0m                                 Traceback (most recent call last)",
      "\u001b[1;32mC:\\Users\\IDEAPA~1\\AppData\\Local\\Temp/ipykernel_35612/780106284.py\u001b[0m in \u001b[0;36m<module>\u001b[1;34m\u001b[0m\n\u001b[1;32m----> 1\u001b[1;33m \u001b[0mciudades\u001b[0m \u001b[1;33m=\u001b[0m \u001b[0mset\u001b[0m\u001b[1;33m(\u001b[0m\u001b[1;33m(\u001b[0m\u001b[1;33m[\u001b[0m\u001b[1;34m\"Python\"\u001b[0m\u001b[1;33m,\u001b[0m\u001b[1;34m\"Perl\"\u001b[0m\u001b[1;33m]\u001b[0m\u001b[1;33m,\u001b[0m\u001b[1;33m[\u001b[0m\u001b[1;34m\"Paris\"\u001b[0m\u001b[1;33m,\u001b[0m\u001b[1;34m\"Berlin\"\u001b[0m\u001b[1;33m]\u001b[0m\u001b[1;33m)\u001b[0m\u001b[1;33m)\u001b[0m\u001b[1;33m\u001b[0m\u001b[1;33m\u001b[0m\u001b[0m\n\u001b[0m",
      "\u001b[1;31mTypeError\u001b[0m: unhashable type: 'list'"
     ]
    }
   ],
   "source": [
    "ciudades = set(([\"Python\",\"Perl\"],[\"Paris\",\"Berlin\"]))\n"
   ]
  },
  {
   "cell_type": "code",
   "execution_count": 76,
   "metadata": {},
   "outputs": [
    {
     "data": {
      "text/plain": [
       "{('Paris', 'Berlin'), ('Python', 'Perl')}"
      ]
     },
     "execution_count": 76,
     "metadata": {},
     "output_type": "execute_result"
    }
   ],
   "source": [
    "ciudades = set(((\"Python\",\"Perl\"),(\"Paris\",\"Berlin\")))\n",
    "ciudades"
   ]
  },
  {
   "cell_type": "code",
   "execution_count": 84,
   "metadata": {},
   "outputs": [
    {
     "data": {
      "text/plain": [
       "{'Argentina', 'Colombia', 'colombia'}"
      ]
     },
     "execution_count": 84,
     "metadata": {},
     "output_type": "execute_result"
    }
   ],
   "source": [
    "ciudades = [set((\"Madrid\",\"Barcela\",\"Perú\")), set((\"Colombia\",\"Argentina\",\"colombia\"))]\n",
    "ciudades[1]"
   ]
  },
  {
   "cell_type": "markdown",
   "metadata": {
    "id": "WjTmwTrUfPpI"
   },
   "source": [
    "### Diccionarios"
   ]
  },
  {
   "cell_type": "code",
   "execution_count": 93,
   "metadata": {
    "id": "OtgHZJctfPpJ"
   },
   "outputs": [
    {
     "data": {
      "text/plain": [
       "{'Nombre': 'Camila', 'Edad': 22, 'Cursos': ['Python', 'R', 'SQL']}"
      ]
     },
     "execution_count": 93,
     "metadata": {},
     "output_type": "execute_result"
    }
   ],
   "source": [
    "personas = {\"Nombre\": \"Camila\" , \"Edad\": 22 , \"Cursos\": [\"Python\",\"R\", \"SQL\"] }\n",
    "personas"
   ]
  },
  {
   "cell_type": "code",
   "execution_count": 86,
   "metadata": {},
   "outputs": [
    {
     "data": {
      "text/plain": [
       "dict_keys(['Nombre', 'Edad', 'Cursos'])"
      ]
     },
     "execution_count": 86,
     "metadata": {},
     "output_type": "execute_result"
    }
   ],
   "source": [
    "personas.keys()"
   ]
  },
  {
   "cell_type": "code",
   "execution_count": 88,
   "metadata": {},
   "outputs": [
    {
     "data": {
      "text/plain": [
       "dict_values(['Camila', 22, ['Python', 'R', 'SQL']])"
      ]
     },
     "execution_count": 88,
     "metadata": {},
     "output_type": "execute_result"
    }
   ],
   "source": [
    "personas.values()"
   ]
  },
  {
   "cell_type": "code",
   "execution_count": 94,
   "metadata": {},
   "outputs": [],
   "source": [
    "personas_2 = personas.copy()\n",
    "#personas_2 = personas"
   ]
  },
  {
   "cell_type": "code",
   "execution_count": 95,
   "metadata": {},
   "outputs": [
    {
     "data": {
      "text/plain": [
       "{'Nombre': 'Camila', 'Edad': 22, 'Cursos': ['Python', 'R', 'SQL']}"
      ]
     },
     "execution_count": 95,
     "metadata": {},
     "output_type": "execute_result"
    }
   ],
   "source": [
    "personas_2"
   ]
  },
  {
   "cell_type": "code",
   "execution_count": 96,
   "metadata": {},
   "outputs": [],
   "source": [
    "personas.clear()"
   ]
  },
  {
   "cell_type": "code",
   "execution_count": 97,
   "metadata": {},
   "outputs": [
    {
     "data": {
      "text/plain": [
       "{'Nombre': 'Camila', 'Edad': 22, 'Cursos': ['Python', 'R', 'SQL']}"
      ]
     },
     "execution_count": 97,
     "metadata": {},
     "output_type": "execute_result"
    }
   ],
   "source": [
    "personas_2"
   ]
  },
  {
   "cell_type": "code",
   "execution_count": 100,
   "metadata": {},
   "outputs": [
    {
     "data": {
      "text/plain": [
       "22"
      ]
     },
     "execution_count": 100,
     "metadata": {},
     "output_type": "execute_result"
    }
   ],
   "source": [
    "personas_2.get(\"Edad\")"
   ]
  },
  {
   "cell_type": "code",
   "execution_count": 102,
   "metadata": {},
   "outputs": [
    {
     "data": {
      "text/plain": [
       "22"
      ]
     },
     "execution_count": 102,
     "metadata": {},
     "output_type": "execute_result"
    }
   ],
   "source": [
    "personas_2\n",
    "personas_2.pop('Edad')"
   ]
  },
  {
   "cell_type": "code",
   "execution_count": 103,
   "metadata": {},
   "outputs": [
    {
     "data": {
      "text/plain": [
       "{'Nombre': 'Camila', 'Cursos': ['Python', 'R', 'SQL']}"
      ]
     },
     "execution_count": 103,
     "metadata": {},
     "output_type": "execute_result"
    }
   ],
   "source": [
    "personas_2"
   ]
  },
  {
   "cell_type": "code",
   "execution_count": 105,
   "metadata": {},
   "outputs": [],
   "source": [
    "diccionario_1 = {\"Nombre\": \"Camila\" , \"Edad\": 22 , \"Cursos\": [\"Python\",\"R\", \"SQL\"] }\n",
    "diccionario_2 = {\"Nombre\": \"Carlos\" , \"Edad\": 38 , \"Cursos\": [\"Python\",\"R\"] }\n",
    "\n",
    "diccionario_final = {\n",
    "    \"persona1\" : diccionario_1,\n",
    "    \"persona2\" : diccionario_2\n",
    "}"
   ]
  },
  {
   "cell_type": "code",
   "execution_count": 107,
   "metadata": {},
   "outputs": [
    {
     "data": {
      "text/plain": [
       "dict_values([{'Nombre': 'Camila', 'Edad': 22, 'Cursos': ['Python', 'R', 'SQL']}, {'Nombre': 'Carlos', 'Edad': 38, 'Cursos': ['Python', 'R']}])"
      ]
     },
     "execution_count": 107,
     "metadata": {},
     "output_type": "execute_result"
    }
   ],
   "source": [
    "diccionario_final.values()"
   ]
  },
  {
   "cell_type": "code",
   "execution_count": 109,
   "metadata": {},
   "outputs": [
    {
     "ename": "KeyError",
     "evalue": "'Edad'",
     "output_type": "error",
     "traceback": [
      "\u001b[1;31m---------------------------------------------------------------------------\u001b[0m",
      "\u001b[1;31mKeyError\u001b[0m                                  Traceback (most recent call last)",
      "\u001b[1;32mC:\\Users\\IDEAPA~1\\AppData\\Local\\Temp/ipykernel_35612/2034409313.py\u001b[0m in \u001b[0;36m<module>\u001b[1;34m\u001b[0m\n\u001b[1;32m----> 1\u001b[1;33m \u001b[0mdiccionario_final\u001b[0m\u001b[1;33m.\u001b[0m\u001b[0mpop\u001b[0m\u001b[1;33m(\u001b[0m\u001b[1;34m\"Edad\"\u001b[0m\u001b[1;33m)\u001b[0m\u001b[1;33m\u001b[0m\u001b[1;33m\u001b[0m\u001b[0m\n\u001b[0m",
      "\u001b[1;31mKeyError\u001b[0m: 'Edad'"
     ]
    }
   ],
   "source": [
    "diccionario_final.pop(\"Edad\")"
   ]
  },
  {
   "cell_type": "code",
   "execution_count": null,
   "metadata": {},
   "outputs": [],
   "source": [
    "#https://entrenamiento-python-basico.readthedocs.io/es/latest/leccion3/tipo_diccionarios.html#:~:text=Los%20diccionarios%20pueden%20ser%20creados,el%20constructor%20%C2%ABdict()%C2%BB."
   ]
  },
  {
   "cell_type": "markdown",
   "metadata": {
    "id": "yK_LUffXfPqF"
   },
   "source": [
    "# For loops, if - elif - else\n",
    "\n",
    "Los **for loops** iteran sobre una secuencia dada. Su sintaxis en python en mas simple comparada con los demas lenguajes de programación.\n",
    "\n",
    "A tener en cuenta con los for loops:\n",
    "* La estructura básica es **for** `<nombre>` **in** `<objeto_iterable>`**:**\n",
    "* **Importante**: Los \":\" siempre deben estar presentes, de lo contrario me generara un error en la ejecución.\n",
    "* La siguiente líneas a las estructuras básicas deben estar indentadas.\n",
    "\n",
    "Veamos un ejemplo:"
   ]
  },
  {
   "cell_type": "code",
   "execution_count": 110,
   "metadata": {
    "colab": {
     "base_uri": "https://localhost:8080/"
    },
    "id": "0ExsqmXnp7Kw",
    "outputId": "ace3ee49-a783-4809-f2aa-b396b1a60b95"
   },
   "outputs": [
    {
     "data": {
      "text/plain": [
       "['perro', 'gato', 'caballo', 'vaca']"
      ]
     },
     "execution_count": 110,
     "metadata": {},
     "output_type": "execute_result"
    }
   ],
   "source": [
    "lista_animales = ['perro','gato','caballo','vaca']\n",
    "lista_animales"
   ]
  },
  {
   "cell_type": "code",
   "execution_count": 113,
   "metadata": {},
   "outputs": [
    {
     "name": "stdout",
     "output_type": "stream",
     "text": [
      "El animal perro tiene 5 letras en su nombre\n",
      "El animal gato tiene 4 letras en su nombre\n",
      "El animal caballo tiene 7 letras en su nombre\n",
      "El animal vaca tiene 4 letras en su nombre\n"
     ]
    }
   ],
   "source": [
    "for i in lista_animales: \n",
    "    print(\"El animal\",i,\"tiene\", len(i), \"letras en su nombre\")"
   ]
  },
  {
   "cell_type": "code",
   "execution_count": 114,
   "metadata": {},
   "outputs": [
    {
     "name": "stdout",
     "output_type": "stream",
     "text": [
      "El animal perro tiene 5 letras en su nombre\n",
      "El animal gato tiene 4 letras en su nombre\n"
     ]
    }
   ],
   "source": [
    "for i in lista_animales[:2]: \n",
    "    print(\"El animal\",i,\"tiene\", len(i), \"letras en su nombre\")"
   ]
  },
  {
   "cell_type": "code",
   "execution_count": 115,
   "metadata": {},
   "outputs": [
    {
     "name": "stdout",
     "output_type": "stream",
     "text": [
      "El animal caballo tiene 7 letras en su nombre\n",
      "El animal vaca tiene 4 letras en su nombre\n"
     ]
    }
   ],
   "source": [
    "for i in lista_animales[2:]: \n",
    "    print(\"El animal\",i,\"tiene\", len(i), \"letras en su nombre\")"
   ]
  },
  {
   "cell_type": "code",
   "execution_count": 116,
   "metadata": {},
   "outputs": [
    {
     "name": "stdout",
     "output_type": "stream",
     "text": [
      "5\n",
      "7\n",
      "9\n",
      "11\n",
      "13\n",
      "15\n",
      "17\n",
      "19\n",
      "21\n",
      "23\n",
      "25\n",
      "27\n",
      "29\n"
     ]
    }
   ],
   "source": [
    "for i in range(5,30,2):\n",
    "    print(i)"
   ]
  },
  {
   "cell_type": "code",
   "execution_count": 117,
   "metadata": {},
   "outputs": [
    {
     "name": "stdout",
     "output_type": "stream",
     "text": [
      "0\n",
      "1\n",
      "2\n",
      "3\n",
      "4\n",
      "5\n"
     ]
    }
   ],
   "source": [
    "for i in range(6):\n",
    "    print(i)"
   ]
  },
  {
   "cell_type": "markdown",
   "metadata": {
    "id": "abeLrdF5fPqW"
   },
   "source": [
    "**if / elif / else**\n",
    "\n",
    "Una sentencia **if** se utiliza para controlar el flujo de una ejecución dependiendo si se cumple o no una condición dada.\n",
    "\n",
    "**elif**: se utiliza para controlar el flujo agregando una condición adicional a la inicial. Puedo introducir la candidad de elif que desea.\n",
    "\n",
    "**else**: se utiliza para ejecutar todo aquello que no cumpla con ninguna de las condiciones anteriores.\n",
    "\n",
    "**Nota**. Similar al for loop, las sentencias if:\n",
    "* Deben tener la siguiente estructura **if** `<condición>`:\n",
    "* **Importante** deben tener \":\" despues de la condición.\n",
    "* La siguiente líneas a las estructuras básicas deben estar indentadas.\n",
    "    "
   ]
  },
  {
   "cell_type": "code",
   "execution_count": 120,
   "metadata": {
    "colab": {
     "base_uri": "https://localhost:8080/"
    },
    "id": "o-C3kQN4fPqX",
    "outputId": "31a11612-b990-4821-ba3a-8f930ed1bb57"
   },
   "outputs": [
    {
     "name": "stdout",
     "output_type": "stream",
     "text": [
      "x es menor o igual a 1\n"
     ]
    }
   ],
   "source": [
    "x = 0\n",
    "\n",
    "if x <= 1 :\n",
    "    print(\"x es menor o igual a 1\")\n",
    "elif x == 2: \n",
    "    print(\"x es igual a 2\")\n",
    "else: \n",
    "    print(\"x es mayor que 2\")  \n",
    "    "
   ]
  },
  {
   "cell_type": "markdown",
   "metadata": {
    "id": "6JWB8KvcfPqg"
   },
   "source": [
    "Usalmente las sentencias **if** se utilizan dentro de un **for loop**"
   ]
  },
  {
   "cell_type": "code",
   "execution_count": 125,
   "metadata": {},
   "outputs": [
    {
     "name": "stdout",
     "output_type": "stream",
     "text": [
      "Es menor o igual a 1\n",
      "Es menor o igual a 1\n",
      "Es igual a 2\n",
      "Es mayor a 2\n",
      "Es mayor a 2\n",
      "Es mayor a 2\n",
      "Es mayor a 2\n",
      "Es mayor a 2\n",
      "Es mayor a 2\n",
      "Es mayor a 2\n"
     ]
    }
   ],
   "source": [
    "for i in range(10):\n",
    "    if i <= 1:\n",
    "        print(\"Es menor o igual a 1\")\n",
    "    elif i == 2:\n",
    "        print(\"Es igual a 2\")\n",
    "    else:\n",
    "        print(\"Es mayor a 2\")"
   ]
  },
  {
   "cell_type": "code",
   "execution_count": 126,
   "metadata": {},
   "outputs": [],
   "source": [
    "num_pares = []\n",
    "num_impares = []"
   ]
  },
  {
   "cell_type": "code",
   "execution_count": 128,
   "metadata": {},
   "outputs": [
    {
     "data": {
      "text/plain": [
       "[]"
      ]
     },
     "execution_count": 128,
     "metadata": {},
     "output_type": "execute_result"
    }
   ],
   "source": [
    "num_impares"
   ]
  },
  {
   "cell_type": "code",
   "execution_count": 129,
   "metadata": {},
   "outputs": [
    {
     "name": "stdout",
     "output_type": "stream",
     "text": [
      "El cero no va\n",
      "1 es impar\n",
      "2 es par\n",
      "3 es impar\n",
      "4 es par\n",
      "5 es impar\n",
      "6 es par\n",
      "7 es impar\n",
      "8 es par\n",
      "9 es impar\n"
     ]
    }
   ],
   "source": [
    "\n",
    "for num in range(10):\n",
    "    \n",
    "    if num == 0:\n",
    "        print(\"El cero no va\")\n",
    "        \n",
    "    elif num%2 == 0 :\n",
    "        print(f\"{num} es par\")\n",
    "        num_pares.append(num)\n",
    "    \n",
    "    else:\n",
    "        print(f\"{num} es impar\")\n",
    "        num_impares.append(num)\n",
    "    "
   ]
  },
  {
   "cell_type": "code",
   "execution_count": 133,
   "metadata": {},
   "outputs": [
    {
     "name": "stdout",
     "output_type": "stream",
     "text": [
      "[2, 4, 6, 8]\n",
      "[1, 3, 5, 7, 9]\n"
     ]
    }
   ],
   "source": [
    "num_pares\n"
   ]
  },
  {
   "cell_type": "code",
   "execution_count": null,
   "metadata": {},
   "outputs": [],
   "source": [
    "num_impares"
   ]
  },
  {
   "cell_type": "markdown",
   "metadata": {
    "id": "36Ie8p1pfPqp"
   },
   "source": [
    "Creemos dos listas una de numeros pares y otra de impares.\n",
    "\n",
    "**¡Atención!** con el uso de los elif."
   ]
  },
  {
   "cell_type": "code",
   "execution_count": null,
   "metadata": {},
   "outputs": [],
   "source": []
  },
  {
   "cell_type": "markdown",
   "metadata": {
    "id": "2K_N5GACfPq-"
   },
   "source": [
    "# While loops (continue, pass, break)"
   ]
  },
  {
   "cell_type": "markdown",
   "metadata": {
    "id": "Y0wS0B_jfPq_"
   },
   "source": [
    "Los **while loops** iteran infinitamente hasta que se cumpla una condición dada.\n",
    "\n",
    "* Con **continue** se puede detener la iteración actual y pasar a la siguiente.\n",
    "* Con **pass** es muy parecido a null se utiliza cuando no hay ninguna acción a realizar y simplemente se quiere continuar.\n",
    "* Con **break** se detiene completamente la ejecución iterativa que se esta ejecutando.\n",
    "\n",
    "Veamos un ejemplo:"
   ]
  },
  {
   "cell_type": "code",
   "execution_count": null,
   "metadata": {
    "colab": {
     "base_uri": "https://localhost:8080/"
    },
    "id": "EMfNkJUFfPrA",
    "outputId": "5a4eb67f-92f2-423c-b43d-b7f051bbe2e1"
   },
   "outputs": [],
   "source": []
  },
  {
   "cell_type": "markdown",
   "metadata": {
    "id": "zAEV7QXIfPrM"
   },
   "source": [
    "**try - except** \n",
    "\n",
    "Algunas operaciones pueden tener errores, si queremos visualizar el error pero aún asi continuar ejecutando el código podemos usar las funciones de try y except."
   ]
  },
  {
   "cell_type": "code",
   "execution_count": null,
   "metadata": {},
   "outputs": [],
   "source": []
  },
  {
   "cell_type": "markdown",
   "metadata": {
    "id": "KfreK1lofPrY"
   },
   "source": [
    "# Definir funciones"
   ]
  },
  {
   "cell_type": "markdown",
   "metadata": {
    "id": "QAGion9UfPrZ"
   },
   "source": [
    "Las funciones son bloques de código que se pueden reutilizar simplemente llamando a la función. Esto permite la reutilización de código simple y elegante sin volver a escribir explícitamente secciones de código. Esto hace que el código sea más legible, facilita la depuración y limita los errores de escritura.   \n",
    "\n",
    "También podemos crear nuestras propias funciones.\n",
    "\n",
    "* Toda función definida por el usuario debe tener la siguiente estructura: **def** `<nombre(parámetros)>`:\n",
    "* La siguiente lineas a la estructura básica deben estar indentadas.\n",
    "* Incluir que debe ejecutar mi función cuando sea llamada.\n",
    "* Retornar un valor."
   ]
  },
  {
   "cell_type": "code",
   "execution_count": null,
   "metadata": {
    "id": "UVkb0Hh9fPrd"
   },
   "outputs": [],
   "source": []
  },
  {
   "cell_type": "markdown",
   "metadata": {
    "id": "hsryWCDlfPrz"
   },
   "source": [
    "También es posible tener parámetros con valores predeterminados en una función definida."
   ]
  },
  {
   "cell_type": "code",
   "execution_count": null,
   "metadata": {
    "colab": {
     "base_uri": "https://localhost:8080/"
    },
    "id": "LVdP0YjifPr0",
    "outputId": "76a5dad0-37c8-480c-b947-b28c4829296c"
   },
   "outputs": [],
   "source": [
    "\n",
    "\n"
   ]
  },
  {
   "cell_type": "markdown",
   "metadata": {
    "id": "VfMyV7WcfPsD"
   },
   "source": [
    "Las funciones también pueden retornar múltiples valores."
   ]
  },
  {
   "cell_type": "code",
   "execution_count": null,
   "metadata": {
    "id": "x2bFfTyJfPsE"
   },
   "outputs": [],
   "source": [
    "\n",
    "\n"
   ]
  },
  {
   "cell_type": "markdown",
   "metadata": {
    "id": "hWzqPg9lfPsQ"
   },
   "source": [
    "# Instalación de Paquetes"
   ]
  },
  {
   "cell_type": "code",
   "execution_count": null,
   "metadata": {
    "id": "8G9dPVcbfPsR"
   },
   "outputs": [],
   "source": [
    "# pip install {Package} #básicas ya"
   ]
  },
  {
   "cell_type": "code",
   "execution_count": null,
   "metadata": {
    "colab": {
     "base_uri": "https://localhost:8080/"
    },
    "id": "yNva4lRBfPsi",
    "outputId": "34607ca9-7505-4e2c-bb49-485e15a0d9c4"
   },
   "outputs": [],
   "source": []
  }
 ],
 "metadata": {
  "colab": {
   "collapsed_sections": [],
   "name": "Introducción_Python.ipynb",
   "provenance": []
  },
  "kernelspec": {
   "display_name": "Python 3 (ipykernel)",
   "language": "python",
   "name": "python3"
  },
  "language_info": {
   "codemirror_mode": {
    "name": "ipython",
    "version": 3
   },
   "file_extension": ".py",
   "mimetype": "text/x-python",
   "name": "python",
   "nbconvert_exporter": "python",
   "pygments_lexer": "ipython3",
   "version": "3.10.6"
  }
 },
 "nbformat": 4,
 "nbformat_minor": 1
}
