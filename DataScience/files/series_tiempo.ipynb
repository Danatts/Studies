{
  "nbformat": 4,
  "nbformat_minor": 0,
  "metadata": {
    "colab": {
      "private_outputs": true,
      "provenance": []
    },
    "kernelspec": {
      "name": "python3",
      "display_name": "Python 3"
    },
    "language_info": {
      "name": "python"
    }
  },
  "cells": [
    {
      "cell_type": "code",
      "execution_count": null,
      "metadata": {
        "id": "D30THUpEIDfK"
      },
      "outputs": [],
      "source": [
        "import pandas as pd\n",
        "import matplotlib.pyplot as plt\n",
        "from prophet import Prophet"
      ]
    },
    {
      "cell_type": "code",
      "source": [
        "# Cargar el conjunto de datos\n",
        "url = 'https://raw.githubusercontent.com/jbrownlee/Datasets/master/airline-passengers.csv'\n",
        "df = pd.read_csv(url)"
      ],
      "metadata": {
        "id": "T2jkwQkCIPSM"
      },
      "execution_count": null,
      "outputs": []
    },
    {
      "cell_type": "code",
      "source": [
        "# Pasamos los datos a formato fecha\n",
        "df['Month'] = pd.to_datetime(df['Month'], format = '%Y-%m')"
      ],
      "metadata": {
        "id": "0cCxXU9FJzZy"
      },
      "execution_count": null,
      "outputs": []
    },
    {
      "cell_type": "code",
      "source": [
        "# Indicamos el mes como índice de la tabla\n",
        "df = df.set_index('Month')"
      ],
      "metadata": {
        "id": "RXvjJwc6FUzE"
      },
      "execution_count": null,
      "outputs": []
    },
    {
      "cell_type": "code",
      "source": [
        "df = df.squeeze()"
      ],
      "metadata": {
        "id": "fpUIhrlpQRaP"
      },
      "execution_count": null,
      "outputs": []
    },
    {
      "cell_type": "code",
      "source": [
        "df.head()"
      ],
      "metadata": {
        "id": "0YXWoLreGDxo"
      },
      "execution_count": null,
      "outputs": []
    },
    {
      "cell_type": "code",
      "source": [
        "# Visualizar el conjunto de datos\n",
        "plt.figure(figsize=(24, 6))\n",
        "plt.plot(df)\n",
        "plt.title('Pasajeros Aéreos Mensuales (1949-1960)')\n",
        "plt.xlabel('Fecha')\n",
        "plt.ylabel('Número de Pasajeros')\n",
        "plt.grid(True)\n",
        "plt.show()\n",
        "plt.close()"
      ],
      "metadata": {
        "id": "ngcwqznAIYkh"
      },
      "execution_count": null,
      "outputs": []
    },
    {
      "cell_type": "code",
      "source": [
        "# Valor real\n",
        "def real_value(year, month):\n",
        "    date = f'{year}-{month}'\n",
        "    row = df.loc[date]\n",
        "    return row.sum()"
      ],
      "metadata": {
        "id": "1_o-sMW1GxWn"
      },
      "execution_count": null,
      "outputs": []
    },
    {
      "cell_type": "code",
      "source": [
        "# Dato inmediatamente anterior\n",
        "def last_record(year, month):\n",
        "    date = f'{year}-{month}'\n",
        "    last_record_row = df.loc[df.index < date].tail(1)\n",
        "    return last_record_row.sum()"
      ],
      "metadata": {
        "id": "NJrBGxgKVdWv"
      },
      "execution_count": null,
      "outputs": []
    },
    {
      "cell_type": "code",
      "source": [
        "# Promedio de todos los datos anteriores\n",
        "def mean_from_past_data(year, month):\n",
        "    date = f'{year}-{month}'\n",
        "    past_data = df.loc[df.index < date]\n",
        "    mean = past_data.mean()\n",
        "    return round(mean)"
      ],
      "metadata": {
        "id": "dq4XvOMJIdqB"
      },
      "execution_count": null,
      "outputs": []
    },
    {
      "cell_type": "code",
      "source": [
        "# Promedio de los último n datos\n",
        "def last_n_records(year, month, n_periods):\n",
        "    date = f'{year}-{month}'\n",
        "    last_n_records_rows = df.loc[df.index < date].tail(n_periods)\n",
        "    return round(last_n_records_rows.mean())"
      ],
      "metadata": {
        "id": "rH5rb38fPPLX"
      },
      "execution_count": null,
      "outputs": []
    },
    {
      "cell_type": "code",
      "source": [
        "# Ponderación de los datos pasados\n",
        "\n",
        "## Definimos una función que suaviza una serie de tiempo dado un alpha\n",
        "def exponential_smoothing(series, alpha):\n",
        "    smoothed_series = pd.Series(index = series.index, dtype = 'float64')\n",
        "    smoothed_series[0] = series[0]\n",
        "\n",
        "    for t in range(1, len(series)):\n",
        "        smoothed_series[t] = alpha * series[t] + (1 - alpha) * smoothed_series[t - 1]\n",
        "\n",
        "    return smoothed_series\n",
        "\n",
        "## Definimos una función que suaviza una serie de tiempo dado un alpha y luego\n",
        "## genera una predicción para los siguientes n periodos\n",
        "def exponential_smoothing_forecast(series, alpha, steps):\n",
        "    smoothed_series = exponential_smoothing(series, alpha)\n",
        "    last_smoothed_value = smoothed_series[-1]\n",
        "\n",
        "    forecast_values = []\n",
        "    for _ in range(steps):\n",
        "        forecast_values.append(last_smoothed_value)\n",
        "        last_smoothed_value = alpha * series[-1] + (1 - alpha) * last_smoothed_value\n",
        "\n",
        "    return forecast_values\n",
        "\n",
        "def ses_forecast(year, month, alpha = 0.6):\n",
        "    date = f'{year}-{month}'\n",
        "    past_data = df.loc[df.index < date]\n",
        "    return round(exponential_smoothing_forecast(past_data, alpha, 1)[0])"
      ],
      "metadata": {
        "id": "2c_VLpIvPKsZ"
      },
      "execution_count": null,
      "outputs": []
    },
    {
      "cell_type": "code",
      "source": [
        "# Declara una función que, dado un año y un mes, pronostica el número de pasajeros\n",
        "# (Las fechas no pueden ser superiores a Diciembre de 1961)\n",
        "def print_forecasts(year, month, n_periods = 6, alpha = 0.6):\n",
        "    print(f'Pronóstico real: {real_value(year, month)}')\n",
        "    print(f'Pronóstico por dato anterior: {last_record(year, month)}')\n",
        "    print(f'Pronóstico por promedio histórico: {mean_from_past_data(year, month)}')\n",
        "    print(f'Pronóstico por promedio movil: {last_n_records(year, month, n_periods)}')\n",
        "    print(f'Pronóstico por promedio ponderado: {ses_forecast(year, month, alpha)}')\n",
        "\n",
        "print_forecasts(1950, 12)"
      ],
      "metadata": {
        "id": "88WB7A-0Oqe-"
      },
      "execution_count": null,
      "outputs": []
    },
    {
      "cell_type": "markdown",
      "source": [
        "## Respuesta ChatGPT\n",
        "\n",
        "### Pregunta\n",
        "\n",
        "Genera una fucnión en python que, dada una colección de datos en una serie de tiempo, pronostique el valor para el siguiente periodo. Esto usando la metodología de suavizamiento exponencial\n",
        "\n",
        "### Respuesta\n",
        "\n",
        "Por supuesto, puedo ayudarte a crear una función en Python que utilice el método de suavizamiento exponencial para predecir el valor para el siguiente período en una serie de tiempo. Aquí tienes un ejemplo de cómo podrías implementar esto utilizando la librería pandas y los cálculos de suavizamiento exponencial:\n",
        "\n",
        "```python\n",
        "import pandas as pd\n",
        "\n",
        "def exponential_smoothing(series, alpha):\n",
        "    \"\"\"\n",
        "    Realiza suavizamiento exponencial en una serie de tiempo.\n",
        "    \n",
        "    :param series: La serie de tiempo a suavizar.\n",
        "    :param alpha: El factor de suavización (0 <= alpha <= 1).\n",
        "    :return: La serie de tiempo suavizada.\n",
        "    \"\"\"\n",
        "    smoothed_series = pd.Series(index=series.index)\n",
        "    smoothed_series[0] = series[0]  # El primer valor se mantiene igual\n",
        "    \n",
        "    for t in range(1, len(series)):\n",
        "        smoothed_series[t] = alpha * series[t] + (1 - alpha) * smoothed_series[t - 1]\n",
        "    \n",
        "    return smoothed_series\n",
        "\n",
        "def exponential_smoothing_forecast(series, alpha, steps):\n",
        "    \"\"\"\n",
        "    Realiza una predicción utilizando suavizamiento exponencial en una serie de tiempo.\n",
        "    \n",
        "    :param series: La serie de tiempo para la predicción.\n",
        "    :param alpha: El factor de suavización (0 <= alpha <= 1).\n",
        "    :param steps: El número de períodos a pronosticar.\n",
        "    :return: Una lista de valores pronosticados.\n",
        "    \"\"\"\n",
        "    smoothed_series = exponential_smoothing(series, alpha)\n",
        "    last_smoothed_value = smoothed_series[-1]\n",
        "    \n",
        "    forecast_values = []\n",
        "    for _ in range(steps):\n",
        "        forecast_values.append(last_smoothed_value)\n",
        "        last_smoothed_value = alpha * series[-1] + (1 - alpha) * last_smoothed_value\n",
        "    \n",
        "    return forecast_values\n",
        "\n",
        "# Ejemplo de uso\n",
        "data = [10, 15, 20, 25, 30, 35]\n",
        "date_index = pd.date_range(start='2023-08-01', periods=len(data))\n",
        "series = pd.Series(data, index=date_index)\n",
        "\n",
        "alpha = 0.2  # Factor de suavización\n",
        "steps = 1   # Número de períodos a pronosticar\n",
        "\n",
        "forecast = exponential_smoothing_forecast(series, alpha, steps)\n",
        "print(\"Serie de tiempo original:\")\n",
        "print(series)\n",
        "print(\"\\nValor pronosticado para el siguiente período:\")\n",
        "print(forecast)\n",
        "```\n",
        "\n",
        "En este ejemplo, `exponential_smoothing()` calcula la serie suavizada utilizando el método de suavizamiento exponencial. Luego, `exponential_smoothing_forecast()` utiliza la serie suavizada para predecir el valor para el siguiente período. Puedes ajustar el valor de `alpha` para controlar el peso de los datos pasados en la predicción."
      ],
      "metadata": {
        "id": "o3vxBQCdUumI"
      }
    },
    {
      "cell_type": "code",
      "source": [],
      "metadata": {
        "id": "kg70HdQ9U4x6"
      },
      "execution_count": null,
      "outputs": []
    }
  ]
}