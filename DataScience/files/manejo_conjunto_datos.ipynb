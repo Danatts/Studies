{
 "cells": [
  {
   "cell_type": "markdown",
   "id": "8a86a43d-cfe0-4637-8346-29f3c56f85bb",
   "metadata": {},
   "source": [
    "# Manejo de Conjunto de Datos"
   ]
  },
  {
   "cell_type": "markdown",
   "id": "a7911dcf-bd66-4136-953c-28fd09f80c1f",
   "metadata": {},
   "source": [
    "## Importar librerías"
   ]
  },
  {
   "cell_type": "code",
   "execution_count": 3,
   "id": "3a3f36c4-98ac-4d59-8d1f-2de03fa6ee89",
   "metadata": {},
   "outputs": [],
   "source": [
    "import pandas as pd"
   ]
  },
  {
   "cell_type": "markdown",
   "id": "f1d88315-23ce-45e7-afa2-155d69b7c3a6",
   "metadata": {},
   "source": [
    "## Concatenar conjunto de datos"
   ]
  },
  {
   "cell_type": "code",
   "execution_count": 15,
   "id": "24f35aae-6dcc-4b73-811e-9279861e3c3e",
   "metadata": {},
   "outputs": [
    {
     "data": {
      "text/plain": [
       "(1599, 12)"
      ]
     },
     "execution_count": 15,
     "metadata": {},
     "output_type": "execute_result"
    }
   ],
   "source": [
    "red_wine = pd.read_csv('../datasets/wine/winequality-red.csv', delimiter = ';')\n",
    "red_wine.shape"
   ]
  },
  {
   "cell_type": "code",
   "execution_count": 16,
   "id": "d21b517c-d871-410d-8dd0-315b314f9814",
   "metadata": {},
   "outputs": [
    {
     "data": {
      "text/plain": [
       "(4898, 12)"
      ]
     },
     "execution_count": 16,
     "metadata": {},
     "output_type": "execute_result"
    }
   ],
   "source": [
    "white_wine = pd.read_csv('../datasets/wine/winequality-white.csv', delimiter = ';')\n",
    "white_wine.shape"
   ]
  },
  {
   "cell_type": "code",
   "execution_count": 23,
   "id": "bd2fe29b-6b90-4862-9f1c-bed5bba5573c",
   "metadata": {},
   "outputs": [
    {
     "data": {
      "text/plain": [
       "(6497, 12)"
      ]
     },
     "execution_count": 23,
     "metadata": {},
     "output_type": "execute_result"
    }
   ],
   "source": [
    "wine_data = pd.concat([red_wine, white_wine], axis = 0)\n",
    "wine_data.shape"
   ]
  },
  {
   "cell_type": "code",
   "execution_count": 22,
   "id": "7915d495-2e7e-4475-a154-f79937302fbb",
   "metadata": {},
   "outputs": [
    {
     "data": {
      "text/html": [
       "<div>\n",
       "<style scoped>\n",
       "    .dataframe tbody tr th:only-of-type {\n",
       "        vertical-align: middle;\n",
       "    }\n",
       "\n",
       "    .dataframe tbody tr th {\n",
       "        vertical-align: top;\n",
       "    }\n",
       "\n",
       "    .dataframe thead th {\n",
       "        text-align: right;\n",
       "    }\n",
       "</style>\n",
       "<table border=\"1\" class=\"dataframe\">\n",
       "  <thead>\n",
       "    <tr style=\"text-align: right;\">\n",
       "      <th></th>\n",
       "      <th>fixed acidity</th>\n",
       "      <th>volatile acidity</th>\n",
       "      <th>citric acid</th>\n",
       "      <th>residual sugar</th>\n",
       "      <th>chlorides</th>\n",
       "      <th>free sulfur dioxide</th>\n",
       "      <th>total sulfur dioxide</th>\n",
       "      <th>density</th>\n",
       "      <th>pH</th>\n",
       "      <th>sulphates</th>\n",
       "      <th>alcohol</th>\n",
       "      <th>quality</th>\n",
       "    </tr>\n",
       "  </thead>\n",
       "  <tbody>\n",
       "    <tr>\n",
       "      <th>0</th>\n",
       "      <td>7.4</td>\n",
       "      <td>0.70</td>\n",
       "      <td>0.00</td>\n",
       "      <td>1.9</td>\n",
       "      <td>0.076</td>\n",
       "      <td>11.0</td>\n",
       "      <td>34.0</td>\n",
       "      <td>0.9978</td>\n",
       "      <td>3.51</td>\n",
       "      <td>0.56</td>\n",
       "      <td>9.4</td>\n",
       "      <td>5</td>\n",
       "    </tr>\n",
       "    <tr>\n",
       "      <th>1</th>\n",
       "      <td>7.8</td>\n",
       "      <td>0.88</td>\n",
       "      <td>0.00</td>\n",
       "      <td>2.6</td>\n",
       "      <td>0.098</td>\n",
       "      <td>25.0</td>\n",
       "      <td>67.0</td>\n",
       "      <td>0.9968</td>\n",
       "      <td>3.20</td>\n",
       "      <td>0.68</td>\n",
       "      <td>9.8</td>\n",
       "      <td>5</td>\n",
       "    </tr>\n",
       "    <tr>\n",
       "      <th>2</th>\n",
       "      <td>7.8</td>\n",
       "      <td>0.76</td>\n",
       "      <td>0.04</td>\n",
       "      <td>2.3</td>\n",
       "      <td>0.092</td>\n",
       "      <td>15.0</td>\n",
       "      <td>54.0</td>\n",
       "      <td>0.9970</td>\n",
       "      <td>3.26</td>\n",
       "      <td>0.65</td>\n",
       "      <td>9.8</td>\n",
       "      <td>5</td>\n",
       "    </tr>\n",
       "    <tr>\n",
       "      <th>3</th>\n",
       "      <td>11.2</td>\n",
       "      <td>0.28</td>\n",
       "      <td>0.56</td>\n",
       "      <td>1.9</td>\n",
       "      <td>0.075</td>\n",
       "      <td>17.0</td>\n",
       "      <td>60.0</td>\n",
       "      <td>0.9980</td>\n",
       "      <td>3.16</td>\n",
       "      <td>0.58</td>\n",
       "      <td>9.8</td>\n",
       "      <td>6</td>\n",
       "    </tr>\n",
       "    <tr>\n",
       "      <th>4</th>\n",
       "      <td>7.4</td>\n",
       "      <td>0.70</td>\n",
       "      <td>0.00</td>\n",
       "      <td>1.9</td>\n",
       "      <td>0.076</td>\n",
       "      <td>11.0</td>\n",
       "      <td>34.0</td>\n",
       "      <td>0.9978</td>\n",
       "      <td>3.51</td>\n",
       "      <td>0.56</td>\n",
       "      <td>9.4</td>\n",
       "      <td>5</td>\n",
       "    </tr>\n",
       "  </tbody>\n",
       "</table>\n",
       "</div>"
      ],
      "text/plain": [
       "   fixed acidity  volatile acidity  citric acid  residual sugar  chlorides  \\\n",
       "0            7.4              0.70         0.00             1.9      0.076   \n",
       "1            7.8              0.88         0.00             2.6      0.098   \n",
       "2            7.8              0.76         0.04             2.3      0.092   \n",
       "3           11.2              0.28         0.56             1.9      0.075   \n",
       "4            7.4              0.70         0.00             1.9      0.076   \n",
       "\n",
       "   free sulfur dioxide  total sulfur dioxide  density    pH  sulphates  \\\n",
       "0                 11.0                  34.0   0.9978  3.51       0.56   \n",
       "1                 25.0                  67.0   0.9968  3.20       0.68   \n",
       "2                 15.0                  54.0   0.9970  3.26       0.65   \n",
       "3                 17.0                  60.0   0.9980  3.16       0.58   \n",
       "4                 11.0                  34.0   0.9978  3.51       0.56   \n",
       "\n",
       "   alcohol  quality  \n",
       "0      9.4        5  \n",
       "1      9.8        5  \n",
       "2      9.8        5  \n",
       "3      9.8        6  \n",
       "4      9.4        5  "
      ]
     },
     "execution_count": 22,
     "metadata": {},
     "output_type": "execute_result"
    }
   ],
   "source": [
    "wine_data.head()"
   ]
  },
  {
   "cell_type": "markdown",
   "id": "817ded24-4fc9-4173-be8c-dfe4996483a6",
   "metadata": {},
   "source": [
    "## Unión de conjunto de datos"
   ]
  },
  {
   "cell_type": "code",
   "execution_count": 69,
   "id": "99ec5a73-fe70-4ad2-838f-9c05da4d5d46",
   "metadata": {},
   "outputs": [
    {
     "data": {
      "text/html": [
       "<div>\n",
       "<style scoped>\n",
       "    .dataframe tbody tr th:only-of-type {\n",
       "        vertical-align: middle;\n",
       "    }\n",
       "\n",
       "    .dataframe tbody tr th {\n",
       "        vertical-align: top;\n",
       "    }\n",
       "\n",
       "    .dataframe thead th {\n",
       "        text-align: right;\n",
       "    }\n",
       "</style>\n",
       "<table border=\"1\" class=\"dataframe\">\n",
       "  <thead>\n",
       "    <tr style=\"text-align: right;\">\n",
       "      <th></th>\n",
       "      <th>Athlete</th>\n",
       "      <th>Age</th>\n",
       "      <th>Year</th>\n",
       "      <th>Closing Ceremony Date</th>\n",
       "      <th>Gold Medals</th>\n",
       "      <th>Silver Medals</th>\n",
       "      <th>Bronze Medals</th>\n",
       "      <th>Total Medals</th>\n",
       "    </tr>\n",
       "  </thead>\n",
       "  <tbody>\n",
       "    <tr>\n",
       "      <th>0</th>\n",
       "      <td>Michael Phelps</td>\n",
       "      <td>23.0</td>\n",
       "      <td>2008</td>\n",
       "      <td>08/24/2008</td>\n",
       "      <td>8</td>\n",
       "      <td>0</td>\n",
       "      <td>0</td>\n",
       "      <td>8</td>\n",
       "    </tr>\n",
       "    <tr>\n",
       "      <th>1</th>\n",
       "      <td>Michael Phelps</td>\n",
       "      <td>19.0</td>\n",
       "      <td>2004</td>\n",
       "      <td>08/29/2004</td>\n",
       "      <td>6</td>\n",
       "      <td>0</td>\n",
       "      <td>2</td>\n",
       "      <td>8</td>\n",
       "    </tr>\n",
       "    <tr>\n",
       "      <th>2</th>\n",
       "      <td>Michael Phelps</td>\n",
       "      <td>27.0</td>\n",
       "      <td>2012</td>\n",
       "      <td>08/12/2012</td>\n",
       "      <td>4</td>\n",
       "      <td>2</td>\n",
       "      <td>0</td>\n",
       "      <td>6</td>\n",
       "    </tr>\n",
       "    <tr>\n",
       "      <th>3</th>\n",
       "      <td>Natalie Coughlin</td>\n",
       "      <td>25.0</td>\n",
       "      <td>2008</td>\n",
       "      <td>08/24/2008</td>\n",
       "      <td>1</td>\n",
       "      <td>2</td>\n",
       "      <td>3</td>\n",
       "      <td>6</td>\n",
       "    </tr>\n",
       "    <tr>\n",
       "      <th>4</th>\n",
       "      <td>Aleksey Nemov</td>\n",
       "      <td>24.0</td>\n",
       "      <td>2000</td>\n",
       "      <td>10/01/2000</td>\n",
       "      <td>2</td>\n",
       "      <td>1</td>\n",
       "      <td>3</td>\n",
       "      <td>6</td>\n",
       "    </tr>\n",
       "  </tbody>\n",
       "</table>\n",
       "</div>"
      ],
      "text/plain": [
       "            Athlete   Age  Year Closing Ceremony Date  Gold Medals  \\\n",
       "0    Michael Phelps  23.0  2008            08/24/2008            8   \n",
       "1    Michael Phelps  19.0  2004            08/29/2004            6   \n",
       "2    Michael Phelps  27.0  2012            08/12/2012            4   \n",
       "3  Natalie Coughlin  25.0  2008            08/24/2008            1   \n",
       "4     Aleksey Nemov  24.0  2000            10/01/2000            2   \n",
       "\n",
       "   Silver Medals  Bronze Medals  Total Medals  \n",
       "0              0              0             8  \n",
       "1              0              2             8  \n",
       "2              2              0             6  \n",
       "3              2              3             6  \n",
       "4              1              3             6  "
      ]
     },
     "execution_count": 69,
     "metadata": {},
     "output_type": "execute_result"
    }
   ],
   "source": [
    "data_main = pd.read_csv('../datasets/medals/medals.csv', encoding = \"ISO-8859-1\")\n",
    "data_main.head()"
   ]
  },
  {
   "cell_type": "code",
   "execution_count": 63,
   "id": "a87464fa-baed-4745-ac39-7412461d64f7",
   "metadata": {},
   "outputs": [
    {
     "data": {
      "text/html": [
       "<div>\n",
       "<style scoped>\n",
       "    .dataframe tbody tr th:only-of-type {\n",
       "        vertical-align: middle;\n",
       "    }\n",
       "\n",
       "    .dataframe tbody tr th {\n",
       "        vertical-align: top;\n",
       "    }\n",
       "\n",
       "    .dataframe thead th {\n",
       "        text-align: right;\n",
       "    }\n",
       "</style>\n",
       "<table border=\"1\" class=\"dataframe\">\n",
       "  <thead>\n",
       "    <tr style=\"text-align: right;\">\n",
       "      <th></th>\n",
       "      <th>Athlete</th>\n",
       "      <th>Country</th>\n",
       "    </tr>\n",
       "  </thead>\n",
       "  <tbody>\n",
       "    <tr>\n",
       "      <th>0</th>\n",
       "      <td>Michael Phelps</td>\n",
       "      <td>United States</td>\n",
       "    </tr>\n",
       "    <tr>\n",
       "      <th>1</th>\n",
       "      <td>Natalie Coughlin</td>\n",
       "      <td>United States</td>\n",
       "    </tr>\n",
       "    <tr>\n",
       "      <th>2</th>\n",
       "      <td>Aleksey Nemov</td>\n",
       "      <td>Russia</td>\n",
       "    </tr>\n",
       "    <tr>\n",
       "      <th>3</th>\n",
       "      <td>Alicia Coutts</td>\n",
       "      <td>Australia</td>\n",
       "    </tr>\n",
       "    <tr>\n",
       "      <th>4</th>\n",
       "      <td>Missy Franklin</td>\n",
       "      <td>United States</td>\n",
       "    </tr>\n",
       "  </tbody>\n",
       "</table>\n",
       "</div>"
      ],
      "text/plain": [
       "            Athlete        Country\n",
       "0    Michael Phelps  United States\n",
       "1  Natalie Coughlin  United States\n",
       "2     Aleksey Nemov         Russia\n",
       "3     Alicia Coutts      Australia\n",
       "4    Missy Franklin  United States"
      ]
     },
     "execution_count": 63,
     "metadata": {},
     "output_type": "execute_result"
    }
   ],
   "source": [
    "data_country = pd.read_csv('../datasets/medals/athlete_country_map.csv', encoding = 'ISO-8859-1')\n",
    "data_country.head()"
   ]
  },
  {
   "cell_type": "code",
   "execution_count": 64,
   "id": "c8796a78-ae0c-4954-a166-339dce0de9ae",
   "metadata": {},
   "outputs": [
    {
     "data": {
      "text/html": [
       "<div>\n",
       "<style scoped>\n",
       "    .dataframe tbody tr th:only-of-type {\n",
       "        vertical-align: middle;\n",
       "    }\n",
       "\n",
       "    .dataframe tbody tr th {\n",
       "        vertical-align: top;\n",
       "    }\n",
       "\n",
       "    .dataframe thead th {\n",
       "        text-align: right;\n",
       "    }\n",
       "</style>\n",
       "<table border=\"1\" class=\"dataframe\">\n",
       "  <thead>\n",
       "    <tr style=\"text-align: right;\">\n",
       "      <th></th>\n",
       "      <th>Athlete</th>\n",
       "      <th>Sport</th>\n",
       "    </tr>\n",
       "  </thead>\n",
       "  <tbody>\n",
       "    <tr>\n",
       "      <th>0</th>\n",
       "      <td>Michael Phelps</td>\n",
       "      <td>Swimming</td>\n",
       "    </tr>\n",
       "    <tr>\n",
       "      <th>1</th>\n",
       "      <td>Natalie Coughlin</td>\n",
       "      <td>Swimming</td>\n",
       "    </tr>\n",
       "    <tr>\n",
       "      <th>2</th>\n",
       "      <td>Aleksey Nemov</td>\n",
       "      <td>Gymnastics</td>\n",
       "    </tr>\n",
       "    <tr>\n",
       "      <th>3</th>\n",
       "      <td>Alicia Coutts</td>\n",
       "      <td>Swimming</td>\n",
       "    </tr>\n",
       "    <tr>\n",
       "      <th>4</th>\n",
       "      <td>Missy Franklin</td>\n",
       "      <td>Swimming</td>\n",
       "    </tr>\n",
       "  </tbody>\n",
       "</table>\n",
       "</div>"
      ],
      "text/plain": [
       "            Athlete       Sport\n",
       "0    Michael Phelps    Swimming\n",
       "1  Natalie Coughlin    Swimming\n",
       "2     Aleksey Nemov  Gymnastics\n",
       "3     Alicia Coutts    Swimming\n",
       "4    Missy Franklin    Swimming"
      ]
     },
     "execution_count": 64,
     "metadata": {},
     "output_type": "execute_result"
    }
   ],
   "source": [
    "data_sports = pd.read_csv('../datasets/medals/athlete_sports_map.csv', encoding = 'ISO-8859-1')\n",
    "data_sports.head()"
   ]
  },
  {
   "cell_type": "markdown",
   "id": "214adfcf-ded6-41f4-b001-ec84d3da7285",
   "metadata": {},
   "source": [
    "### Eliminamos datos duplicados"
   ]
  },
  {
   "cell_type": "code",
   "execution_count": 65,
   "id": "0013b023-e377-4249-8158-b694a0c9c2e5",
   "metadata": {},
   "outputs": [
    {
     "data": {
      "text/plain": [
       "(6956, 2)"
      ]
     },
     "execution_count": 65,
     "metadata": {},
     "output_type": "execute_result"
    }
   ],
   "source": [
    "data_country_dp = data_country.drop_duplicates(subset = 'Athlete')\n",
    "data_country_dp.shape"
   ]
  },
  {
   "cell_type": "code",
   "execution_count": 66,
   "id": "7a2efb7a-c277-48c7-a2f3-0edfa39115c4",
   "metadata": {},
   "outputs": [
    {
     "data": {
      "text/plain": [
       "(6956, 2)"
      ]
     },
     "execution_count": 66,
     "metadata": {},
     "output_type": "execute_result"
    }
   ],
   "source": [
    "data_sports_dp = data_sports.drop_duplicates(subset = 'Athlete')\n",
    "data_sports_dp.shape"
   ]
  },
  {
   "cell_type": "markdown",
   "id": "f5325703-20d3-4d97-b3c9-028ac677f205",
   "metadata": {},
   "source": [
    "### Juntamos las tablas"
   ]
  },
  {
   "cell_type": "code",
   "execution_count": 67,
   "id": "eb0776ed-5626-44b9-844d-e1c874162aeb",
   "metadata": {},
   "outputs": [
    {
     "data": {
      "text/html": [
       "<div>\n",
       "<style scoped>\n",
       "    .dataframe tbody tr th:only-of-type {\n",
       "        vertical-align: middle;\n",
       "    }\n",
       "\n",
       "    .dataframe tbody tr th {\n",
       "        vertical-align: top;\n",
       "    }\n",
       "\n",
       "    .dataframe thead th {\n",
       "        text-align: right;\n",
       "    }\n",
       "</style>\n",
       "<table border=\"1\" class=\"dataframe\">\n",
       "  <thead>\n",
       "    <tr style=\"text-align: right;\">\n",
       "      <th></th>\n",
       "      <th>Athlete</th>\n",
       "      <th>Age</th>\n",
       "      <th>Year</th>\n",
       "      <th>Closing Ceremony Date</th>\n",
       "      <th>Gold Medals</th>\n",
       "      <th>Silver Medals</th>\n",
       "      <th>Bronze Medals</th>\n",
       "      <th>Total Medals</th>\n",
       "      <th>Country</th>\n",
       "    </tr>\n",
       "  </thead>\n",
       "  <tbody>\n",
       "    <tr>\n",
       "      <th>0</th>\n",
       "      <td>Michael Phelps</td>\n",
       "      <td>23.0</td>\n",
       "      <td>2008</td>\n",
       "      <td>08/24/2008</td>\n",
       "      <td>8</td>\n",
       "      <td>0</td>\n",
       "      <td>0</td>\n",
       "      <td>8</td>\n",
       "      <td>United States</td>\n",
       "    </tr>\n",
       "    <tr>\n",
       "      <th>1</th>\n",
       "      <td>Michael Phelps</td>\n",
       "      <td>19.0</td>\n",
       "      <td>2004</td>\n",
       "      <td>08/29/2004</td>\n",
       "      <td>6</td>\n",
       "      <td>0</td>\n",
       "      <td>2</td>\n",
       "      <td>8</td>\n",
       "      <td>United States</td>\n",
       "    </tr>\n",
       "    <tr>\n",
       "      <th>2</th>\n",
       "      <td>Michael Phelps</td>\n",
       "      <td>27.0</td>\n",
       "      <td>2012</td>\n",
       "      <td>08/12/2012</td>\n",
       "      <td>4</td>\n",
       "      <td>2</td>\n",
       "      <td>0</td>\n",
       "      <td>6</td>\n",
       "      <td>United States</td>\n",
       "    </tr>\n",
       "    <tr>\n",
       "      <th>3</th>\n",
       "      <td>Natalie Coughlin</td>\n",
       "      <td>25.0</td>\n",
       "      <td>2008</td>\n",
       "      <td>08/24/2008</td>\n",
       "      <td>1</td>\n",
       "      <td>2</td>\n",
       "      <td>3</td>\n",
       "      <td>6</td>\n",
       "      <td>United States</td>\n",
       "    </tr>\n",
       "    <tr>\n",
       "      <th>4</th>\n",
       "      <td>Natalie Coughlin</td>\n",
       "      <td>21.0</td>\n",
       "      <td>2004</td>\n",
       "      <td>08/29/2004</td>\n",
       "      <td>2</td>\n",
       "      <td>2</td>\n",
       "      <td>1</td>\n",
       "      <td>5</td>\n",
       "      <td>United States</td>\n",
       "    </tr>\n",
       "  </tbody>\n",
       "</table>\n",
       "</div>"
      ],
      "text/plain": [
       "            Athlete   Age  Year Closing Ceremony Date  Gold Medals  \\\n",
       "0    Michael Phelps  23.0  2008            08/24/2008            8   \n",
       "1    Michael Phelps  19.0  2004            08/29/2004            6   \n",
       "2    Michael Phelps  27.0  2012            08/12/2012            4   \n",
       "3  Natalie Coughlin  25.0  2008            08/24/2008            1   \n",
       "4  Natalie Coughlin  21.0  2004            08/29/2004            2   \n",
       "\n",
       "   Silver Medals  Bronze Medals  Total Medals        Country  \n",
       "0              0              0             8  United States  \n",
       "1              0              2             8  United States  \n",
       "2              2              0             6  United States  \n",
       "3              2              3             6  United States  \n",
       "4              2              1             5  United States  "
      ]
     },
     "execution_count": 67,
     "metadata": {},
     "output_type": "execute_result"
    }
   ],
   "source": [
    "# Esta operación realiza un inner join\n",
    "data_main_country = pd.merge(left = data_main, right = data_country_dp,\n",
    "                             left_on = 'Athlete', right_on = 'Athlete')\n",
    "data_main_country.head()"
   ]
  },
  {
   "cell_type": "code",
   "execution_count": 70,
   "id": "7fb2b67b-0c59-41a2-a6a3-c5e49da8769f",
   "metadata": {},
   "outputs": [
    {
     "data": {
      "text/html": [
       "<div>\n",
       "<style scoped>\n",
       "    .dataframe tbody tr th:only-of-type {\n",
       "        vertical-align: middle;\n",
       "    }\n",
       "\n",
       "    .dataframe tbody tr th {\n",
       "        vertical-align: top;\n",
       "    }\n",
       "\n",
       "    .dataframe thead th {\n",
       "        text-align: right;\n",
       "    }\n",
       "</style>\n",
       "<table border=\"1\" class=\"dataframe\">\n",
       "  <thead>\n",
       "    <tr style=\"text-align: right;\">\n",
       "      <th></th>\n",
       "      <th>Athlete</th>\n",
       "      <th>Age</th>\n",
       "      <th>Year</th>\n",
       "      <th>Closing Ceremony Date</th>\n",
       "      <th>Gold Medals</th>\n",
       "      <th>Silver Medals</th>\n",
       "      <th>Bronze Medals</th>\n",
       "      <th>Total Medals</th>\n",
       "      <th>Country</th>\n",
       "      <th>Sport</th>\n",
       "    </tr>\n",
       "  </thead>\n",
       "  <tbody>\n",
       "    <tr>\n",
       "      <th>0</th>\n",
       "      <td>Michael Phelps</td>\n",
       "      <td>23.0</td>\n",
       "      <td>2008</td>\n",
       "      <td>08/24/2008</td>\n",
       "      <td>8</td>\n",
       "      <td>0</td>\n",
       "      <td>0</td>\n",
       "      <td>8</td>\n",
       "      <td>United States</td>\n",
       "      <td>Swimming</td>\n",
       "    </tr>\n",
       "    <tr>\n",
       "      <th>1</th>\n",
       "      <td>Michael Phelps</td>\n",
       "      <td>19.0</td>\n",
       "      <td>2004</td>\n",
       "      <td>08/29/2004</td>\n",
       "      <td>6</td>\n",
       "      <td>0</td>\n",
       "      <td>2</td>\n",
       "      <td>8</td>\n",
       "      <td>United States</td>\n",
       "      <td>Swimming</td>\n",
       "    </tr>\n",
       "    <tr>\n",
       "      <th>2</th>\n",
       "      <td>Michael Phelps</td>\n",
       "      <td>27.0</td>\n",
       "      <td>2012</td>\n",
       "      <td>08/12/2012</td>\n",
       "      <td>4</td>\n",
       "      <td>2</td>\n",
       "      <td>0</td>\n",
       "      <td>6</td>\n",
       "      <td>United States</td>\n",
       "      <td>Swimming</td>\n",
       "    </tr>\n",
       "    <tr>\n",
       "      <th>3</th>\n",
       "      <td>Natalie Coughlin</td>\n",
       "      <td>25.0</td>\n",
       "      <td>2008</td>\n",
       "      <td>08/24/2008</td>\n",
       "      <td>1</td>\n",
       "      <td>2</td>\n",
       "      <td>3</td>\n",
       "      <td>6</td>\n",
       "      <td>United States</td>\n",
       "      <td>Swimming</td>\n",
       "    </tr>\n",
       "    <tr>\n",
       "      <th>4</th>\n",
       "      <td>Natalie Coughlin</td>\n",
       "      <td>21.0</td>\n",
       "      <td>2004</td>\n",
       "      <td>08/29/2004</td>\n",
       "      <td>2</td>\n",
       "      <td>2</td>\n",
       "      <td>1</td>\n",
       "      <td>5</td>\n",
       "      <td>United States</td>\n",
       "      <td>Swimming</td>\n",
       "    </tr>\n",
       "  </tbody>\n",
       "</table>\n",
       "</div>"
      ],
      "text/plain": [
       "            Athlete   Age  Year Closing Ceremony Date  Gold Medals  \\\n",
       "0    Michael Phelps  23.0  2008            08/24/2008            8   \n",
       "1    Michael Phelps  19.0  2004            08/29/2004            6   \n",
       "2    Michael Phelps  27.0  2012            08/12/2012            4   \n",
       "3  Natalie Coughlin  25.0  2008            08/24/2008            1   \n",
       "4  Natalie Coughlin  21.0  2004            08/29/2004            2   \n",
       "\n",
       "   Silver Medals  Bronze Medals  Total Medals        Country     Sport  \n",
       "0              0              0             8  United States  Swimming  \n",
       "1              0              2             8  United States  Swimming  \n",
       "2              2              0             6  United States  Swimming  \n",
       "3              2              3             6  United States  Swimming  \n",
       "4              2              1             5  United States  Swimming  "
      ]
     },
     "execution_count": 70,
     "metadata": {},
     "output_type": "execute_result"
    }
   ],
   "source": [
    "data_final = pd.merge(left = data_main_country, right = data_sports_dp,\n",
    "                             left_on = 'Athlete', right_on = 'Athlete')\n",
    "data_final.head()"
   ]
  },
  {
   "cell_type": "markdown",
   "id": "573d6d72-cc0d-4a5f-a192-6b81d1df6d42",
   "metadata": {},
   "source": [
    "## Tipos de uniones\n",
    "\n",
    "### Inner Join\n",
    "\n",
    "Devuelve un conjunto ocn las filas que tienen valor tanto en el primer como en el segundo conjunto.\n",
    "\n",
    "### Left Join\n",
    "\n",
    "Devuelve un conjunto con las filas que tuvieran valor en el conjunto de la izquierda sin importar si tienen correspondencia en el de la derecha o no. Si las filas del conjunto original no corresponde a ninguna fila del segundo conjunto, tendrán NAs en las columnas del conjunto derecho.\n",
    "\n",
    "### Left Join\n",
    "\n",
    "Devuelve un conjunto con las filas que tuvieran valor en el conjunto de la derecha sin importar si tienen correspondencia en el de la izquierda o no. Si las filas del conjunto original no corresponde a ninguna fila del segundo conjunto, tendrán NAs en las columnas del conjunto izquierdo.\n",
    "\n",
    "### Outer Join\n",
    "\n",
    "Devuelve toda la información de ambos conjuntos, reemplazando los elementos que no tengan correspondencia con NAs."
   ]
  }
 ],
 "metadata": {
  "kernelspec": {
   "display_name": "Python 3 (ipykernel)",
   "language": "python",
   "name": "python3"
  },
  "language_info": {
   "codemirror_mode": {
    "name": "ipython",
    "version": 3
   },
   "file_extension": ".py",
   "mimetype": "text/x-python",
   "name": "python",
   "nbconvert_exporter": "python",
   "pygments_lexer": "ipython3",
   "version": "3.10.12"
  }
 },
 "nbformat": 4,
 "nbformat_minor": 5
}
