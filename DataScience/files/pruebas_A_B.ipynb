{
 "cells": [
  {
   "cell_type": "markdown",
   "metadata": {
    "id": "l6er2IKgv3kb"
   },
   "source": [
    "# Analizar Resultados de Prueba A/B\n",
    "\n",
    "(Inspirado en un proyecto público de Udacity).\n",
    "\n",
    "Este proyecto asegurará que has dominado los temas cubiertos en las lecciones de estadística. Hemos organizado el cuaderno actual en las siguientes secciones:\n",
    "\n",
    "- [Introducción](#intro)\n",
    "- [Parte I - Probabilidad](#probability)\n",
    "- [Parte II - Prueba A/B](#ab_test)\n",
    "\n",
    "\n",
    "\n",
    "Las tareas específicas de programación están marcadas con una etiqueta **ToDo**.\n",
    "\n",
    "<a id='intro'></a>\n",
    "## Introducción\n",
    "\n",
    "Las pruebas A/B son muy comúnmente realizadas por analistas de datos y científicos de datos. Para este proyecto, trabajarás para entender los resultados de una prueba A/B realizada por un sitio web de comercio electrónico. Tu objetivo es trabajar a través de este cuaderno para ayudar a la empresa a entender si deben:\n",
    "- Implementar la nueva página web,\n",
    "- Mantener la antigua página web, o\n",
    "- Quizás ejecutar el experimento por más tiempo para tomar su decisión.\n",
    "\n",
    "<a id='probability'></a>\n",
    "## Parte I - Probabilidad\n",
    "\n",
    "Para empezar, vamos a importar nuestras bibliotecas."
   ]
  },
  {
   "cell_type": "code",
   "execution_count": 1,
   "metadata": {
    "id": "DSa-r7KPv3kd"
   },
   "outputs": [],
   "source": [
    "import pandas as pd\n",
    "import numpy as np\n",
    "import random\n",
    "import matplotlib.pyplot as plt\n",
    "%matplotlib inline\n",
    "#Fijamos la semilla para asegurarnos de obtener las mismas respuestas\n",
    "random.seed(42)"
   ]
  },
  {
   "cell_type": "markdown",
   "metadata": {
    "id": "JyHJOFAwv3ke"
   },
   "source": [
    "### ToDo 1.1\n",
    "Ahora, lee los datos de `ab_data.csv`. Almacénalos en `df`. A continuación, se describe la data, que consta de un total de 5 columnas:\n",
    "\n",
    "<center>\n",
    "\n",
    "|Columnas de datos|Propósito|Valores válidos|\n",
    "| ------------- |:-------------| -----:|\n",
    "|user_id|ID único|Valores Int64|\n",
    "|timestamp|Marca de tiempo cuando el usuario visitó la página web|-|\n",
    "|group|En el actual experimento A/B, los usuarios se categorizan en dos grupos amplios. <br>Se espera que a los usuarios del grupo `control` se les muestre la `old_page`; y a los usuarios del grupo `treatment` se les presenta la `new_page`. <br>Sin embargo, **algunas filas inexactas** están presentes en los datos iniciales, como un usuario del grupo `control` que se empareja con una `new_page`. |`['control', 'treatment']`|\n",
    "|landing_page|Denota si el usuario visitó la antigua o la nueva página web.|`['old_page', 'new_page']`|\n",
    "|converted|Denota si el usuario decidió pagar por el producto de la empresa. Aquí, `1` significa que sí, el usuario compró el producto.|`[0, 1]`|\n",
    "</center>\n",
    "\n",
    "\n",
    "\n",
    "\n",
    ">\n",
    "\n",
    "**a.** Lee el conjunto de datos del archivo `ab_data.csv` y echa un vistazo a las primeras filas aquí:"
   ]
  },
  {
   "cell_type": "code",
   "execution_count": 8,
   "metadata": {
    "id": "SbM50pWuv3kf"
   },
   "outputs": [
    {
     "name": "stdout",
     "output_type": "stream",
     "text": [
      "<class 'pandas.core.frame.DataFrame'>\n",
      "RangeIndex: 294478 entries, 0 to 294477\n",
      "Data columns (total 5 columns):\n",
      " #   Column        Non-Null Count   Dtype \n",
      "---  ------        --------------   ----- \n",
      " 0   user_id       294478 non-null  int64 \n",
      " 1   timestamp     294478 non-null  object\n",
      " 2   group         294478 non-null  object\n",
      " 3   landing_page  294478 non-null  object\n",
      " 4   converted     294478 non-null  int64 \n",
      "dtypes: int64(2), object(3)\n",
      "memory usage: 11.2+ MB\n"
     ]
    }
   ],
   "source": [
    "df = pd.read_csv('ab_data.csv')\n",
    "df.info()"
   ]
  },
  {
   "cell_type": "markdown",
   "metadata": {
    "id": "mEzXm87Gv3kf"
   },
   "source": [
    "**b.** Usa la celda de abajo para encontrar el número de filas en el conjunto de datos.\n"
   ]
  },
  {
   "cell_type": "code",
   "execution_count": 70,
   "metadata": {
    "id": "5iu-Lowev3kf"
   },
   "outputs": [
    {
     "data": {
      "text/plain": [
       "294478"
      ]
     },
     "execution_count": 70,
     "metadata": {},
     "output_type": "execute_result"
    }
   ],
   "source": [
    "df.shape[0]"
   ]
  },
  {
   "cell_type": "markdown",
   "metadata": {
    "id": "1SZekftZv3kg"
   },
   "source": [
    "\n",
    "**c.** El número de usuarios únicos en el conjunto de datos.\n"
   ]
  },
  {
   "cell_type": "code",
   "execution_count": 4,
   "metadata": {
    "id": "qP01wq2pv3kg"
   },
   "outputs": [
    {
     "data": {
      "text/plain": [
       "290584"
      ]
     },
     "execution_count": 4,
     "metadata": {},
     "output_type": "execute_result"
    }
   ],
   "source": [
    "nums_unique_users = df['user_id'].nunique()\n",
    "nums_unique_users"
   ]
  },
  {
   "cell_type": "markdown",
   "metadata": {
    "collapsed": true,
    "id": "ScejdCxFv3kg"
   },
   "source": [
    "\n",
    "**d.** La proporción de usuarios convertidos.\n"
   ]
  },
  {
   "cell_type": "code",
   "execution_count": 72,
   "metadata": {
    "id": "sXqySc66v3kg"
   },
   "outputs": [
    {
     "name": "stdout",
     "output_type": "stream",
     "text": [
      "Proporción: 0.121\n",
      "Porcentaje: 12.1%\n"
     ]
    }
   ],
   "source": [
    "proporcion_convertidos = round(len(df[df['converted'] == 1]) / nums_unique_users, 3)\n",
    "porcentaje_convertidos = round(proporcion_convertidos * 100, 3)\n",
    "print(f'Proporción: {proporcion_convertidos}\\nPorcentaje: {porcentaje_convertidos}%')"
   ]
  },
  {
   "cell_type": "markdown",
   "metadata": {
    "collapsed": true,
    "id": "TrrKlgcIv3kg"
   },
   "source": [
    "\n",
    "**e.** El número de veces en que el \"group\" es `treatment` pero \"landing_page\" no es una `new_page`.\n"
   ]
  },
  {
   "cell_type": "code",
   "execution_count": 6,
   "metadata": {
    "id": "Ih8hPdBgv3kh"
   },
   "outputs": [
    {
     "data": {
      "text/plain": [
       "1965"
      ]
     },
     "execution_count": 6,
     "metadata": {},
     "output_type": "execute_result"
    }
   ],
   "source": [
    "treatment_newpage = df[(df['group'] == 'treatment') & (df['landing_page'] != 'new_page')]\n",
    "treatment_newpage.shape[0]"
   ]
  },
  {
   "cell_type": "markdown",
   "metadata": {
    "id": "FeiQsC27v3kh"
   },
   "source": [
    "\n",
    "**f.** ¿Alguna de las filas tiene valores faltantes?"
   ]
  },
  {
   "cell_type": "code",
   "execution_count": 21,
   "metadata": {
    "id": "vkyxXUh_v3kh"
   },
   "outputs": [
    {
     "data": {
      "text/plain": [
       "user_id         0\n",
       "timestamp       0\n",
       "group           0\n",
       "landing_page    0\n",
       "converted       0\n",
       "dtype: int64"
      ]
     },
     "execution_count": 21,
     "metadata": {},
     "output_type": "execute_result"
    }
   ],
   "source": [
    "df.isna().sum()"
   ]
  },
  {
   "cell_type": "markdown",
   "metadata": {
    "id": "OG9PugbAv3kh"
   },
   "source": [
    "### ToDo 1.2\n",
    "En una fila particular, las columnas **group** y **landing_page** deberían tener uno de los siguientes valores aceptables:\n",
    "\n",
    "|user_id| timestamp|group|landing_page|converted|\n",
    "|---|---|---|---|---|\n",
    "|XXXX|XXXX|`control`| `old_page`|X |\n",
    "|XXXX|XXXX|`treatment`|`new_page`|X |\n",
    "\n",
    "Esto significa que los usuarios del grupo `control` deben coincidir con `old_page`; y los usuarios del grupo `treatment` deben coincidir con `new_page`.\n",
    "\n",
    "Sin embargo, para las filas en las que `treatment` no coincide con `new_page` o `control` no coincide con `old_page`, no podemos estar seguros de si tales filas recibieron realmente la nueva o la antigua página web.\n",
    "\n",
    "¿cómo debemos manejar las filas donde las columnas de group y landing_page no coinciden?\n",
    "\n",
    "**a.** usa la respuesta para crear un nuevo conjunto de datos. Almacena tu nuevo dataframe en **df2**."
   ]
  },
  {
   "cell_type": "code",
   "execution_count": 39,
   "metadata": {
    "id": "FJRJhHbqv3kh"
   },
   "outputs": [],
   "source": [
    "# Elimina las filas inexactas y guarda el resultado en un nuevo dataframe df2\n",
    "df2 = df.drop(df[(df['group'] == 'control') & (df['landing_page'] == 'new_page')].index)\n",
    "df2.drop(df[(df['group'] == 'treatment') & (df['landing_page'] == 'old_page')].index, inplace = True)\n",
    "# df2"
   ]
  },
  {
   "cell_type": "code",
   "execution_count": 40,
   "metadata": {
    "id": "_CfvYVELv3kh"
   },
   "outputs": [
    {
     "data": {
      "text/plain": [
       "0"
      ]
     },
     "execution_count": 40,
     "metadata": {},
     "output_type": "execute_result"
    }
   ],
   "source": [
    "# Verifica nuevamente que todas las filas incorrectas fueron eliminadas de df2 -\n",
    "# La salida de la siguiente declaración debería ser 0\n",
    "df2[((df2['group'] == 'treatment') == (df2['landing_page'] == 'new_page')) == False].shape[0]"
   ]
  },
  {
   "cell_type": "markdown",
   "metadata": {
    "id": "lPx81YEXv3ki"
   },
   "source": [
    "### ToDo 1.3  \n"
   ]
  },
  {
   "cell_type": "markdown",
   "metadata": {
    "id": "YkbpZ8obv3ki"
   },
   "source": [
    "**a.** ¿Cuántos **user_id** únicos hay en **df2**?"
   ]
  },
  {
   "cell_type": "code",
   "execution_count": 41,
   "metadata": {
    "id": "8VfocEHwv3ki"
   },
   "outputs": [
    {
     "data": {
      "text/plain": [
       "290584"
      ]
     },
     "execution_count": 41,
     "metadata": {},
     "output_type": "execute_result"
    }
   ],
   "source": [
    "nums_unique_users_df2 = df2.nunique().user_id\n",
    "nums_unique_users_df2"
   ]
  },
  {
   "cell_type": "markdown",
   "metadata": {
    "collapsed": true,
    "id": "5xG8zbGYv3ki"
   },
   "source": [
    "**b.** Hay un **user_id** repetido en **df2**. ¿Cuál es?"
   ]
  },
  {
   "cell_type": "code",
   "execution_count": 130,
   "metadata": {
    "id": "PC75Cwm8v3ki"
   },
   "outputs": [
    {
     "data": {
      "text/plain": [
       "773192"
      ]
     },
     "execution_count": 130,
     "metadata": {},
     "output_type": "execute_result"
    }
   ],
   "source": [
    "user_id_repetido = df2[df2['user_id'].duplicated() == True]\n",
    "id_repetido = user_id_repetido['user_id'].values[0]\n",
    "id_repetido"
   ]
  },
  {
   "cell_type": "markdown",
   "metadata": {
    "id": "PXCjUlykv3kj"
   },
   "source": [
    "**c.** ¿Muestra las filas para el **user_id** duplicado?"
   ]
  },
  {
   "cell_type": "code",
   "execution_count": 131,
   "metadata": {
    "id": "1UN3XkQ4v3kj"
   },
   "outputs": [
    {
     "data": {
      "text/html": [
       "<div>\n",
       "<style scoped>\n",
       "    .dataframe tbody tr th:only-of-type {\n",
       "        vertical-align: middle;\n",
       "    }\n",
       "\n",
       "    .dataframe tbody tr th {\n",
       "        vertical-align: top;\n",
       "    }\n",
       "\n",
       "    .dataframe thead th {\n",
       "        text-align: right;\n",
       "    }\n",
       "</style>\n",
       "<table border=\"1\" class=\"dataframe\">\n",
       "  <thead>\n",
       "    <tr style=\"text-align: right;\">\n",
       "      <th></th>\n",
       "      <th>user_id</th>\n",
       "      <th>timestamp</th>\n",
       "      <th>group</th>\n",
       "      <th>landing_page</th>\n",
       "      <th>converted</th>\n",
       "    </tr>\n",
       "  </thead>\n",
       "  <tbody>\n",
       "    <tr>\n",
       "      <th>1899</th>\n",
       "      <td>773192</td>\n",
       "      <td>2017-01-09 05:37:58.781806</td>\n",
       "      <td>treatment</td>\n",
       "      <td>new_page</td>\n",
       "      <td>0</td>\n",
       "    </tr>\n",
       "    <tr>\n",
       "      <th>2893</th>\n",
       "      <td>773192</td>\n",
       "      <td>2017-01-14 02:55:59.590927</td>\n",
       "      <td>treatment</td>\n",
       "      <td>new_page</td>\n",
       "      <td>0</td>\n",
       "    </tr>\n",
       "  </tbody>\n",
       "</table>\n",
       "</div>"
      ],
      "text/plain": [
       "      user_id                   timestamp      group landing_page  converted\n",
       "1899   773192  2017-01-09 05:37:58.781806  treatment     new_page          0\n",
       "2893   773192  2017-01-14 02:55:59.590927  treatment     new_page          0"
      ]
     },
     "execution_count": 131,
     "metadata": {},
     "output_type": "execute_result"
    }
   ],
   "source": [
    "df2[df2['user_id'] == id_repetido]"
   ]
  },
  {
   "cell_type": "markdown",
   "metadata": {
    "id": "P4u8TkEWv3kj"
   },
   "source": [
    "**d.** Elimina **una** de las filas con un **user_id** duplicado, del dataframe **df2**."
   ]
  },
  {
   "cell_type": "code",
   "execution_count": 132,
   "metadata": {
    "id": "Bzs0uFbFv3kj"
   },
   "outputs": [
    {
     "data": {
      "text/plain": [
       "(290584, 5)"
      ]
     },
     "execution_count": 132,
     "metadata": {},
     "output_type": "execute_result"
    }
   ],
   "source": [
    "# Elimina una de las filas con un user_id duplicado..\n",
    "# Pista: El método dataframe.drop_duplicates() puede que no funcione en este caso porque las filas con user_id duplicado no son totalmente idénticas.\n",
    "df2.drop(df2[df2['user_id'] == id_repetido].index[0], inplace = True)\n",
    "# Comprueba de nuevo si la fila con un user_id duplicado ha sido eliminada o no.\n",
    "df2.shape"
   ]
  },
  {
   "cell_type": "markdown",
   "metadata": {
    "id": "U-XVoBgUv3kj"
   },
   "source": [
    "### ToDo 1.4  \n",
    "\n",
    "**a.** ¿Cuál es la probabilidad de que un individuo se convierta independientemente de la página que reciba?<br><br>\n",
    "\n",
    ">**Consejo**: La probabilidad que calcularás representa la tasa de éxito de \"conversión\" general en la población y puedes llamarla $p_{population}$."
   ]
  },
  {
   "cell_type": "code",
   "execution_count": 135,
   "metadata": {
    "id": "Thiwydolv3kj"
   },
   "outputs": [
    {
     "data": {
      "text/plain": [
       "0.12"
      ]
     },
     "execution_count": 135,
     "metadata": {},
     "output_type": "execute_result"
    }
   ],
   "source": [
    "total_population = df2.shape[0]\n",
    "total_convertion = df2[df2['converted'] == 1].shape[0]\n",
    "p_population = round(total_convertion / total_population, 3)\n",
    "p_population"
   ]
  },
  {
   "cell_type": "markdown",
   "metadata": {
    "id": "1GREzzLsv3kj"
   },
   "source": [
    "**b.** Dado que un individuo estaba en el grupo `control`, ¿cuál es la probabilidad de que se haya convertido?"
   ]
  },
  {
   "cell_type": "code",
   "execution_count": 141,
   "metadata": {
    "id": "_R2-kowDv3kk"
   },
   "outputs": [
    {
     "data": {
      "text/plain": [
       "0.12"
      ]
     },
     "execution_count": 141,
     "metadata": {},
     "output_type": "execute_result"
    }
   ],
   "source": [
    "total_control_population = df2[df2['group'] == 'control'].shape[0]\n",
    "total_control_population_converted = df2[(df2['group'] == 'control') & (df2['converted'] == 1)].shape[0]\n",
    "p_population_control = round(total_control_population_converted / total_control_population, 3)\n",
    "p_population_control"
   ]
  },
  {
   "cell_type": "markdown",
   "metadata": {
    "id": "7TGvXvqfv3kk"
   },
   "source": [
    "**c.** Dado que un individuo estaba en el grupo `treatment`, ¿cuál es la probabilidad de que se haya convertido?"
   ]
  },
  {
   "cell_type": "code",
   "execution_count": null,
   "metadata": {
    "collapsed": true,
    "id": "Gg1-5MDov3kk"
   },
   "outputs": [],
   "source": [
    "juancarmonag@laguna-ai.com"
   ]
  },
  {
   "cell_type": "markdown",
   "metadata": {
    "id": "8Fak1Fm_v3kk"
   },
   "source": [
    ">**Consejo**: Las probabilidades que has calculado en los puntos (b). y (c). arriba también pueden ser tratadas como tasa de conversión.\n",
    "Calcula la diferencia real (`obs_diff`) entre las tasas de conversión para los dos grupos. Lo necesitarás más tarde."
   ]
  },
  {
   "cell_type": "code",
   "execution_count": null,
   "metadata": {
    "id": "a5QZuLxpv3kk"
   },
   "outputs": [],
   "source": [
    "# Calcula la diferencia real (obs_diff) entre las tasas de conversión para los dos grupos."
   ]
  },
  {
   "cell_type": "markdown",
   "metadata": {
    "id": "l8_8AJL_v3kk"
   },
   "source": [
    "**d.** ¿Cuál es la probabilidad de que un individuo reciba la nueva página?\n"
   ]
  },
  {
   "cell_type": "code",
   "execution_count": null,
   "metadata": {
    "collapsed": true,
    "id": "Oz1gO33Ov3kk"
   },
   "outputs": [],
   "source": []
  },
  {
   "cell_type": "markdown",
   "metadata": {
    "id": "8HcoI5HUv3kk"
   },
   "source": [
    "\n",
    "**e.** Considera tus resultados de las partes (a) a (d) anteriores, y explica a continuación si los nuevos usuarios del grupo `treatment` conducen a más conversiones.\n"
   ]
  },
  {
   "cell_type": "markdown",
   "metadata": {
    "id": "ks2vLqTFv3kl"
   },
   "source": [
    ">**Your answer goes here.**"
   ]
  },
  {
   "cell_type": "markdown",
   "metadata": {
    "id": "fN6D_Z1Av3kl"
   },
   "source": [
    "\n",
    "<a id='ab_test'></a>\n",
    "## Parte II - Prueba A/B\n",
    "\n",
    "Dado que cada evento está asociado con una marca de tiempo, podrías realizar una prueba de hipótesis continuamente mientras observes los eventos.\n",
    "\n",
    "Sin embargo, entonces las preguntas difíciles serían:\n",
    "- ¿Debes parar tan pronto como una página sea considerada significativamente mejor que otra o necesita suceder de manera consistente durante un cierto período de tiempo?\n",
    "- ¿Cuánto tiempo debes ejecutar para tomar una decisión de que ninguna página es mejor que la otra?\n",
    "\n",
    "Estas preguntas son las partes difíciles asociadas con las pruebas A/B en general.\n",
    "\n",
    "\n",
    "### ToDo 2.1\n",
    "Por ahora, considera que necesitas tomar la decisión solo basándote en todos los datos proporcionados.\n",
    "\n",
    "> Recuerda que acabas de calcular que la probabilidad (o tasa) de \"conversión\" para la página antigua es *ligeramente* mayor que la de la nueva página (ToDo 1.4.c).\n",
    "\n",
    "Si quieres asumir que la página antigua es mejor a menos que la nueva página demuestre ser definitivamente mejor con una tasa de error de Tipo I del 5%, ¿cuáles deberían ser tus hipótesis nula y alternativa (**$H_0$** y **$H_1$**)?\n",
    "\n",
    "Puedes expresar tu hipótesis en palabras o en términos de **$p_{old}$** y **$p_{new}$**, que son la probabilidad (o tasa) de \"conversión\" para las páginas antigua y nueva respectivamente."
   ]
  },
  {
   "cell_type": "markdown",
   "metadata": {
    "id": "q4Ziv6CQv3kx"
   },
   "source": [
    ">**Put your answer here.**"
   ]
  },
  {
   "cell_type": "markdown",
   "metadata": {
    "id": "Ofdhv2EZv3ky"
   },
   "source": [
    "### ToDo 2.2 - Prueba de la hipótesis nula $H_0$\n",
    "Bajo la hipótesis nula $H_0$, asumimos que $p_{new}$ y $p_{old}$ son iguales. Además, asumimos que $p_{new}$ y $p_{old}$ son ambos iguales a la tasa de éxito de **conversión** en los datos de `df2`, independientemente de la página. Entonces, nuestra suposición es: <br><br>\n",
    "<center>\n",
    "$p_{new}$ = $p_{old}$ = $p_{population}$\n",
    "</center>\n",
    "\n",
    "En esta sección, tú:\n",
    "\n",
    "- Simularás (bootstrap) un conjunto de datos de muestra para ambos grupos, y calcularás la probabilidad de \"conversión\" $p$ para esas muestras.\n",
    "\n",
    "\n",
    "- Utilizarás un tamaño de muestra para cada grupo igual a los de los datos `df2`.\n",
    "\n",
    "\n",
    "- Calcularás la diferencia en la probabilidad de \"conversión\" para las dos muestras anteriores.\n",
    "\n",
    "\n",
    "- Realizarás la distribución de muestreo para la \"diferencia en la probabilidad de conversión\" entre las dos muestras simuladas en 10,000 iteraciones; y calcularás una estimación.\n",
    "\n",
    "\n",
    "\n",
    "Usa las celdas de abajo para proporcionar las partes necesarias de esta simulación."
   ]
  },
  {
   "cell_type": "markdown",
   "metadata": {
    "id": "QQWZp2wmv3ky"
   },
   "source": [
    "**a.** ¿Cuál es la **tasa de conversión** para $p_{new}$ bajo la hipótesis nula?\n",
    "\n"
   ]
  },
  {
   "cell_type": "code",
   "execution_count": null,
   "metadata": {
    "collapsed": true,
    "id": "PWiUoriRv3ky"
   },
   "outputs": [],
   "source": []
  },
  {
   "cell_type": "markdown",
   "metadata": {
    "id": "pryox7X7v3ky"
   },
   "source": [
    "\n",
    "**b.** ¿Cuál es la **tasa de conversión** para $p_{old}$ bajo la hipótesis nula?\n"
   ]
  },
  {
   "cell_type": "code",
   "execution_count": null,
   "metadata": {
    "collapsed": true,
    "id": "rQBUeInYv3kz"
   },
   "outputs": [],
   "source": []
  },
  {
   "cell_type": "markdown",
   "metadata": {
    "id": "PD3DTxVkv3kz"
   },
   "source": [
    "\n",
    "**c.** ¿Cuál es $n_{new}$, el número de individuos en el grupo de tratamiento? <br><br>\n",
    "*Sugerencia*: A los usuarios del grupo de tratamiento se les muestra la nueva página.\n"
   ]
  },
  {
   "cell_type": "code",
   "execution_count": null,
   "metadata": {
    "collapsed": true,
    "id": "MjTh75zUv3kz"
   },
   "outputs": [],
   "source": []
  },
  {
   "cell_type": "markdown",
   "metadata": {
    "id": "StKnC5wEv3kz"
   },
   "source": [
    "\n",
    "**d.** ¿Cuál es $n_{old}$, el número de individuos en el grupo de control?\n"
   ]
  },
  {
   "cell_type": "code",
   "execution_count": null,
   "metadata": {
    "collapsed": true,
    "id": "Sf5wao1Iv3kz"
   },
   "outputs": [],
   "source": []
  },
  {
   "cell_type": "markdown",
   "metadata": {
    "id": "_wQ_Kztqv3k0"
   },
   "source": [
    "\n",
    "**e. Simulación de la Muestra para el Grupo `treatment`**<br>\n",
    "Simula $n_{new}$ transacciones con una tasa de conversión de $p_{new}$ bajo la hipótesis nula.  <br><br>\n",
    "*Sugerencia*: Usa el método `numpy.random.choice()` para generar aleatoriamente $n_{new}$ valores. <br>\n",
    "Guarda estos $n_{new}$ 1's y 0's en el array `new_page_converted` de numpy.\n",
    "\n"
   ]
  },
  {
   "cell_type": "code",
   "execution_count": null,
   "metadata": {
    "collapsed": true,
    "id": "PiNaKyFlv3k0"
   },
   "outputs": [],
   "source": [
    "# Simulate a Sample for the treatment Group"
   ]
  },
  {
   "cell_type": "markdown",
   "metadata": {
    "id": "I_7T4cO9v3k0"
   },
   "source": [
    "\n",
    "**f. Simulación de la Muestra para el Grupo `control`** <br>\n",
    "Simula $n_{old}$ transacciones con una tasa de conversión de $p_{old}$ bajo la hipótesis nula. <br> Guarda estos $n_{old}$ 1's y 0's en el array `old_page_converted` de numpy."
   ]
  },
  {
   "cell_type": "code",
   "execution_count": null,
   "metadata": {
    "collapsed": true,
    "id": "EwCywNWJv3k0"
   },
   "outputs": [],
   "source": [
    "# Simulate a Sample for the control Group"
   ]
  },
  {
   "cell_type": "markdown",
   "metadata": {
    "id": "RKMPL53wv3k0"
   },
   "source": [
    "**g.** Encuentra la diferencia en la probabilidad de \"conversión\" $(p{'}_{new}$ - $p{'}_{old})$ para tus muestras simuladas de las partes (e) y (f) anteriores.\n"
   ]
  },
  {
   "cell_type": "code",
   "execution_count": null,
   "metadata": {
    "collapsed": true,
    "id": "Pw09rfw9v3k1"
   },
   "outputs": [],
   "source": []
  },
  {
   "cell_type": "markdown",
   "metadata": {
    "id": "uJJ3odKDv3k1"
   },
   "source": [
    "\n",
    "\n",
    "**h. Distribución de muestreo** <br>\n",
    "Recrea `new_page_converted` y `old_page_converted` y encuentra el valor de $(p{'}_{new}$ - $p{'}_{old})$ 10,000 veces usando el mismo proceso de simulación que utilizaste en las partes (a) a (g) anteriores.\n",
    "\n",
    "<br>\n",
    "Guarda todos los valores $(p{'}_{new}$ - $p{'}_{old})$ en un array de NumPy llamado `p_diffs`.\n"
   ]
  },
  {
   "cell_type": "code",
   "execution_count": null,
   "metadata": {
    "collapsed": true,
    "id": "NkfL80SHv3k1"
   },
   "outputs": [],
   "source": [
    "# Sampling distribution\n",
    "p_diffs = []"
   ]
  },
  {
   "cell_type": "markdown",
   "metadata": {
    "id": "kwMGm2lnv3k1"
   },
   "source": [
    "\n",
    "**i. Histograma**<br>\n",
    "Haz un histograma de los **p_diffs**. ¿Este gráfico se parece a lo que esperabas? Usa el problema correspondiente en el aula para asegurarte de que comprendes completamente lo que se calculó aquí.<br><br>\n",
    "\n",
    "Además, usa el método `plt.axvline()` para marcar la diferencia real observada en los datos de `df2` (recuerda `obs_diff`), en el gráfico.\n",
    "\n",
    ">**Consejo**: Muestra el título, la etiqueta del eje x y la etiqueta del eje y en el gráfico.\n"
   ]
  },
  {
   "cell_type": "code",
   "execution_count": null,
   "metadata": {
    "collapsed": true,
    "id": "ZB700oaOv3k1"
   },
   "outputs": [],
   "source": []
  },
  {
   "cell_type": "markdown",
   "metadata": {
    "id": "FtMASyEKv3k2"
   },
   "source": [
    "\n",
    "**j.** ¿Qué proporción de los **p_diffs** es mayor que la diferencia real observada en los datos de `df2`?"
   ]
  },
  {
   "cell_type": "code",
   "execution_count": null,
   "metadata": {
    "collapsed": true,
    "id": "GJKaqozWv3k2"
   },
   "outputs": [],
   "source": []
  },
  {
   "cell_type": "markdown",
   "metadata": {
    "id": "2GoGJJgpv3k2"
   },
   "source": [
    "**k.** Lo que acabas de calcular en la parte **j** se llama valor p en estudios científicos. Este valor representa la probabilidad de obtener los resultados observados (o más extremos) si la hipótesis nula es cierta. En términos de si hay una diferencia entre las nuevas y viejas páginas, si el valor p es menor que el umbral de error de Tipo I (0.05 en este caso), entonces rechazamos la hipótesis nula. En este caso, el valor p es más grande que 0.05, por lo tanto, no rechazamos la hipótesis nula. Esto significa que no hay suficiente evidencia para concluir que la nueva página lleva a más conversiones que la vieja página.\n"
   ]
  },
  {
   "cell_type": "markdown",
   "metadata": {
    "id": "93KMTMrWv3k2"
   },
   "source": [
    ">**Put your answer here.**"
   ]
  },
  {
   "cell_type": "markdown",
   "metadata": {
    "id": "TOtdnwrZv3k2"
   },
   "source": [
    "\n",
    "**l. Usando Métodos Incorporados para la Prueba de Hipótesis**<br>\n",
    "También podríamos usar incorporaciones para lograr resultados similares. Aunque el uso de las incorporaciones podría ser más fácil de codificar, las secciones anteriores son un recorrido por las ideas que son fundamentales para pensar correctamente sobre la significación estadística.\n",
    "\n",
    "Rellena las afirmaciones siguientes para calcular:\n",
    "- `convert_old`: número de conversiones con la vieja página\n",
    "- `convert_new`: número de conversiones con la nueva página\n",
    "- `n_old`: número de individuos a los que se mostró la vieja página\n",
    "- `n_new`: número de individuos a los que se mostró la nueva página\n"
   ]
  },
  {
   "cell_type": "code",
   "execution_count": null,
   "metadata": {
    "collapsed": true,
    "id": "J6JLJjnPv3k3"
   },
   "outputs": [],
   "source": [
    "import statsmodels.api as sm\n",
    "\n",
    "# number of conversions with the old_page\n",
    "convert_old =\n",
    "\n",
    "# number of conversions with the new_page\n",
    "convert_new =\n",
    "\n",
    "# number of individuals who were shown the old_page\n",
    "n_old =\n",
    "\n",
    "# number of individuals who received new_page\n",
    "n_new ="
   ]
  },
  {
   "cell_type": "markdown",
   "metadata": {
    "id": "ussjuEj5v3k3"
   },
   "source": [
    "**m.** Ahora usa `sm.stats.proportions_ztest()` para calcular tu estadística de prueba y el valor p. [Aquí](https://www.statsmodels.org/stable/generated/statsmodels.stats.proportion.proportions_ztest.html) hay un enlace útil para usar la función incorporada.\n",
    "\n",
    "La sintaxis es:\n",
    "```bash\n",
    "proportions_ztest(count_array, nobs_array, alternative='larger')\n",
    "```\n",
    "donde,\n",
    "- `count_array` = representa el número de \"convertidos\" para cada grupo\n",
    "- `nobs_array` = representa el número total de observaciones (filas) en cada grupo\n",
    "- `alternative` = elige uno de los valores de `[‘two-sided’, ‘smaller’, ‘larger’]` dependiendo de si es de dos colas, de cola izquierda, o de cola derecha respectivamente.\n",
    "\n",
    ">**Sugerencia**: <br>\n",
    "Es de dos colas si definiste $H_1$ como $(p_{new} = p_{old})$. <br>\n",
    "Es de cola izquierda si definiste $H_1$ como $(p_{new} < p_{old})$. <br>\n",
    "Es de cola derecha si definiste $H_1$ como $(p_{new} > p_{old})$.\n",
    "\n",
    "La función incorporada anterior devolverá el z_score y el valor p.\n",
    "\n",
    "---\n",
    "### Acerca de la prueba z de dos muestras\n",
    "Recuerda que has trazado una distribución `p_diffs` que representa la\n",
    "diferencia en la probabilidad \"convertida\" $(p{'}_{new}-p{'}_{old})$ para tus dos muestras simuladas 10,000 veces.\n",
    "\n",
    "Otra forma de comparar la media de dos distribuciones independientes y normales es una **prueba z de dos muestras**. Puedes realizar la prueba Z para calcular el Z_score, como se muestra en la ecuación a continuación:\n",
    "\n",
    "$$\n",
    "Z_{score} = \\frac{ (p{'}_{new}-p{'}_{old}) - (p_{new}  -  p_{old})}{ \\sqrt{ \\frac{\\sigma^{2}_{new} }{n_{new}} + \\frac{\\sigma^{2}_{old} }{n_{old}}  } }\n",
    "$$\n",
    "\n",
    "donde,\n",
    "- $p{'}$ es la tasa de éxito \"convertida\" en la muestra\n",
    "- $p_{new}$ y $p_{old}$ son la tasa de éxito \"convertida\" para los dos grupos en la población.\n",
    "- $\\sigma_{new}$ y $\\sigma_{new}$ son la desviación estándar para los dos grupos en la población.\n",
    "- $n_{new}$ y $n_{old}$ representan el tamaño de los dos grupos o muestras (es el mismo en nuestro caso)\n",
    "\n",
    ">La prueba Z se realiza cuando el tamaño de la muestra es grande y se conoce la varianza de la población. El puntaje z representa la distancia entre las dos tasas de éxito \"convertidas\" en términos del error estándar.\n",
    "\n",
    "El siguiente paso es tomar una decisión para rechazar o no rechazar la hipótesis nula basándose en la comparación de estos dos valores:\n",
    "- $Z_{score}$\n",
    "- $Z_{\\alpha}$ o $Z_{0.05}$, también conocido como valor crítico en el intervalo de confianza del 95%.  $Z_{0.05}$ es 1.645 para pruebas de una sola cola, y 1.960 para prueba de dos colas. Puedes determinar el $Z_{\\alpha}$ de la tabla z manualmente.\n",
    "\n",
    "Decide si tu hipótesis es de dos colas, de cola izquierda, o de cola derecha. En consecuencia, rechaza O no rechaza la hipótesis nula basándose en la comparación entre $Z_{score}$ y $Z_{\\alpha}$. Determinamos si el $Z_{score}$ está en la \"región de rechazo\" en la distribución. En otras palabras, una \"región de rechazo\" es un intervalo donde se rechaza la hipótesis nula si y solo si el $Z_{score}$ se encuentra en esa región.\n",
    "\n",
    ">Sugerencia:<br>\n",
    "Para una prueba de cola derecha, rechaza la hipótesis nula si $Z_{score}$ > $Z_{\\alpha}$. <br>\n",
    "Para una prueba de cola izquierda, rechaza la hipótesis nula si $Z_{score}$ < $Z_{\\alpha}$.\n",
    "\n",
    "Referencia:\n",
    "- Ejemplo 9.1.2 en esta [página](https://stats.libretexts.org/Bookshelves/Introductory_Statistics/Book%3A_Introductory_Statistics_(Shafer_and_Zhang)/09%3A_Two-Sample_Problems/9.01%3A_Comparison_of_Two_Population_Means-_Large_Independent_Samples), cortesía de www.stats.libretexts.org\n",
    "\n",
    "---\n",
    "\n",
    ">**Sugerencia**: No tienes que profundizar en la prueba z para este ejercicio. **Intenta tener una visión general de lo que significa el puntaje z en general.**"
   ]
  },
  {
   "cell_type": "code",
   "execution_count": null,
   "metadata": {
    "collapsed": true,
    "id": "VdyJNodRv3k3"
   },
   "outputs": [],
   "source": [
    "import statsmodels.api as sm\n",
    "# ToDo: Complete the sm.stats.proportions_ztest() method arguments\n",
    "z_score, p_value = sm.stats.proportions_ztest(.........)\n",
    "print(z_score, p_value)"
   ]
  },
  {
   "cell_type": "markdown",
   "metadata": {
    "id": "wdHGv99dv3k4"
   },
   "source": [
    "**n.** ¿Qué significan el puntaje z y el valor p que calculaste en la pregunta anterior para las tasas de conversión de las páginas viejas y nuevas? ¿Coinciden con los hallazgos en las partes **j.** y **k.**?<br><br>\n",
    "\n",
    ">**Sugerencia**: Observa si el valor p es similar al que se calculó anteriormente. En consecuencia, ¿puedes rechazar/no rechazar la hipótesis nula? Es importante interpretar correctamente la estadística de prueba y el valor p."
   ]
  },
  {
   "cell_type": "markdown",
   "metadata": {
    "id": "WwBeE3XCv3k4"
   },
   "source": [
    ">**Put your answer here.**"
   ]
  }
 ],
 "metadata": {
  "colab": {
   "provenance": []
  },
  "kernelspec": {
   "display_name": "Python 3 (ipykernel)",
   "language": "python",
   "name": "python3"
  },
  "language_info": {
   "codemirror_mode": {
    "name": "ipython",
    "version": 3
   },
   "file_extension": ".py",
   "mimetype": "text/x-python",
   "name": "python",
   "nbconvert_exporter": "python",
   "pygments_lexer": "ipython3",
   "version": "3.10.6"
  }
 },
 "nbformat": 4,
 "nbformat_minor": 1
}
