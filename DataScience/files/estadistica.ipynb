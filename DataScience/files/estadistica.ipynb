{
 "cells": [
  {
   "cell_type": "markdown",
   "id": "e2d20e8e-83bc-4ff9-b89e-40e5fe16a22f",
   "metadata": {},
   "source": [
    "# Estadística para la modelación predictiva"
   ]
  },
  {
   "cell_type": "markdown",
   "id": "2754ac92-f675-41c7-9f4e-b13e8b0edc00",
   "metadata": {},
   "source": [
    "## Teorema central de límite\n",
    "\n",
    "## Contrastes de hipótesis\n",
    "\n",
    "H"
   ]
  },
  {
   "cell_type": "code",
   "execution_count": null,
   "id": "5695029f-3864-49d2-a8e4-5b970245ee68",
   "metadata": {},
   "outputs": [],
   "source": []
  }
 ],
 "metadata": {
  "kernelspec": {
   "display_name": "Python 3 (ipykernel)",
   "language": "python",
   "name": "python3"
  },
  "language_info": {
   "codemirror_mode": {
    "name": "ipython",
    "version": 3
   },
   "file_extension": ".py",
   "mimetype": "text/x-python",
   "name": "python",
   "nbconvert_exporter": "python",
   "pygments_lexer": "ipython3",
   "version": "3.10.12"
  }
 },
 "nbformat": 4,
 "nbformat_minor": 5
}
