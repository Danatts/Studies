{
 "cells": [
  {
   "cell_type": "markdown",
   "id": "4921f785-5622-4863-b059-ec23d5066f93",
   "metadata": {},
   "source": [
    "# Entrenamiento de modelos"
   ]
  },
  {
   "cell_type": "markdown",
   "id": "895f063b-d453-4566-bba1-b5742631e19d",
   "metadata": {},
   "source": [
    "## Importar librerias"
   ]
  },
  {
   "cell_type": "code",
   "execution_count": 32,
   "id": "0e005abf-4024-44d8-9650-39786ddcdf3b",
   "metadata": {},
   "outputs": [],
   "source": [
    "import pandas as pd\n",
    "import numpy as np\n",
    "import matplotlib.pyplot as plt\n",
    "import sklearn as skl"
   ]
  },
  {
   "cell_type": "markdown",
   "id": "17728bc5-07eb-4ce5-8510-8abac56872e5",
   "metadata": {},
   "source": [
    "## Conjunto de entrenamiento y conjunto de testing"
   ]
  },
  {
   "cell_type": "code",
   "execution_count": 10,
   "id": "00c1dd9f-19b7-4149-873f-c54d9082aa00",
   "metadata": {},
   "outputs": [],
   "source": [
    "df = pd.read_csv('../datasets/customer_churn/customer_churn_fixed.csv')"
   ]
  },
  {
   "cell_type": "markdown",
   "id": "576e9d25-c817-41db-9457-fd67f6c7713d",
   "metadata": {},
   "source": [
    "### Dividir utilizando la distribución normal"
   ]
  },
  {
   "cell_type": "code",
   "execution_count": 14,
   "id": "406b23f8-1782-4fd1-a89e-22aae3f3e3c6",
   "metadata": {},
   "outputs": [],
   "source": [
    "a = np.random.randn(len(df))"
   ]
  },
  {
   "cell_type": "code",
   "execution_count": 15,
   "id": "cefdec55-aee5-4c6e-9422-ada6527465a9",
   "metadata": {},
   "outputs": [
    {
     "data": {
      "text/plain": [
       "(array([ 22., 108., 292., 586., 788., 761., 493., 217.,  55.,  11.]),\n",
       " array([-3.08534477, -2.44377764, -1.80221052, -1.16064339, -0.51907627,\n",
       "         0.12249086,  0.76405798,  1.40562511,  2.04719223,  2.68875936,\n",
       "         3.33032648]),\n",
       " <BarContainer object of 10 artists>)"
      ]
     },
     "execution_count": 15,
     "metadata": {},
     "output_type": "execute_result"
    },
    {
     "data": {
      "image/png": "[encoded data removed]",
      "text/plain": [
       "<Figure size 640x480 with 1 Axes>"
      ]
     },
     "metadata": {},
     "output_type": "display_data"
    }
   ],
   "source": [
    "plt.hist(a)"
   ]
  },
  {
   "cell_type": "code",
   "execution_count": 16,
   "id": "adcfe8ec-b221-47a2-84e2-ace4e6708c7a",
   "metadata": {},
   "outputs": [],
   "source": [
    "check = (a < 0.8)"
   ]
  },
  {
   "cell_type": "code",
   "execution_count": 17,
   "id": "7f5c7a94-24bf-41e0-bad5-d02b430745fe",
   "metadata": {},
   "outputs": [
    {
     "data": {
      "text/plain": [
       "array([ True, False, False, ..., False, False,  True])"
      ]
     },
     "execution_count": 17,
     "metadata": {},
     "output_type": "execute_result"
    }
   ],
   "source": [
    "check"
   ]
  },
  {
   "cell_type": "code",
   "execution_count": 19,
   "id": "8fb5ea42-f990-4883-beab-f740402e7ad1",
   "metadata": {},
   "outputs": [
    {
     "data": {
      "text/plain": [
       "(array([ 740.,    0.,    0.,    0.,    0.,    0.,    0.,    0.,    0.,\n",
       "        2593.]),\n",
       " array([0. , 0.1, 0.2, 0.3, 0.4, 0.5, 0.6, 0.7, 0.8, 0.9, 1. ]),\n",
       " <BarContainer object of 10 artists>)"
      ]
     },
     "execution_count": 19,
     "metadata": {},
     "output_type": "execute_result"
    },
    {
     "data": {
      "image/png": "[encoded data removed]",
      "text/plain": [
       "<Figure size 640x480 with 1 Axes>"
      ]
     },
     "metadata": {},
     "output_type": "display_data"
    }
   ],
   "source": [
    "plt.hist(check.astype(int))"
   ]
  },
  {
   "cell_type": "code",
   "execution_count": 20,
   "id": "8a03e606-9795-49ed-8dca-b2d5d4dc90be",
   "metadata": {},
   "outputs": [],
   "source": [
    "training = df[check]\n",
    "testing = df[~check]"
   ]
  },
  {
   "cell_type": "code",
   "execution_count": 21,
   "id": "82eca8b2-9d92-43f8-a6ee-0cd33feea1c1",
   "metadata": {},
   "outputs": [
    {
     "data": {
      "text/plain": [
       "2593"
      ]
     },
     "execution_count": 21,
     "metadata": {},
     "output_type": "execute_result"
    }
   ],
   "source": [
    "len(training)"
   ]
  },
  {
   "cell_type": "code",
   "execution_count": 22,
   "id": "20950753-ef72-45f0-b165-477a9308bb13",
   "metadata": {},
   "outputs": [
    {
     "data": {
      "text/plain": [
       "740"
      ]
     },
     "execution_count": 22,
     "metadata": {},
     "output_type": "execute_result"
    }
   ],
   "source": [
    "len(testing)"
   ]
  },
  {
   "cell_type": "markdown",
   "id": "0b58ec6b-80a5-46b0-ade6-8aee42e17dbe",
   "metadata": {},
   "source": [
    "### Con la librería `sklearn`"
   ]
  },
  {
   "cell_type": "code",
   "execution_count": 24,
   "id": "b7991cd6-da36-415d-8c94-9bc124c796af",
   "metadata": {},
   "outputs": [],
   "source": [
    "from sklearn.model_selection import train_test_split "
   ]
  },
  {
   "cell_type": "code",
   "execution_count": 25,
   "id": "74cbebe7-50a8-477f-881d-8b46dc1d347f",
   "metadata": {},
   "outputs": [],
   "source": [
    "train, test = train_test_split(df, test_size = 0.2)"
   ]
  },
  {
   "cell_type": "code",
   "execution_count": 26,
   "id": "e09bc772-d6e0-4083-9ce1-8a7cbb4dc69f",
   "metadata": {},
   "outputs": [
    {
     "data": {
      "text/plain": [
       "2666"
      ]
     },
     "execution_count": 26,
     "metadata": {},
     "output_type": "execute_result"
    }
   ],
   "source": [
    "len(train)"
   ]
  },
  {
   "cell_type": "code",
   "execution_count": 28,
   "id": "872881af-f83c-4e67-965e-8b422c68f6aa",
   "metadata": {},
   "outputs": [
    {
     "data": {
      "text/plain": [
       "667"
      ]
     },
     "execution_count": 28,
     "metadata": {},
     "output_type": "execute_result"
    }
   ],
   "source": [
    "len(test)"
   ]
  },
  {
   "cell_type": "markdown",
   "id": "905acd26-2645-4ad6-8905-d62e0c1c5c1c",
   "metadata": {},
   "source": [
    "### Usando una función de `shuffle`"
   ]
  },
  {
   "cell_type": "code",
   "execution_count": 34,
   "id": "fb19b91e-166a-4ed5-8338-c0079f416c49",
   "metadata": {},
   "outputs": [
    {
     "data": {
      "text/html": [
       "<div>\n",
       "<style scoped>\n",
       "    .dataframe tbody tr th:only-of-type {\n",
       "        vertical-align: middle;\n",
       "    }\n",
       "\n",
       "    .dataframe tbody tr th {\n",
       "        vertical-align: top;\n",
       "    }\n",
       "\n",
       "    .dataframe thead th {\n",
       "        text-align: right;\n",
       "    }\n",
       "</style>\n",
       "<table border=\"1\" class=\"dataframe\">\n",
       "  <thead>\n",
       "    <tr style=\"text-align: right;\">\n",
       "      <th></th>\n",
       "      <th>State</th>\n",
       "      <th>Account Length</th>\n",
       "      <th>Area Code</th>\n",
       "      <th>Phone</th>\n",
       "      <th>Int'l Plan</th>\n",
       "      <th>VMail Plan</th>\n",
       "      <th>VMail Message</th>\n",
       "      <th>Day Mins</th>\n",
       "      <th>Day Calls</th>\n",
       "      <th>Day Charge</th>\n",
       "      <th>...</th>\n",
       "      <th>Eve Calls</th>\n",
       "      <th>Eve Charge</th>\n",
       "      <th>Night Mins</th>\n",
       "      <th>Night Calls</th>\n",
       "      <th>Night Charge</th>\n",
       "      <th>Intl Mins</th>\n",
       "      <th>Intl Calls</th>\n",
       "      <th>Intl Charge</th>\n",
       "      <th>CustServ Calls</th>\n",
       "      <th>Churn?</th>\n",
       "    </tr>\n",
       "  </thead>\n",
       "  <tbody>\n",
       "    <tr>\n",
       "      <th>875</th>\n",
       "      <td>HI</td>\n",
       "      <td>132</td>\n",
       "      <td>415</td>\n",
       "      <td>405-3335</td>\n",
       "      <td>no</td>\n",
       "      <td>yes</td>\n",
       "      <td>15</td>\n",
       "      <td>154.6</td>\n",
       "      <td>128</td>\n",
       "      <td>26.28</td>\n",
       "      <td>...</td>\n",
       "      <td>106</td>\n",
       "      <td>20.88</td>\n",
       "      <td>148.6</td>\n",
       "      <td>90</td>\n",
       "      <td>6.69</td>\n",
       "      <td>9.1</td>\n",
       "      <td>4</td>\n",
       "      <td>2.46</td>\n",
       "      <td>1</td>\n",
       "      <td>False.</td>\n",
       "    </tr>\n",
       "    <tr>\n",
       "      <th>1434</th>\n",
       "      <td>UT</td>\n",
       "      <td>47</td>\n",
       "      <td>408</td>\n",
       "      <td>350-9720</td>\n",
       "      <td>no</td>\n",
       "      <td>yes</td>\n",
       "      <td>37</td>\n",
       "      <td>112.8</td>\n",
       "      <td>150</td>\n",
       "      <td>19.18</td>\n",
       "      <td>...</td>\n",
       "      <td>97</td>\n",
       "      <td>20.73</td>\n",
       "      <td>178.7</td>\n",
       "      <td>112</td>\n",
       "      <td>8.04</td>\n",
       "      <td>13.2</td>\n",
       "      <td>6</td>\n",
       "      <td>3.56</td>\n",
       "      <td>2</td>\n",
       "      <td>False.</td>\n",
       "    </tr>\n",
       "    <tr>\n",
       "      <th>3173</th>\n",
       "      <td>OR</td>\n",
       "      <td>133</td>\n",
       "      <td>415</td>\n",
       "      <td>378-1144</td>\n",
       "      <td>no</td>\n",
       "      <td>no</td>\n",
       "      <td>0</td>\n",
       "      <td>143.8</td>\n",
       "      <td>71</td>\n",
       "      <td>24.45</td>\n",
       "      <td>...</td>\n",
       "      <td>131</td>\n",
       "      <td>15.64</td>\n",
       "      <td>275.5</td>\n",
       "      <td>132</td>\n",
       "      <td>12.40</td>\n",
       "      <td>12.9</td>\n",
       "      <td>4</td>\n",
       "      <td>3.48</td>\n",
       "      <td>3</td>\n",
       "      <td>False.</td>\n",
       "    </tr>\n",
       "    <tr>\n",
       "      <th>1607</th>\n",
       "      <td>NM</td>\n",
       "      <td>21</td>\n",
       "      <td>415</td>\n",
       "      <td>334-9182</td>\n",
       "      <td>no</td>\n",
       "      <td>yes</td>\n",
       "      <td>19</td>\n",
       "      <td>132.7</td>\n",
       "      <td>94</td>\n",
       "      <td>22.56</td>\n",
       "      <td>...</td>\n",
       "      <td>101</td>\n",
       "      <td>17.39</td>\n",
       "      <td>154.7</td>\n",
       "      <td>78</td>\n",
       "      <td>6.96</td>\n",
       "      <td>12.9</td>\n",
       "      <td>7</td>\n",
       "      <td>3.48</td>\n",
       "      <td>3</td>\n",
       "      <td>False.</td>\n",
       "    </tr>\n",
       "    <tr>\n",
       "      <th>1582</th>\n",
       "      <td>WA</td>\n",
       "      <td>86</td>\n",
       "      <td>510</td>\n",
       "      <td>387-6498</td>\n",
       "      <td>no</td>\n",
       "      <td>no</td>\n",
       "      <td>0</td>\n",
       "      <td>150.5</td>\n",
       "      <td>92</td>\n",
       "      <td>25.59</td>\n",
       "      <td>...</td>\n",
       "      <td>95</td>\n",
       "      <td>10.23</td>\n",
       "      <td>271.2</td>\n",
       "      <td>96</td>\n",
       "      <td>12.20</td>\n",
       "      <td>9.0</td>\n",
       "      <td>2</td>\n",
       "      <td>2.43</td>\n",
       "      <td>1</td>\n",
       "      <td>False.</td>\n",
       "    </tr>\n",
       "    <tr>\n",
       "      <th>...</th>\n",
       "      <td>...</td>\n",
       "      <td>...</td>\n",
       "      <td>...</td>\n",
       "      <td>...</td>\n",
       "      <td>...</td>\n",
       "      <td>...</td>\n",
       "      <td>...</td>\n",
       "      <td>...</td>\n",
       "      <td>...</td>\n",
       "      <td>...</td>\n",
       "      <td>...</td>\n",
       "      <td>...</td>\n",
       "      <td>...</td>\n",
       "      <td>...</td>\n",
       "      <td>...</td>\n",
       "      <td>...</td>\n",
       "      <td>...</td>\n",
       "      <td>...</td>\n",
       "      <td>...</td>\n",
       "      <td>...</td>\n",
       "      <td>...</td>\n",
       "    </tr>\n",
       "    <tr>\n",
       "      <th>2378</th>\n",
       "      <td>OR</td>\n",
       "      <td>112</td>\n",
       "      <td>510</td>\n",
       "      <td>396-6462</td>\n",
       "      <td>no</td>\n",
       "      <td>no</td>\n",
       "      <td>0</td>\n",
       "      <td>206.2</td>\n",
       "      <td>122</td>\n",
       "      <td>35.05</td>\n",
       "      <td>...</td>\n",
       "      <td>94</td>\n",
       "      <td>13.98</td>\n",
       "      <td>140.3</td>\n",
       "      <td>101</td>\n",
       "      <td>6.31</td>\n",
       "      <td>12.6</td>\n",
       "      <td>7</td>\n",
       "      <td>3.40</td>\n",
       "      <td>3</td>\n",
       "      <td>False.</td>\n",
       "    </tr>\n",
       "    <tr>\n",
       "      <th>371</th>\n",
       "      <td>NM</td>\n",
       "      <td>56</td>\n",
       "      <td>408</td>\n",
       "      <td>385-5722</td>\n",
       "      <td>no</td>\n",
       "      <td>no</td>\n",
       "      <td>0</td>\n",
       "      <td>197.0</td>\n",
       "      <td>110</td>\n",
       "      <td>33.49</td>\n",
       "      <td>...</td>\n",
       "      <td>102</td>\n",
       "      <td>18.94</td>\n",
       "      <td>225.3</td>\n",
       "      <td>91</td>\n",
       "      <td>10.14</td>\n",
       "      <td>10.6</td>\n",
       "      <td>6</td>\n",
       "      <td>2.86</td>\n",
       "      <td>2</td>\n",
       "      <td>False.</td>\n",
       "    </tr>\n",
       "    <tr>\n",
       "      <th>1256</th>\n",
       "      <td>TN</td>\n",
       "      <td>98</td>\n",
       "      <td>415</td>\n",
       "      <td>351-7016</td>\n",
       "      <td>no</td>\n",
       "      <td>no</td>\n",
       "      <td>0</td>\n",
       "      <td>162.8</td>\n",
       "      <td>65</td>\n",
       "      <td>27.68</td>\n",
       "      <td>...</td>\n",
       "      <td>109</td>\n",
       "      <td>15.73</td>\n",
       "      <td>219.5</td>\n",
       "      <td>104</td>\n",
       "      <td>9.88</td>\n",
       "      <td>6.0</td>\n",
       "      <td>3</td>\n",
       "      <td>1.62</td>\n",
       "      <td>2</td>\n",
       "      <td>False.</td>\n",
       "    </tr>\n",
       "    <tr>\n",
       "      <th>2970</th>\n",
       "      <td>ND</td>\n",
       "      <td>90</td>\n",
       "      <td>415</td>\n",
       "      <td>329-8638</td>\n",
       "      <td>no</td>\n",
       "      <td>yes</td>\n",
       "      <td>22</td>\n",
       "      <td>124.5</td>\n",
       "      <td>94</td>\n",
       "      <td>21.17</td>\n",
       "      <td>...</td>\n",
       "      <td>90</td>\n",
       "      <td>19.69</td>\n",
       "      <td>222.2</td>\n",
       "      <td>108</td>\n",
       "      <td>10.00</td>\n",
       "      <td>6.4</td>\n",
       "      <td>12</td>\n",
       "      <td>1.73</td>\n",
       "      <td>1</td>\n",
       "      <td>False.</td>\n",
       "    </tr>\n",
       "    <tr>\n",
       "      <th>415</th>\n",
       "      <td>DE</td>\n",
       "      <td>113</td>\n",
       "      <td>415</td>\n",
       "      <td>352-4418</td>\n",
       "      <td>no</td>\n",
       "      <td>no</td>\n",
       "      <td>0</td>\n",
       "      <td>239.7</td>\n",
       "      <td>47</td>\n",
       "      <td>40.75</td>\n",
       "      <td>...</td>\n",
       "      <td>110</td>\n",
       "      <td>24.05</td>\n",
       "      <td>238.4</td>\n",
       "      <td>88</td>\n",
       "      <td>10.73</td>\n",
       "      <td>8.7</td>\n",
       "      <td>3</td>\n",
       "      <td>2.35</td>\n",
       "      <td>2</td>\n",
       "      <td>True.</td>\n",
       "    </tr>\n",
       "  </tbody>\n",
       "</table>\n",
       "<p>3333 rows × 21 columns</p>\n",
       "</div>"
      ],
      "text/plain": [
       "     State  Account Length  Area Code     Phone Int'l Plan VMail Plan  \\\n",
       "875     HI             132        415  405-3335         no        yes   \n",
       "1434    UT              47        408  350-9720         no        yes   \n",
       "3173    OR             133        415  378-1144         no         no   \n",
       "1607    NM              21        415  334-9182         no        yes   \n",
       "1582    WA              86        510  387-6498         no         no   \n",
       "...    ...             ...        ...       ...        ...        ...   \n",
       "2378    OR             112        510  396-6462         no         no   \n",
       "371     NM              56        408  385-5722         no         no   \n",
       "1256    TN              98        415  351-7016         no         no   \n",
       "2970    ND              90        415  329-8638         no        yes   \n",
       "415     DE             113        415  352-4418         no         no   \n",
       "\n",
       "      VMail Message  Day Mins  Day Calls  Day Charge  ...  Eve Calls  \\\n",
       "875              15     154.6        128       26.28  ...        106   \n",
       "1434             37     112.8        150       19.18  ...         97   \n",
       "3173              0     143.8         71       24.45  ...        131   \n",
       "1607             19     132.7         94       22.56  ...        101   \n",
       "1582              0     150.5         92       25.59  ...         95   \n",
       "...             ...       ...        ...         ...  ...        ...   \n",
       "2378              0     206.2        122       35.05  ...         94   \n",
       "371               0     197.0        110       33.49  ...        102   \n",
       "1256              0     162.8         65       27.68  ...        109   \n",
       "2970             22     124.5         94       21.17  ...         90   \n",
       "415               0     239.7         47       40.75  ...        110   \n",
       "\n",
       "      Eve Charge  Night Mins  Night Calls  Night Charge  Intl Mins  \\\n",
       "875        20.88       148.6           90          6.69        9.1   \n",
       "1434       20.73       178.7          112          8.04       13.2   \n",
       "3173       15.64       275.5          132         12.40       12.9   \n",
       "1607       17.39       154.7           78          6.96       12.9   \n",
       "1582       10.23       271.2           96         12.20        9.0   \n",
       "...          ...         ...          ...           ...        ...   \n",
       "2378       13.98       140.3          101          6.31       12.6   \n",
       "371        18.94       225.3           91         10.14       10.6   \n",
       "1256       15.73       219.5          104          9.88        6.0   \n",
       "2970       19.69       222.2          108         10.00        6.4   \n",
       "415        24.05       238.4           88         10.73        8.7   \n",
       "\n",
       "      Intl Calls  Intl Charge  CustServ Calls  Churn?  \n",
       "875            4         2.46               1  False.  \n",
       "1434           6         3.56               2  False.  \n",
       "3173           4         3.48               3  False.  \n",
       "1607           7         3.48               3  False.  \n",
       "1582           2         2.43               1  False.  \n",
       "...          ...          ...             ...     ...  \n",
       "2378           7         3.40               3  False.  \n",
       "371            6         2.86               2  False.  \n",
       "1256           3         1.62               2  False.  \n",
       "2970          12         1.73               1  False.  \n",
       "415            3         2.35               2   True.  \n",
       "\n",
       "[3333 rows x 21 columns]"
      ]
     },
     "execution_count": 34,
     "metadata": {},
     "output_type": "execute_result"
    }
   ],
   "source": [
    "# Mezcla los datos de forma aleatoria\n",
    "skl.utils.shuffle(df)"
   ]
  },
  {
   "cell_type": "code",
   "execution_count": 37,
   "id": "64f1e135-f728-4b68-9d22-ccde5cafc4f4",
   "metadata": {},
   "outputs": [],
   "source": [
    "cut_id = int(0.75 * len(df))\n",
    "train_data = df[:cut_id]\n",
    "test_data = df[cut_id + 1:]"
   ]
  },
  {
   "cell_type": "code",
   "execution_count": 38,
   "id": "fd784b07-f29a-4f68-aa9b-5f4d6950f1f3",
   "metadata": {},
   "outputs": [
    {
     "data": {
      "text/plain": [
       "2499"
      ]
     },
     "execution_count": 38,
     "metadata": {},
     "output_type": "execute_result"
    }
   ],
   "source": [
    "len(train_data)"
   ]
  },
  {
   "cell_type": "code",
   "execution_count": 39,
   "id": "aee2306d-9b8f-4869-98c6-44d4b24ba9b0",
   "metadata": {},
   "outputs": [
    {
     "data": {
      "text/plain": [
       "833"
      ]
     },
     "execution_count": 39,
     "metadata": {},
     "output_type": "execute_result"
    }
   ],
   "source": [
    "len(test_data)"
   ]
  }
 ],
 "metadata": {
  "kernelspec": {
   "display_name": "Python 3 (ipykernel)",
   "language": "python",
   "name": "python3"
  },
  "language_info": {
   "codemirror_mode": {
    "name": "ipython",
    "version": 3
   },
   "file_extension": ".py",
   "mimetype": "text/x-python",
   "name": "python",
   "nbconvert_exporter": "python",
   "pygments_lexer": "ipython3",
   "version": "3.10.12"
  }
 },
 "nbformat": 4,
 "nbformat_minor": 5
}
