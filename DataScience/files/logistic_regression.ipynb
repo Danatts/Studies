{
 "cells": [
  {
   "cell_type": "markdown",
   "id": "b36941c4-0cf5-4694-b05b-d7fb170d822a",
   "metadata": {
    "id": "b36941c4-0cf5-4694-b05b-d7fb170d822a",
    "noteable": {
     "cell_type": "markdown"
    }
   },
   "source": [
    "# Regresión Logística: Ejemplo y Ejercicios\n",
    "\n",
    "La regresión logística es un tipo de análisis de regresión utilizado para predecir el resultado de una variable categórica (una variable que puede adoptar un número limitado de categorías) en función de las variables independientes o predictoras. Es útil para modelar la probabilidad de un evento ocurriendo como función de otros factores. El resultado o 'target' es de naturaleza binaria (0/1, Verdadero/Falso, Sí/No).\n",
    "\n",
    "En este notebook, vamos a explorar un ejemplo de cómo implementar la regresión logística en Python usando la biblioteca de aprendizaje automático `scikit-learn`. También proporcionaremos algunos ejercicios para que los estudiantes practiquen y profundicen su comprensión de la regresión logística."
   ]
  },
  {
   "cell_type": "code",
   "execution_count": 1,
   "id": "e72f39ce-ccf5-46a6-862e-e7fd3552a63c",
   "metadata": {
    "ExecuteTime": {
     "end_time": "2023-07-27T22:19:55.955775+00:00",
     "start_time": "2023-07-27T22:19:54.958629+00:00"
    },
    "id": "e72f39ce-ccf5-46a6-862e-e7fd3552a63c",
    "noteable": {
     "cell_type": "code"
    }
   },
   "outputs": [],
   "source": [
    "# Importamos las bibliotecas necesarias\n",
    "import numpy as np\n",
    "import pandas as pd\n",
    "from sklearn.model_selection import train_test_split\n",
    "from sklearn.linear_model import LogisticRegression\n",
    "from sklearn import metrics\n",
    "import matplotlib.pyplot as plt\n",
    "import seaborn as sns\n",
    "\n",
    "# Configuramos matplotlib para que se muestre en el notebook\n",
    "%matplotlib inline"
   ]
  },
  {
   "cell_type": "markdown",
   "id": "747ed39e-0235-48db-968b-33fbd13c3787",
   "metadata": {
    "id": "747ed39e-0235-48db-968b-33fbd13c3787",
    "noteable": {
     "cell_type": "markdown"
    }
   },
   "source": [
    "## Ejemplo: Predicción de la admisión a la universidad\n",
    "\n",
    "Para este ejemplo, vamos a utilizar un conjunto de datos que contiene información sobre los estudiantes que solicitaron la admisión a una universidad, junto con si fueron admitidos o no. Las características incluyen las calificaciones de dos exámenes y la decisión de admisión.\n",
    "\n",
    "Nuestro objetivo es construir un modelo de regresión logística que pueda predecir si un estudiante será admitido en la universidad basándose en las calificaciones de sus exámenes."
   ]
  },
  {
   "cell_type": "code",
   "execution_count": 2,
   "id": "828a1702-7894-4913-b482-8a62fd599587",
   "metadata": {
    "ExecuteTime": {
     "end_time": "2023-07-27T22:20:42.321158+00:00",
     "start_time": "2023-07-27T22:20:41.514511+00:00"
    },
    "datalink": {
     "e6df91fa-fd74-4dec-8b37-a85821290afb": {
      "applied_filters": [],
      "dataframe_info": {
       "default_index_used": true,
       "orig_num_cols": 4,
       "orig_num_rows": 5,
       "orig_size_bytes": 200,
       "truncated_num_cols": 4,
       "truncated_num_rows": 5,
       "truncated_size_bytes": 200,
       "truncated_string_columns": []
      },
      "display_id": "e6df91fa-fd74-4dec-8b37-a85821290afb",
      "dx_settings": {
       "ALLOW_NOTEABLE_ATTRS": true,
       "COLUMN_SAMPLING_METHOD": "outer",
       "DB_LOCATION": ":memory:",
       "DEV_MODE": false,
       "DISPLAY_MAX_COLUMNS": 100,
       "DISPLAY_MAX_ROWS": 50000,
       "DISPLAY_MODE": "simple",
       "ENABLE_ASSIGNMENT": true,
       "ENABLE_DATALINK": true,
       "FLATTEN_COLUMN_VALUES": true,
       "FLATTEN_INDEX_VALUES": false,
       "GENERATE_DEX_METADATA": false,
       "HTML_TABLE_SCHEMA": false,
       "LOG_LEVEL": 30,
       "MAX_RENDER_SIZE_BYTES": 104857600,
       "MAX_STRING_LENGTH": 250,
       "NUM_PAST_SAMPLES_TRACKED": 3,
       "RANDOM_STATE": 12648430,
       "RESET_INDEX_VALUES": false,
       "ROW_SAMPLING_METHOD": "random",
       "SAMPLING_FACTOR": 0.1,
       "SAMPLING_METHOD": "random",
       "STRINGIFY_COLUMN_VALUES": true,
       "STRINGIFY_INDEX_VALUES": false
      },
      "sample_history": [],
      "sampling_time": "2023-07-27T22:20:42.162789",
      "user_variable_name": null,
      "variable_name": "unk_dataframe_2fb95ff1c3714a2695b2f59a5dfe6577"
     }
    },
    "id": "828a1702-7894-4913-b482-8a62fd599587",
    "noteable": {
     "cell_type": "code"
    }
   },
   "outputs": [
    {
     "data": {
      "text/html": [
       "<div>\n",
       "<style scoped>\n",
       "    .dataframe tbody tr th:only-of-type {\n",
       "        vertical-align: middle;\n",
       "    }\n",
       "\n",
       "    .dataframe tbody tr th {\n",
       "        vertical-align: top;\n",
       "    }\n",
       "\n",
       "    .dataframe thead th {\n",
       "        text-align: right;\n",
       "    }\n",
       "</style>\n",
       "<table border=\"1\" class=\"dataframe\">\n",
       "  <thead>\n",
       "    <tr style=\"text-align: right;\">\n",
       "      <th></th>\n",
       "      <th>admit</th>\n",
       "      <th>gre</th>\n",
       "      <th>gpa</th>\n",
       "      <th>rank</th>\n",
       "    </tr>\n",
       "  </thead>\n",
       "  <tbody>\n",
       "    <tr>\n",
       "      <th>0</th>\n",
       "      <td>0</td>\n",
       "      <td>380</td>\n",
       "      <td>3.61</td>\n",
       "      <td>3</td>\n",
       "    </tr>\n",
       "    <tr>\n",
       "      <th>1</th>\n",
       "      <td>1</td>\n",
       "      <td>660</td>\n",
       "      <td>3.67</td>\n",
       "      <td>3</td>\n",
       "    </tr>\n",
       "    <tr>\n",
       "      <th>2</th>\n",
       "      <td>1</td>\n",
       "      <td>800</td>\n",
       "      <td>4.00</td>\n",
       "      <td>1</td>\n",
       "    </tr>\n",
       "    <tr>\n",
       "      <th>3</th>\n",
       "      <td>1</td>\n",
       "      <td>640</td>\n",
       "      <td>3.19</td>\n",
       "      <td>4</td>\n",
       "    </tr>\n",
       "    <tr>\n",
       "      <th>4</th>\n",
       "      <td>0</td>\n",
       "      <td>520</td>\n",
       "      <td>2.93</td>\n",
       "      <td>4</td>\n",
       "    </tr>\n",
       "  </tbody>\n",
       "</table>\n",
       "</div>"
      ],
      "text/plain": [
       "   admit  gre   gpa  rank\n",
       "0      0  380  3.61     3\n",
       "1      1  660  3.67     3\n",
       "2      1  800  4.00     1\n",
       "3      1  640  3.19     4\n",
       "4      0  520  2.93     4"
      ]
     },
     "execution_count": 2,
     "metadata": {},
     "output_type": "execute_result"
    }
   ],
   "source": [
    "# Cargamos los datos\n",
    "url = 'https://stats.idre.ucla.edu/stat/data/binary.csv'\n",
    "data = pd.read_csv(url)\n",
    "data.head()"
   ]
  },
  {
   "cell_type": "markdown",
   "id": "07f066ae-bf7f-44dd-93ab-4a26e6ff07c0",
   "metadata": {
    "id": "07f066ae-bf7f-44dd-93ab-4a26e6ff07c0",
    "noteable": {
     "cell_type": "markdown"
    }
   },
   "source": [
    "El conjunto de datos contiene las siguientes columnas:\n",
    "\n",
    "- `admit`: 1 si el estudiante fue admitido, 0 si no fue admitido\n",
    "- `gre`: Puntuación del estudiante en el examen GRE (Graduate Record Exam)\n",
    "- `gpa`: Promedio de calificaciones del estudiante (Grade Point Average)\n",
    "- `rank`: Prestigio del instituto de pregrado del estudiante (1 es el más alto prestigio, 4 es el más bajo)\n",
    "\n",
    "Vamos a explorar un poco los datos antes de construir el modelo."
   ]
  },
  {
   "cell_type": "code",
   "execution_count": 3,
   "id": "f749e1f1-4ed3-45a0-bf70-7a46fde38717",
   "metadata": {
    "ExecuteTime": {
     "end_time": "2023-07-27T22:21:05.557338+00:00",
     "start_time": "2023-07-27T22:21:05.348970+00:00"
    },
    "datalink": {
     "83c4524b-c17d-49be-b116-ac0082053159": {
      "applied_filters": [],
      "dataframe_info": {
       "default_index_used": false,
       "orig_num_cols": 4,
       "orig_num_rows": 8,
       "orig_size_bytes": 320,
       "truncated_num_cols": 4,
       "truncated_num_rows": 8,
       "truncated_size_bytes": 320,
       "truncated_string_columns": []
      },
      "display_id": "83c4524b-c17d-49be-b116-ac0082053159",
      "dx_settings": {
       "ALLOW_NOTEABLE_ATTRS": true,
       "COLUMN_SAMPLING_METHOD": "outer",
       "DB_LOCATION": ":memory:",
       "DEV_MODE": false,
       "DISPLAY_MAX_COLUMNS": 100,
       "DISPLAY_MAX_ROWS": 50000,
       "DISPLAY_MODE": "simple",
       "ENABLE_ASSIGNMENT": true,
       "ENABLE_DATALINK": true,
       "FLATTEN_COLUMN_VALUES": true,
       "FLATTEN_INDEX_VALUES": false,
       "GENERATE_DEX_METADATA": false,
       "HTML_TABLE_SCHEMA": false,
       "LOG_LEVEL": 30,
       "MAX_RENDER_SIZE_BYTES": 104857600,
       "MAX_STRING_LENGTH": 250,
       "NUM_PAST_SAMPLES_TRACKED": 3,
       "RANDOM_STATE": 12648430,
       "RESET_INDEX_VALUES": false,
       "ROW_SAMPLING_METHOD": "random",
       "SAMPLING_FACTOR": 0.1,
       "SAMPLING_METHOD": "random",
       "STRINGIFY_COLUMN_VALUES": true,
       "STRINGIFY_INDEX_VALUES": false
      },
      "sample_history": [],
      "sampling_time": "2023-07-27T22:21:05.400574",
      "user_variable_name": null,
      "variable_name": "unk_dataframe_1d0475d397084ca2baab45b7b206ae1a"
     }
    },
    "id": "f749e1f1-4ed3-45a0-bf70-7a46fde38717",
    "noteable": {
     "cell_type": "code"
    }
   },
   "outputs": [
    {
     "data": {
      "text/html": [
       "<div>\n",
       "<style scoped>\n",
       "    .dataframe tbody tr th:only-of-type {\n",
       "        vertical-align: middle;\n",
       "    }\n",
       "\n",
       "    .dataframe tbody tr th {\n",
       "        vertical-align: top;\n",
       "    }\n",
       "\n",
       "    .dataframe thead th {\n",
       "        text-align: right;\n",
       "    }\n",
       "</style>\n",
       "<table border=\"1\" class=\"dataframe\">\n",
       "  <thead>\n",
       "    <tr style=\"text-align: right;\">\n",
       "      <th></th>\n",
       "      <th>admit</th>\n",
       "      <th>gre</th>\n",
       "      <th>gpa</th>\n",
       "      <th>rank</th>\n",
       "    </tr>\n",
       "  </thead>\n",
       "  <tbody>\n",
       "    <tr>\n",
       "      <th>count</th>\n",
       "      <td>400.000000</td>\n",
       "      <td>400.000000</td>\n",
       "      <td>400.000000</td>\n",
       "      <td>400.00000</td>\n",
       "    </tr>\n",
       "    <tr>\n",
       "      <th>mean</th>\n",
       "      <td>0.317500</td>\n",
       "      <td>587.700000</td>\n",
       "      <td>3.389900</td>\n",
       "      <td>2.48500</td>\n",
       "    </tr>\n",
       "    <tr>\n",
       "      <th>std</th>\n",
       "      <td>0.466087</td>\n",
       "      <td>115.516536</td>\n",
       "      <td>0.380567</td>\n",
       "      <td>0.94446</td>\n",
       "    </tr>\n",
       "    <tr>\n",
       "      <th>min</th>\n",
       "      <td>0.000000</td>\n",
       "      <td>220.000000</td>\n",
       "      <td>2.260000</td>\n",
       "      <td>1.00000</td>\n",
       "    </tr>\n",
       "    <tr>\n",
       "      <th>25%</th>\n",
       "      <td>0.000000</td>\n",
       "      <td>520.000000</td>\n",
       "      <td>3.130000</td>\n",
       "      <td>2.00000</td>\n",
       "    </tr>\n",
       "    <tr>\n",
       "      <th>50%</th>\n",
       "      <td>0.000000</td>\n",
       "      <td>580.000000</td>\n",
       "      <td>3.395000</td>\n",
       "      <td>2.00000</td>\n",
       "    </tr>\n",
       "    <tr>\n",
       "      <th>75%</th>\n",
       "      <td>1.000000</td>\n",
       "      <td>660.000000</td>\n",
       "      <td>3.670000</td>\n",
       "      <td>3.00000</td>\n",
       "    </tr>\n",
       "    <tr>\n",
       "      <th>max</th>\n",
       "      <td>1.000000</td>\n",
       "      <td>800.000000</td>\n",
       "      <td>4.000000</td>\n",
       "      <td>4.00000</td>\n",
       "    </tr>\n",
       "  </tbody>\n",
       "</table>\n",
       "</div>"
      ],
      "text/plain": [
       "            admit         gre         gpa       rank\n",
       "count  400.000000  400.000000  400.000000  400.00000\n",
       "mean     0.317500  587.700000    3.389900    2.48500\n",
       "std      0.466087  115.516536    0.380567    0.94446\n",
       "min      0.000000  220.000000    2.260000    1.00000\n",
       "25%      0.000000  520.000000    3.130000    2.00000\n",
       "50%      0.000000  580.000000    3.395000    2.00000\n",
       "75%      1.000000  660.000000    3.670000    3.00000\n",
       "max      1.000000  800.000000    4.000000    4.00000"
      ]
     },
     "execution_count": 3,
     "metadata": {},
     "output_type": "execute_result"
    }
   ],
   "source": [
    "# Exploramos los datos\n",
    "data.describe()"
   ]
  },
  {
   "cell_type": "markdown",
   "id": "8226ab90-b6cb-4f30-902b-373ed50fe6da",
   "metadata": {
    "id": "8226ab90-b6cb-4f30-902b-373ed50fe6da",
    "noteable": {
     "cell_type": "markdown"
    }
   },
   "source": [
    "Ahora, vamos a visualizar los datos. Vamos a hacer un gráfico de dispersión de las calificaciones del GRE y el GPA, coloreado por la decisión de admisión. Esto nos ayudará a ver si hay una relación clara entre las características y la decisión de admisión."
   ]
  },
  {
   "cell_type": "code",
   "execution_count": 4,
   "id": "b291a16f-89a5-4710-88b3-c0df3b6baf09",
   "metadata": {
    "ExecuteTime": {
     "end_time": "2023-07-27T22:21:33.362724+00:00",
     "start_time": "2023-07-27T22:21:32.730492+00:00"
    },
    "id": "b291a16f-89a5-4710-88b3-c0df3b6baf09",
    "noteable": {
     "cell_type": "code"
    }
   },
   "outputs": [
    {
     "data": {
      "image/png": "[encoded data removed]",
      "text/plain": [
       "<Figure size 1000x600 with 1 Axes>"
      ]
     },
     "metadata": {},
     "output_type": "display_data"
    }
   ],
   "source": [
    "# Visualizamos los datos\n",
    "plt.figure(figsize=(10, 6))\n",
    "plt.scatter(data[data['admit']==1]['gre'], data[data['admit']==1]['gpa'], color='b', label='Admitido')\n",
    "plt.scatter(data[data['admit']==0]['gre'], data[data['admit']==0]['gpa'], color='r', label='No admitido')\n",
    "plt.xlabel('GRE Score')\n",
    "plt.ylabel('GPA')\n",
    "plt.legend()\n",
    "plt.show()"
   ]
  },
  {
   "cell_type": "code",
   "execution_count": 5,
   "id": "dd9c5664-cc00-4196-869c-a0886dba3863",
   "metadata": {
    "ExecuteTime": {
     "end_time": "2023-07-27T22:21:53.962785+00:00",
     "start_time": "2023-07-27T22:21:53.802755+00:00"
    },
    "id": "dd9c5664-cc00-4196-869c-a0886dba3863",
    "noteable": {
     "cell_type": "code"
    }
   },
   "outputs": [],
   "source": [
    "# Dividimos los datos en conjunto de entrenamiento y de prueba\n",
    "X = data[['gre', 'gpa', 'rank']]\n",
    "y = data['admit']\n",
    "\n",
    "X_train, X_test, y_train, y_test = train_test_split(X, y, test_size=0.2, random_state=42)"
   ]
  },
  {
   "cell_type": "code",
   "execution_count": 6,
   "id": "36e590ee-682b-44d4-8c22-043ae79dfa67",
   "metadata": {
    "ExecuteTime": {
     "end_time": "2023-07-27T22:22:13.297878+00:00",
     "start_time": "2023-07-27T22:22:13.120709+00:00"
    },
    "id": "36e590ee-682b-44d4-8c22-043ae79dfa67",
    "noteable": {
     "cell_type": "code"
    }
   },
   "outputs": [
    {
     "data": {
      "text/html": [
       "<style>#sk-container-id-1 {color: black;}#sk-container-id-1 pre{padding: 0;}#sk-container-id-1 div.sk-toggleable {background-color: white;}#sk-container-id-1 label.sk-toggleable__label {cursor: pointer;display: block;width: 100%;margin-bottom: 0;padding: 0.3em;box-sizing: border-box;text-align: center;}#sk-container-id-1 label.sk-toggleable__label-arrow:before {content: \"▸\";float: left;margin-right: 0.25em;color: #696969;}#sk-container-id-1 label.sk-toggleable__label-arrow:hover:before {color: black;}#sk-container-id-1 div.sk-estimator:hover label.sk-toggleable__label-arrow:before {color: black;}#sk-container-id-1 div.sk-toggleable__content {max-height: 0;max-width: 0;overflow: hidden;text-align: left;background-color: #f0f8ff;}#sk-container-id-1 div.sk-toggleable__content pre {margin: 0.2em;color: black;border-radius: 0.25em;background-color: #f0f8ff;}#sk-container-id-1 input.sk-toggleable__control:checked~div.sk-toggleable__content {max-height: 200px;max-width: 100%;overflow: auto;}#sk-container-id-1 input.sk-toggleable__control:checked~label.sk-toggleable__label-arrow:before {content: \"▾\";}#sk-container-id-1 div.sk-estimator input.sk-toggleable__control:checked~label.sk-toggleable__label {background-color: #d4ebff;}#sk-container-id-1 div.sk-label input.sk-toggleable__control:checked~label.sk-toggleable__label {background-color: #d4ebff;}#sk-container-id-1 input.sk-hidden--visually {border: 0;clip: rect(1px 1px 1px 1px);clip: rect(1px, 1px, 1px, 1px);height: 1px;margin: -1px;overflow: hidden;padding: 0;position: absolute;width: 1px;}#sk-container-id-1 div.sk-estimator {font-family: monospace;background-color: #f0f8ff;border: 1px dotted black;border-radius: 0.25em;box-sizing: border-box;margin-bottom: 0.5em;}#sk-container-id-1 div.sk-estimator:hover {background-color: #d4ebff;}#sk-container-id-1 div.sk-parallel-item::after {content: \"\";width: 100%;border-bottom: 1px solid gray;flex-grow: 1;}#sk-container-id-1 div.sk-label:hover label.sk-toggleable__label {background-color: #d4ebff;}#sk-container-id-1 div.sk-serial::before {content: \"\";position: absolute;border-left: 1px solid gray;box-sizing: border-box;top: 0;bottom: 0;left: 50%;z-index: 0;}#sk-container-id-1 div.sk-serial {display: flex;flex-direction: column;align-items: center;background-color: white;padding-right: 0.2em;padding-left: 0.2em;position: relative;}#sk-container-id-1 div.sk-item {position: relative;z-index: 1;}#sk-container-id-1 div.sk-parallel {display: flex;align-items: stretch;justify-content: center;background-color: white;position: relative;}#sk-container-id-1 div.sk-item::before, #sk-container-id-1 div.sk-parallel-item::before {content: \"\";position: absolute;border-left: 1px solid gray;box-sizing: border-box;top: 0;bottom: 0;left: 50%;z-index: -1;}#sk-container-id-1 div.sk-parallel-item {display: flex;flex-direction: column;z-index: 1;position: relative;background-color: white;}#sk-container-id-1 div.sk-parallel-item:first-child::after {align-self: flex-end;width: 50%;}#sk-container-id-1 div.sk-parallel-item:last-child::after {align-self: flex-start;width: 50%;}#sk-container-id-1 div.sk-parallel-item:only-child::after {width: 0;}#sk-container-id-1 div.sk-dashed-wrapped {border: 1px dashed gray;margin: 0 0.4em 0.5em 0.4em;box-sizing: border-box;padding-bottom: 0.4em;background-color: white;}#sk-container-id-1 div.sk-label label {font-family: monospace;font-weight: bold;display: inline-block;line-height: 1.2em;}#sk-container-id-1 div.sk-label-container {text-align: center;}#sk-container-id-1 div.sk-container {/* jupyter's `normalize.less` sets `[hidden] { display: none; }` but bootstrap.min.css set `[hidden] { display: none !important; }` so we also need the `!important` here to be able to override the default hidden behavior on the sphinx rendered scikit-learn.org. See: https://github.com/scikit-learn/scikit-learn/issues/21755 */display: inline-block !important;position: relative;}#sk-container-id-1 div.sk-text-repr-fallback {display: none;}</style><div id=\"sk-container-id-1\" class=\"sk-top-container\"><div class=\"sk-text-repr-fallback\"><pre>LogisticRegression()</pre><b>In a Jupyter environment, please rerun this cell to show the HTML representation or trust the notebook. <br />On GitHub, the HTML representation is unable to render, please try loading this page with nbviewer.org.</b></div><div class=\"sk-container\" hidden><div class=\"sk-item\"><div class=\"sk-estimator sk-toggleable\"><input class=\"sk-toggleable__control sk-hidden--visually\" id=\"sk-estimator-id-1\" type=\"checkbox\" checked><label for=\"sk-estimator-id-1\" class=\"sk-toggleable__label sk-toggleable__label-arrow\">LogisticRegression</label><div class=\"sk-toggleable__content\"><pre>LogisticRegression()</pre></div></div></div></div></div>"
      ],
      "text/plain": [
       "LogisticRegression()"
      ]
     },
     "execution_count": 6,
     "metadata": {},
     "output_type": "execute_result"
    }
   ],
   "source": [
    "# Instanciamos el modelo\n",
    "logreg = LogisticRegression()\n",
    "\n",
    "# Entrenamos el modelo\n",
    "logreg.fit(X_train, y_train)"
   ]
  },
  {
   "cell_type": "code",
   "execution_count": 8,
   "id": "0f3595ad-b83e-4aa3-89d2-77287f33e278",
   "metadata": {
    "ExecuteTime": {
     "end_time": "2023-07-27T22:22:30.341930+00:00",
     "start_time": "2023-07-27T22:22:30.179585+00:00"
    },
    "id": "0f3595ad-b83e-4aa3-89d2-77287f33e278",
    "noteable": {
     "cell_type": "code"
    }
   },
   "outputs": [
    {
     "data": {
      "text/plain": [
       "66.25"
      ]
     },
     "execution_count": 8,
     "metadata": {},
     "output_type": "execute_result"
    }
   ],
   "source": [
    "# Hacemos predicciones en el conjunto de prueba\n",
    "y_pred = logreg.predict(X_test)\n",
    "\n",
    "# Comparamos las predicciones con las verdaderas etiquetas\n",
    "accuracy = metrics.accuracy_score(y_test, y_pred)\n",
    "accuracy_percentage = 100 * accuracy\n",
    "accuracy_percentage"
   ]
  },
  {
   "cell_type": "code",
   "execution_count": 10,
   "id": "2cc32b18-517f-4113-bcdf-03c061670d20",
   "metadata": {},
   "outputs": [],
   "source": [
    "# Dividimos los datos en conjunto de entrenamiento y de prueba\n",
    "X = data[['gre', 'gpa']]\n",
    "y = data['admit']\n",
    "\n",
    "X_train, X_test, y_train, y_test = train_test_split(X, y, test_size=0.2, random_state=42)"
   ]
  },
  {
   "cell_type": "code",
   "execution_count": 11,
   "id": "55e9a271-a99e-4666-83fa-c3b251c9268f",
   "metadata": {
    "ExecuteTime": {
     "end_time": "2023-07-27T22:22:13.297878+00:00",
     "start_time": "2023-07-27T22:22:13.120709+00:00"
    },
    "id": "36e590ee-682b-44d4-8c22-043ae79dfa67",
    "noteable": {
     "cell_type": "code"
    }
   },
   "outputs": [
    {
     "data": {
      "text/html": [
       "<style>#sk-container-id-2 {color: black;}#sk-container-id-2 pre{padding: 0;}#sk-container-id-2 div.sk-toggleable {background-color: white;}#sk-container-id-2 label.sk-toggleable__label {cursor: pointer;display: block;width: 100%;margin-bottom: 0;padding: 0.3em;box-sizing: border-box;text-align: center;}#sk-container-id-2 label.sk-toggleable__label-arrow:before {content: \"▸\";float: left;margin-right: 0.25em;color: #696969;}#sk-container-id-2 label.sk-toggleable__label-arrow:hover:before {color: black;}#sk-container-id-2 div.sk-estimator:hover label.sk-toggleable__label-arrow:before {color: black;}#sk-container-id-2 div.sk-toggleable__content {max-height: 0;max-width: 0;overflow: hidden;text-align: left;background-color: #f0f8ff;}#sk-container-id-2 div.sk-toggleable__content pre {margin: 0.2em;color: black;border-radius: 0.25em;background-color: #f0f8ff;}#sk-container-id-2 input.sk-toggleable__control:checked~div.sk-toggleable__content {max-height: 200px;max-width: 100%;overflow: auto;}#sk-container-id-2 input.sk-toggleable__control:checked~label.sk-toggleable__label-arrow:before {content: \"▾\";}#sk-container-id-2 div.sk-estimator input.sk-toggleable__control:checked~label.sk-toggleable__label {background-color: #d4ebff;}#sk-container-id-2 div.sk-label input.sk-toggleable__control:checked~label.sk-toggleable__label {background-color: #d4ebff;}#sk-container-id-2 input.sk-hidden--visually {border: 0;clip: rect(1px 1px 1px 1px);clip: rect(1px, 1px, 1px, 1px);height: 1px;margin: -1px;overflow: hidden;padding: 0;position: absolute;width: 1px;}#sk-container-id-2 div.sk-estimator {font-family: monospace;background-color: #f0f8ff;border: 1px dotted black;border-radius: 0.25em;box-sizing: border-box;margin-bottom: 0.5em;}#sk-container-id-2 div.sk-estimator:hover {background-color: #d4ebff;}#sk-container-id-2 div.sk-parallel-item::after {content: \"\";width: 100%;border-bottom: 1px solid gray;flex-grow: 1;}#sk-container-id-2 div.sk-label:hover label.sk-toggleable__label {background-color: #d4ebff;}#sk-container-id-2 div.sk-serial::before {content: \"\";position: absolute;border-left: 1px solid gray;box-sizing: border-box;top: 0;bottom: 0;left: 50%;z-index: 0;}#sk-container-id-2 div.sk-serial {display: flex;flex-direction: column;align-items: center;background-color: white;padding-right: 0.2em;padding-left: 0.2em;position: relative;}#sk-container-id-2 div.sk-item {position: relative;z-index: 1;}#sk-container-id-2 div.sk-parallel {display: flex;align-items: stretch;justify-content: center;background-color: white;position: relative;}#sk-container-id-2 div.sk-item::before, #sk-container-id-2 div.sk-parallel-item::before {content: \"\";position: absolute;border-left: 1px solid gray;box-sizing: border-box;top: 0;bottom: 0;left: 50%;z-index: -1;}#sk-container-id-2 div.sk-parallel-item {display: flex;flex-direction: column;z-index: 1;position: relative;background-color: white;}#sk-container-id-2 div.sk-parallel-item:first-child::after {align-self: flex-end;width: 50%;}#sk-container-id-2 div.sk-parallel-item:last-child::after {align-self: flex-start;width: 50%;}#sk-container-id-2 div.sk-parallel-item:only-child::after {width: 0;}#sk-container-id-2 div.sk-dashed-wrapped {border: 1px dashed gray;margin: 0 0.4em 0.5em 0.4em;box-sizing: border-box;padding-bottom: 0.4em;background-color: white;}#sk-container-id-2 div.sk-label label {font-family: monospace;font-weight: bold;display: inline-block;line-height: 1.2em;}#sk-container-id-2 div.sk-label-container {text-align: center;}#sk-container-id-2 div.sk-container {/* jupyter's `normalize.less` sets `[hidden] { display: none; }` but bootstrap.min.css set `[hidden] { display: none !important; }` so we also need the `!important` here to be able to override the default hidden behavior on the sphinx rendered scikit-learn.org. See: https://github.com/scikit-learn/scikit-learn/issues/21755 */display: inline-block !important;position: relative;}#sk-container-id-2 div.sk-text-repr-fallback {display: none;}</style><div id=\"sk-container-id-2\" class=\"sk-top-container\"><div class=\"sk-text-repr-fallback\"><pre>LogisticRegression()</pre><b>In a Jupyter environment, please rerun this cell to show the HTML representation or trust the notebook. <br />On GitHub, the HTML representation is unable to render, please try loading this page with nbviewer.org.</b></div><div class=\"sk-container\" hidden><div class=\"sk-item\"><div class=\"sk-estimator sk-toggleable\"><input class=\"sk-toggleable__control sk-hidden--visually\" id=\"sk-estimator-id-2\" type=\"checkbox\" checked><label for=\"sk-estimator-id-2\" class=\"sk-toggleable__label sk-toggleable__label-arrow\">LogisticRegression</label><div class=\"sk-toggleable__content\"><pre>LogisticRegression()</pre></div></div></div></div></div>"
      ],
      "text/plain": [
       "LogisticRegression()"
      ]
     },
     "execution_count": 11,
     "metadata": {},
     "output_type": "execute_result"
    }
   ],
   "source": [
    "# Instanciamos el modelo\n",
    "logreg = LogisticRegression()\n",
    "\n",
    "# Entrenamos el modelo\n",
    "logreg.fit(X_train, y_train)"
   ]
  },
  {
   "cell_type": "code",
   "execution_count": 12,
   "id": "12749c97-55b0-47d7-895e-7a484acaf4ea",
   "metadata": {
    "ExecuteTime": {
     "end_time": "2023-07-27T22:22:30.341930+00:00",
     "start_time": "2023-07-27T22:22:30.179585+00:00"
    },
    "id": "0f3595ad-b83e-4aa3-89d2-77287f33e278",
    "noteable": {
     "cell_type": "code"
    }
   },
   "outputs": [
    {
     "data": {
      "text/plain": [
       "68.75"
      ]
     },
     "execution_count": 12,
     "metadata": {},
     "output_type": "execute_result"
    }
   ],
   "source": [
    "# Hacemos predicciones en el conjunto de prueba\n",
    "y_pred = logreg.predict(X_test)\n",
    "\n",
    "# Comparamos las predicciones con las verdaderas etiquetas\n",
    "accuracy = metrics.accuracy_score(y_test, y_pred)\n",
    "accuracy_percentage = 100 * accuracy\n",
    "accuracy_percentage"
   ]
  },
  {
   "cell_type": "code",
   "execution_count": 13,
   "id": "9d0794ce-903e-4c36-acca-ee636ce2580a",
   "metadata": {},
   "outputs": [
    {
     "data": {
      "text/plain": [
       "(array([0.        , 0.01886792, 1.        ]),\n",
       " array([0.        , 0.11111111, 1.        ]),\n",
       " array([inf,  1.,  0.]))"
      ]
     },
     "execution_count": 13,
     "metadata": {},
     "output_type": "execute_result"
    }
   ],
   "source": [
    "metrics.roc_curve(y_test, y_pred)"
   ]
  },
  {
   "cell_type": "markdown",
   "id": "9e42f66f-3159-47ed-aee5-6e4999afe058",
   "metadata": {
    "id": "9e42f66f-3159-47ed-aee5-6e4999afe058",
    "noteable": {
     "cell_type": "markdown"
    }
   },
   "source": [
    "## Ejercicios\n",
    "\n",
    "1. **Interpretación del modelo**: Los coeficientes de un modelo de regresión logística pueden ser interpretados en términos de las probabilidades de los eventos que estamos modelando. Investiga cómo interpretar los coeficientes de un modelo de regresión logística y explica lo que los coeficientes de este modelo nos dicen sobre la relación entre las calificaciones de los exámenes y la admisión a la universidad.\n",
    "\n",
    "2. **Mejora del modelo**: ¿Cómo podrías mejorar el rendimiento de este modelo? Proporciona al menos tres estrategias que podrías utilizar para obtener un modelo más preciso.\n",
    "\n",
    "3. **Evaluación del modelo**: Además de la precisión, hay otras métricas que podemos utilizar para evaluar el rendimiento de un modelo de clasificación. Investiga y explica al menos dos otras métricas que podríamos utilizar para evaluar nuestro modelo de regresión logística. ¿Cómo se calculan estas métricas y qué nos dicen sobre el rendimiento del modelo?\n",
    "\n",
    "4. **Aplicación del modelo**: Imagina que eres un administrador de admisiones en una universidad y estás utilizando este modelo para ayudarte a tomar decisiones de admisión. ¿Cómo podrías utilizar las probabilidades predichas por el modelo en tu proceso de toma de decisiones? ¿Qué otras factores podrías querer considerar además de las probabilidades predichas por el modelo?"
   ]
  },
  {
   "cell_type": "code",
   "execution_count": null,
   "id": "YEW_GNcUea7_",
   "metadata": {
    "id": "YEW_GNcUea7_"
   },
   "outputs": [],
   "source": []
  }
 ],
 "metadata": {
  "colab": {
   "provenance": []
  },
  "kernel_info": {
   "name": "python3"
  },
  "kernelspec": {
   "display_name": "Python 3 (ipykernel)",
   "language": "python",
   "name": "python3"
  },
  "language_info": {
   "codemirror_mode": {
    "name": "ipython",
    "version": 3
   },
   "file_extension": ".py",
   "mimetype": "text/x-python",
   "name": "python",
   "nbconvert_exporter": "python",
   "pygments_lexer": "ipython3",
   "version": "3.10.6"
  },
  "noteable": {
   "last_delta_id": "6767515b-f7cd-4b31-9f01-d29912cddba3",
   "last_transaction_id": "b9971cfe-3786-4e50-b41b-935402966516"
  },
  "noteable-chatgpt": {
   "create_notebook": {
    "openai_conversation_id": "16cc73b7-f9f0-5304-a4dc-17605915978a",
    "openai_ephemeral_user_id": "37c6d4c0-c04d-514c-83fa-7e9ce88df5d5",
    "openai_subdivision1_iso_code": "CO-DC"
   }
  },
  "nteract": {
   "version": "noteable@2.9.0"
  },
  "selected_hardware_size": "small"
 },
 "nbformat": 4,
 "nbformat_minor": 5
}
